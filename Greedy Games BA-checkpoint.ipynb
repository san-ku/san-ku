{
 "cells": [
  {
   "cell_type": "code",
   "execution_count": 1,
   "id": "e90359e4",
   "metadata": {
    "scrolled": true
   },
   "outputs": [],
   "source": [
    "import pandas as pd\n",
    "import numpy as np\n",
    "from datetime import datetime\n",
    "import matplotlib.pyplot as plt\n",
    "%matplotlib inline\n"
   ]
  },
  {
   "cell_type": "markdown",
   "id": "0e5b9b6e",
   "metadata": {},
   "source": [
    "# Importing datasets into Pandas dataframe."
   ]
  },
  {
   "cell_type": "code",
   "execution_count": 2,
   "id": "b84a7990",
   "metadata": {
    "scrolled": true
   },
   "outputs": [],
   "source": [
    "reward_df= pd.read_csv(r\"C:\\Users\\santh\\Downloads\\Datasets\\Q2_rewards details.csv\")\n",
    "complete_df= pd.read_csv(r\"C:\\Users\\santh\\Downloads\\Datasets\\Q2_User offer completion data.csv\")\n",
    "offers_df= pd.read_csv(r\"C:\\Users\\santh\\Downloads\\Datasets\\Q2_User offer data.csv\")\n",
    "signup_df= pd.read_csv(r\"C:\\Users\\santh\\Downloads\\Datasets\\Q2_users signup.csv\")\n",
    "sikka_df= pd.read_csv(r\"C:\\Users\\santh\\Downloads\\Datasets\\Q3_Sikka data.csv\")\n",
    "adx_df= pd.read_csv(r\"C:\\Users\\santh\\Downloads\\Datasets\\Q4_ADX_Sample_data.csv\")"
   ]
  },
  {
   "cell_type": "code",
   "execution_count": 3,
   "id": "2d54b043",
   "metadata": {
    "scrolled": true
   },
   "outputs": [
    {
     "data": {
      "text/html": [
       "<div>\n",
       "<style scoped>\n",
       "    .dataframe tbody tr th:only-of-type {\n",
       "        vertical-align: middle;\n",
       "    }\n",
       "\n",
       "    .dataframe tbody tr th {\n",
       "        vertical-align: top;\n",
       "    }\n",
       "\n",
       "    .dataframe thead th {\n",
       "        text-align: right;\n",
       "    }\n",
       "</style>\n",
       "<table border=\"1\" class=\"dataframe\">\n",
       "  <thead>\n",
       "    <tr style=\"text-align: right;\">\n",
       "      <th></th>\n",
       "      <th>user_id</th>\n",
       "      <th>app_id</th>\n",
       "      <th>signed_up_on</th>\n",
       "      <th>last_login_date</th>\n",
       "    </tr>\n",
       "  </thead>\n",
       "  <tbody>\n",
       "    <tr>\n",
       "      <th>0</th>\n",
       "      <td>c925ccad-98e7-4500-833e-a49aa066aeec</td>\n",
       "      <td>sikka</td>\n",
       "      <td>2022-11-26</td>\n",
       "      <td>2022-11-26</td>\n",
       "    </tr>\n",
       "    <tr>\n",
       "      <th>1</th>\n",
       "      <td>7cdb9d2c-9644-42d0-8d44-50fa57747523</td>\n",
       "      <td>sikka</td>\n",
       "      <td>2022-11-26</td>\n",
       "      <td>2022-11-26</td>\n",
       "    </tr>\n",
       "    <tr>\n",
       "      <th>2</th>\n",
       "      <td>e2dfd115-a8b0-4e3e-96e5-9b11e5f316f1</td>\n",
       "      <td>sikka</td>\n",
       "      <td>2022-11-26</td>\n",
       "      <td>2022-11-28</td>\n",
       "    </tr>\n",
       "    <tr>\n",
       "      <th>3</th>\n",
       "      <td>f55000a3-dd68-44d8-b461-41c85d963ce2</td>\n",
       "      <td>sikka</td>\n",
       "      <td>2022-11-26</td>\n",
       "      <td>2022-11-27</td>\n",
       "    </tr>\n",
       "    <tr>\n",
       "      <th>4</th>\n",
       "      <td>a6d5ed73-5c1c-4666-a592-f93ab4489cf5</td>\n",
       "      <td>sikka</td>\n",
       "      <td>2022-11-26</td>\n",
       "      <td>2022-11-26</td>\n",
       "    </tr>\n",
       "  </tbody>\n",
       "</table>\n",
       "</div>"
      ],
      "text/plain": [
       "                                user_id app_id signed_up_on last_login_date\n",
       "0  c925ccad-98e7-4500-833e-a49aa066aeec  sikka   2022-11-26      2022-11-26\n",
       "1  7cdb9d2c-9644-42d0-8d44-50fa57747523  sikka   2022-11-26      2022-11-26\n",
       "2  e2dfd115-a8b0-4e3e-96e5-9b11e5f316f1  sikka   2022-11-26      2022-11-28\n",
       "3  f55000a3-dd68-44d8-b461-41c85d963ce2  sikka   2022-11-26      2022-11-27\n",
       "4  a6d5ed73-5c1c-4666-a592-f93ab4489cf5  sikka   2022-11-26      2022-11-26"
      ]
     },
     "execution_count": 3,
     "metadata": {},
     "output_type": "execute_result"
    }
   ],
   "source": [
    "#Use signup data.\n",
    "#This table stores the details of every user coming through different marketing channels on ‘Sikka’app.\n",
    "signup_df.head(5)"
   ]
  },
  {
   "cell_type": "code",
   "execution_count": 4,
   "id": "afdb40aa",
   "metadata": {
    "scrolled": true
   },
   "outputs": [
    {
     "data": {
      "text/html": [
       "<div>\n",
       "<style scoped>\n",
       "    .dataframe tbody tr th:only-of-type {\n",
       "        vertical-align: middle;\n",
       "    }\n",
       "\n",
       "    .dataframe tbody tr th {\n",
       "        vertical-align: top;\n",
       "    }\n",
       "\n",
       "    .dataframe thead th {\n",
       "        text-align: right;\n",
       "    }\n",
       "</style>\n",
       "<table border=\"1\" class=\"dataframe\">\n",
       "  <thead>\n",
       "    <tr style=\"text-align: right;\">\n",
       "      <th></th>\n",
       "      <th>Unnamed: 0</th>\n",
       "      <th>reward_id</th>\n",
       "      <th>user_id</th>\n",
       "      <th>date</th>\n",
       "      <th>app_id</th>\n",
       "    </tr>\n",
       "  </thead>\n",
       "  <tbody>\n",
       "    <tr>\n",
       "      <th>0</th>\n",
       "      <td>0</td>\n",
       "      <td>3712</td>\n",
       "      <td>4cb29e43-9f23-42fe-bab8-2422f42e7a91</td>\n",
       "      <td>2022-11-29</td>\n",
       "      <td>sikka</td>\n",
       "    </tr>\n",
       "    <tr>\n",
       "      <th>1</th>\n",
       "      <td>1</td>\n",
       "      <td>935</td>\n",
       "      <td>4cb29e43-9f23-42fe-bab8-2422f42e7a91</td>\n",
       "      <td>2022-11-29</td>\n",
       "      <td>sikka</td>\n",
       "    </tr>\n",
       "    <tr>\n",
       "      <th>2</th>\n",
       "      <td>2</td>\n",
       "      <td>3416</td>\n",
       "      <td>44f9c9f1-1ce1-4b04-8042-ddb1c548c589</td>\n",
       "      <td>2022-11-28</td>\n",
       "      <td>sikka</td>\n",
       "    </tr>\n",
       "    <tr>\n",
       "      <th>3</th>\n",
       "      <td>3</td>\n",
       "      <td>3720</td>\n",
       "      <td>55e70808-0ed9-44fd-9d87-819ba9dc4d3e</td>\n",
       "      <td>2022-11-27</td>\n",
       "      <td>sikka</td>\n",
       "    </tr>\n",
       "    <tr>\n",
       "      <th>4</th>\n",
       "      <td>4</td>\n",
       "      <td>3735</td>\n",
       "      <td>4cb29e43-9f23-42fe-bab8-2422f42e7a91</td>\n",
       "      <td>2022-11-29</td>\n",
       "      <td>sikka</td>\n",
       "    </tr>\n",
       "  </tbody>\n",
       "</table>\n",
       "</div>"
      ],
      "text/plain": [
       "   Unnamed: 0  reward_id                               user_id        date  \\\n",
       "0           0       3712  4cb29e43-9f23-42fe-bab8-2422f42e7a91  2022-11-29   \n",
       "1           1        935  4cb29e43-9f23-42fe-bab8-2422f42e7a91  2022-11-29   \n",
       "2           2       3416  44f9c9f1-1ce1-4b04-8042-ddb1c548c589  2022-11-28   \n",
       "3           3       3720  55e70808-0ed9-44fd-9d87-819ba9dc4d3e  2022-11-27   \n",
       "4           4       3735  4cb29e43-9f23-42fe-bab8-2422f42e7a91  2022-11-29   \n",
       "\n",
       "  app_id  \n",
       "0  sikka  \n",
       "1  sikka  \n",
       "2  sikka  \n",
       "3  sikka  \n",
       "4  sikka  "
      ]
     },
     "execution_count": 4,
     "metadata": {},
     "output_type": "execute_result"
    }
   ],
   "source": [
    "#User offer completion data:\n",
    "#This table stores the data of the offers completed by any ‘Sikka’ user.\n",
    "\n",
    "complete_df.head(5)"
   ]
  },
  {
   "cell_type": "code",
   "execution_count": 5,
   "id": "c7bc72e9",
   "metadata": {
    "scrolled": true
   },
   "outputs": [
    {
     "data": {
      "text/html": [
       "<div>\n",
       "<style scoped>\n",
       "    .dataframe tbody tr th:only-of-type {\n",
       "        vertical-align: middle;\n",
       "    }\n",
       "\n",
       "    .dataframe tbody tr th {\n",
       "        vertical-align: top;\n",
       "    }\n",
       "\n",
       "    .dataframe thead th {\n",
       "        text-align: right;\n",
       "    }\n",
       "</style>\n",
       "<table border=\"1\" class=\"dataframe\">\n",
       "  <thead>\n",
       "    <tr style=\"text-align: right;\">\n",
       "      <th></th>\n",
       "      <th>Unnamed: 0</th>\n",
       "      <th>offer_id</th>\n",
       "      <th>reward_id</th>\n",
       "      <th>label_in_english</th>\n",
       "      <th>total_payout_in_paise</th>\n",
       "      <th>total_revenue_in_paise</th>\n",
       "    </tr>\n",
       "  </thead>\n",
       "  <tbody>\n",
       "    <tr>\n",
       "      <th>0</th>\n",
       "      <td>0</td>\n",
       "      <td>369</td>\n",
       "      <td>451</td>\n",
       "      <td>Download APK</td>\n",
       "      <td>500</td>\n",
       "      <td>0</td>\n",
       "    </tr>\n",
       "    <tr>\n",
       "      <th>1</th>\n",
       "      <td>1</td>\n",
       "      <td>400</td>\n",
       "      <td>488</td>\n",
       "      <td>Download</td>\n",
       "      <td>30</td>\n",
       "      <td>0</td>\n",
       "    </tr>\n",
       "    <tr>\n",
       "      <th>2</th>\n",
       "      <td>2</td>\n",
       "      <td>402</td>\n",
       "      <td>491</td>\n",
       "      <td>Download</td>\n",
       "      <td>500</td>\n",
       "      <td>0</td>\n",
       "    </tr>\n",
       "    <tr>\n",
       "      <th>3</th>\n",
       "      <td>3</td>\n",
       "      <td>447</td>\n",
       "      <td>541</td>\n",
       "      <td>Register on App</td>\n",
       "      <td>500</td>\n",
       "      <td>0</td>\n",
       "    </tr>\n",
       "    <tr>\n",
       "      <th>4</th>\n",
       "      <td>4</td>\n",
       "      <td>478</td>\n",
       "      <td>586</td>\n",
       "      <td>Complete Registration</td>\n",
       "      <td>500</td>\n",
       "      <td>0</td>\n",
       "    </tr>\n",
       "  </tbody>\n",
       "</table>\n",
       "</div>"
      ],
      "text/plain": [
       "   Unnamed: 0  offer_id  reward_id       label_in_english  \\\n",
       "0           0       369        451           Download APK   \n",
       "1           1       400        488               Download   \n",
       "2           2       402        491               Download   \n",
       "3           3       447        541        Register on App   \n",
       "4           4       478        586  Complete Registration   \n",
       "\n",
       "   total_payout_in_paise  total_revenue_in_paise  \n",
       "0                    500                       0  \n",
       "1                     30                       0  \n",
       "2                    500                       0  \n",
       "3                    500                       0  \n",
       "4                    500                       0  "
      ]
     },
     "execution_count": 5,
     "metadata": {},
     "output_type": "execute_result"
    }
   ],
   "source": [
    "#Rewards details:\n",
    "#This table stores the details of every offer-reward that is in the ‘Sikka’ App\n",
    "\n",
    "reward_df.head(5)"
   ]
  },
  {
   "cell_type": "code",
   "execution_count": 6,
   "id": "75eca00f",
   "metadata": {
    "scrolled": true
   },
   "outputs": [
    {
     "data": {
      "text/html": [
       "<div>\n",
       "<style scoped>\n",
       "    .dataframe tbody tr th:only-of-type {\n",
       "        vertical-align: middle;\n",
       "    }\n",
       "\n",
       "    .dataframe tbody tr th {\n",
       "        vertical-align: top;\n",
       "    }\n",
       "\n",
       "    .dataframe thead th {\n",
       "        text-align: right;\n",
       "    }\n",
       "</style>\n",
       "<table border=\"1\" class=\"dataframe\">\n",
       "  <thead>\n",
       "    <tr style=\"text-align: right;\">\n",
       "      <th></th>\n",
       "      <th>Unnamed: 0</th>\n",
       "      <th>user_id</th>\n",
       "      <th>offer_id</th>\n",
       "      <th>status</th>\n",
       "      <th>started_at</th>\n",
       "      <th>completed_at</th>\n",
       "      <th>expires_at</th>\n",
       "    </tr>\n",
       "  </thead>\n",
       "  <tbody>\n",
       "    <tr>\n",
       "      <th>0</th>\n",
       "      <td>0</td>\n",
       "      <td>44f9c9f1-1ce1-4b04-8042-ddb1c548c589</td>\n",
       "      <td>792</td>\n",
       "      <td>ONGOING</td>\n",
       "      <td>2022-11-26 07:25:38.995614+00:00</td>\n",
       "      <td>NaN</td>\n",
       "      <td>2022-11-27 18:29:59+00:00</td>\n",
       "    </tr>\n",
       "    <tr>\n",
       "      <th>1</th>\n",
       "      <td>1</td>\n",
       "      <td>e5c792a3-9cd9-4d10-a7b5-e5ee0f0f5fad</td>\n",
       "      <td>3462</td>\n",
       "      <td>ONGOING</td>\n",
       "      <td>2022-11-26 01:19:42.059483+00:00</td>\n",
       "      <td>NaN</td>\n",
       "      <td>2022-11-28 01:19:42.066140+00:00</td>\n",
       "    </tr>\n",
       "    <tr>\n",
       "      <th>2</th>\n",
       "      <td>2</td>\n",
       "      <td>033c38d4-fd46-45a2-b09a-18d637c54129</td>\n",
       "      <td>3462</td>\n",
       "      <td>ONGOING</td>\n",
       "      <td>2022-11-26 14:12:39.365453+00:00</td>\n",
       "      <td>NaN</td>\n",
       "      <td>2022-11-28 14:12:39.369689+00:00</td>\n",
       "    </tr>\n",
       "    <tr>\n",
       "      <th>3</th>\n",
       "      <td>3</td>\n",
       "      <td>8a488246-83d3-4028-b216-85ee8c3e504d</td>\n",
       "      <td>2328</td>\n",
       "      <td>ONGOING</td>\n",
       "      <td>2022-11-26 02:51:44.438026+00:00</td>\n",
       "      <td>NaN</td>\n",
       "      <td>2022-11-28 02:51:44.441869+00:00</td>\n",
       "    </tr>\n",
       "    <tr>\n",
       "      <th>4</th>\n",
       "      <td>4</td>\n",
       "      <td>aff26172-41d6-4e69-9b02-48011fe35804</td>\n",
       "      <td>3467</td>\n",
       "      <td>ONGOING</td>\n",
       "      <td>2022-11-26 11:44:25.915581+00:00</td>\n",
       "      <td>NaN</td>\n",
       "      <td>2022-11-28 11:44:25.921249+00:00</td>\n",
       "    </tr>\n",
       "  </tbody>\n",
       "</table>\n",
       "</div>"
      ],
      "text/plain": [
       "   Unnamed: 0                               user_id  offer_id   status  \\\n",
       "0           0  44f9c9f1-1ce1-4b04-8042-ddb1c548c589       792  ONGOING   \n",
       "1           1  e5c792a3-9cd9-4d10-a7b5-e5ee0f0f5fad      3462  ONGOING   \n",
       "2           2  033c38d4-fd46-45a2-b09a-18d637c54129      3462  ONGOING   \n",
       "3           3  8a488246-83d3-4028-b216-85ee8c3e504d      2328  ONGOING   \n",
       "4           4  aff26172-41d6-4e69-9b02-48011fe35804      3467  ONGOING   \n",
       "\n",
       "                         started_at completed_at  \\\n",
       "0  2022-11-26 07:25:38.995614+00:00          NaN   \n",
       "1  2022-11-26 01:19:42.059483+00:00          NaN   \n",
       "2  2022-11-26 14:12:39.365453+00:00          NaN   \n",
       "3  2022-11-26 02:51:44.438026+00:00          NaN   \n",
       "4  2022-11-26 11:44:25.915581+00:00          NaN   \n",
       "\n",
       "                         expires_at  \n",
       "0         2022-11-27 18:29:59+00:00  \n",
       "1  2022-11-28 01:19:42.066140+00:00  \n",
       "2  2022-11-28 14:12:39.369689+00:00  \n",
       "3  2022-11-28 02:51:44.441869+00:00  \n",
       "4  2022-11-28 11:44:25.921249+00:00  "
      ]
     },
     "execution_count": 6,
     "metadata": {},
     "output_type": "execute_result"
    }
   ],
   "source": [
    "#User offer data:\n",
    "#This table stores the details of every offer that was initiated on ‘Sikka’ or ‘Sikka pro’ app.\n",
    "\n",
    "offers_df.head(5)\n"
   ]
  },
  {
   "cell_type": "code",
   "execution_count": 7,
   "id": "750d3e10",
   "metadata": {
    "scrolled": true
   },
   "outputs": [
    {
     "data": {
      "text/html": [
       "<div>\n",
       "<style scoped>\n",
       "    .dataframe tbody tr th:only-of-type {\n",
       "        vertical-align: middle;\n",
       "    }\n",
       "\n",
       "    .dataframe tbody tr th {\n",
       "        vertical-align: top;\n",
       "    }\n",
       "\n",
       "    .dataframe thead th {\n",
       "        text-align: right;\n",
       "    }\n",
       "</style>\n",
       "<table border=\"1\" class=\"dataframe\">\n",
       "  <thead>\n",
       "    <tr style=\"text-align: right;\">\n",
       "      <th></th>\n",
       "      <th>Date</th>\n",
       "      <th>DAU</th>\n",
       "      <th>Installs</th>\n",
       "      <th>Uninstalls</th>\n",
       "      <th>Signups</th>\n",
       "      <th>Referrals</th>\n",
       "    </tr>\n",
       "  </thead>\n",
       "  <tbody>\n",
       "    <tr>\n",
       "      <th>0</th>\n",
       "      <td>2022-10-01</td>\n",
       "      <td>24071</td>\n",
       "      <td>6630</td>\n",
       "      <td>6994</td>\n",
       "      <td>3511</td>\n",
       "      <td>962.0</td>\n",
       "    </tr>\n",
       "    <tr>\n",
       "      <th>1</th>\n",
       "      <td>2022-10-02</td>\n",
       "      <td>23548</td>\n",
       "      <td>6366</td>\n",
       "      <td>6669</td>\n",
       "      <td>3387</td>\n",
       "      <td>941.0</td>\n",
       "    </tr>\n",
       "    <tr>\n",
       "      <th>2</th>\n",
       "      <td>2022-10-03</td>\n",
       "      <td>24572</td>\n",
       "      <td>6936</td>\n",
       "      <td>6899</td>\n",
       "      <td>3654</td>\n",
       "      <td>940.0</td>\n",
       "    </tr>\n",
       "    <tr>\n",
       "      <th>3</th>\n",
       "      <td>2022-10-04</td>\n",
       "      <td>24212</td>\n",
       "      <td>6561</td>\n",
       "      <td>6766</td>\n",
       "      <td>3532</td>\n",
       "      <td>960.0</td>\n",
       "    </tr>\n",
       "    <tr>\n",
       "      <th>4</th>\n",
       "      <td>2022-10-05</td>\n",
       "      <td>23247</td>\n",
       "      <td>6059</td>\n",
       "      <td>6402</td>\n",
       "      <td>3315</td>\n",
       "      <td>923.0</td>\n",
       "    </tr>\n",
       "  </tbody>\n",
       "</table>\n",
       "</div>"
      ],
      "text/plain": [
       "         Date    DAU  Installs  Uninstalls  Signups  Referrals\n",
       "0  2022-10-01  24071      6630        6994     3511      962.0\n",
       "1  2022-10-02  23548      6366        6669     3387      941.0\n",
       "2  2022-10-03  24572      6936        6899     3654      940.0\n",
       "3  2022-10-04  24212      6561        6766     3532      960.0\n",
       "4  2022-10-05  23247      6059        6402     3315      923.0"
      ]
     },
     "execution_count": 7,
     "metadata": {},
     "output_type": "execute_result"
    }
   ],
   "source": [
    "#Here you are given the Install numbers, uninstall numbers, daily signups, number of daily active\n",
    "#users and number of referrals made of the ‘Sikka’ app for the month of October 2022. Also, the\n",
    "#Install numbers, uninstall numbers, daily signups, number of daily active users for the first 15 days\n",
    "#of November is given.\n",
    "\n",
    "sikka_df.head(5)"
   ]
  },
  {
   "cell_type": "code",
   "execution_count": 8,
   "id": "2d661380",
   "metadata": {
    "scrolled": true
   },
   "outputs": [
    {
     "data": {
      "text/html": [
       "<div>\n",
       "<style scoped>\n",
       "    .dataframe tbody tr th:only-of-type {\n",
       "        vertical-align: middle;\n",
       "    }\n",
       "\n",
       "    .dataframe tbody tr th {\n",
       "        vertical-align: top;\n",
       "    }\n",
       "\n",
       "    .dataframe thead th {\n",
       "        text-align: right;\n",
       "    }\n",
       "</style>\n",
       "<table border=\"1\" class=\"dataframe\">\n",
       "  <thead>\n",
       "    <tr style=\"text-align: right;\">\n",
       "      <th></th>\n",
       "      <th>date</th>\n",
       "      <th>pub_id</th>\n",
       "      <th>app_id</th>\n",
       "      <th>ad_unit_code</th>\n",
       "      <th>country</th>\n",
       "      <th>requests</th>\n",
       "      <th>ae_responses</th>\n",
       "      <th>ae_impressions</th>\n",
       "      <th>ae_clicks</th>\n",
       "      <th>ae_revenue</th>\n",
       "    </tr>\n",
       "  </thead>\n",
       "  <tbody>\n",
       "    <tr>\n",
       "      <th>0</th>\n",
       "      <td>2022-10-20</td>\n",
       "      <td>1987</td>\n",
       "      <td>16243270</td>\n",
       "      <td>22832846443</td>\n",
       "      <td>Tanzania</td>\n",
       "      <td>36</td>\n",
       "      <td>36</td>\n",
       "      <td>34</td>\n",
       "      <td>0</td>\n",
       "      <td>0.035738</td>\n",
       "    </tr>\n",
       "    <tr>\n",
       "      <th>1</th>\n",
       "      <td>2022-10-20</td>\n",
       "      <td>1987</td>\n",
       "      <td>16243270</td>\n",
       "      <td>22832846593</td>\n",
       "      <td>Tanzania</td>\n",
       "      <td>24</td>\n",
       "      <td>24</td>\n",
       "      <td>23</td>\n",
       "      <td>0</td>\n",
       "      <td>0.064384</td>\n",
       "    </tr>\n",
       "    <tr>\n",
       "      <th>2</th>\n",
       "      <td>2022-10-20</td>\n",
       "      <td>1987</td>\n",
       "      <td>16243270</td>\n",
       "      <td>22832846443</td>\n",
       "      <td>Thailand</td>\n",
       "      <td>949</td>\n",
       "      <td>949</td>\n",
       "      <td>876</td>\n",
       "      <td>20</td>\n",
       "      <td>4.943878</td>\n",
       "    </tr>\n",
       "    <tr>\n",
       "      <th>3</th>\n",
       "      <td>2022-10-20</td>\n",
       "      <td>1987</td>\n",
       "      <td>16243270</td>\n",
       "      <td>22832846593</td>\n",
       "      <td>Thailand</td>\n",
       "      <td>1006</td>\n",
       "      <td>907</td>\n",
       "      <td>688</td>\n",
       "      <td>134</td>\n",
       "      <td>24.226836</td>\n",
       "    </tr>\n",
       "    <tr>\n",
       "      <th>4</th>\n",
       "      <td>2022-10-20</td>\n",
       "      <td>1987</td>\n",
       "      <td>16243270</td>\n",
       "      <td>22832827729</td>\n",
       "      <td>Thailand</td>\n",
       "      <td>373</td>\n",
       "      <td>287</td>\n",
       "      <td>156</td>\n",
       "      <td>20</td>\n",
       "      <td>2.759392</td>\n",
       "    </tr>\n",
       "    <tr>\n",
       "      <th>...</th>\n",
       "      <td>...</td>\n",
       "      <td>...</td>\n",
       "      <td>...</td>\n",
       "      <td>...</td>\n",
       "      <td>...</td>\n",
       "      <td>...</td>\n",
       "      <td>...</td>\n",
       "      <td>...</td>\n",
       "      <td>...</td>\n",
       "      <td>...</td>\n",
       "    </tr>\n",
       "    <tr>\n",
       "      <th>47930</th>\n",
       "      <td>2022-10-22</td>\n",
       "      <td>14</td>\n",
       "      <td>95674771</td>\n",
       "      <td>22770341049</td>\n",
       "      <td>El Salvador</td>\n",
       "      <td>34</td>\n",
       "      <td>34</td>\n",
       "      <td>21</td>\n",
       "      <td>4</td>\n",
       "      <td>0.022347</td>\n",
       "    </tr>\n",
       "    <tr>\n",
       "      <th>47931</th>\n",
       "      <td>2022-10-22</td>\n",
       "      <td>14</td>\n",
       "      <td>95674771</td>\n",
       "      <td>22770341430</td>\n",
       "      <td>Jordan</td>\n",
       "      <td>34</td>\n",
       "      <td>34</td>\n",
       "      <td>21</td>\n",
       "      <td>0</td>\n",
       "      <td>0.011894</td>\n",
       "    </tr>\n",
       "    <tr>\n",
       "      <th>47932</th>\n",
       "      <td>2022-10-22</td>\n",
       "      <td>14</td>\n",
       "      <td>95674771</td>\n",
       "      <td>22770341430</td>\n",
       "      <td>Somalia</td>\n",
       "      <td>46</td>\n",
       "      <td>46</td>\n",
       "      <td>21</td>\n",
       "      <td>2</td>\n",
       "      <td>0.003189</td>\n",
       "    </tr>\n",
       "    <tr>\n",
       "      <th>47933</th>\n",
       "      <td>2022-10-22</td>\n",
       "      <td>14</td>\n",
       "      <td>95674771</td>\n",
       "      <td>22770341598</td>\n",
       "      <td>Portugal</td>\n",
       "      <td>21</td>\n",
       "      <td>21</td>\n",
       "      <td>21</td>\n",
       "      <td>5</td>\n",
       "      <td>0.159408</td>\n",
       "    </tr>\n",
       "    <tr>\n",
       "      <th>47934</th>\n",
       "      <td>2022-10-22</td>\n",
       "      <td>14</td>\n",
       "      <td>95674771</td>\n",
       "      <td>22770341049</td>\n",
       "      <td>Thailand</td>\n",
       "      <td>40</td>\n",
       "      <td>40</td>\n",
       "      <td>21</td>\n",
       "      <td>1</td>\n",
       "      <td>0.140938</td>\n",
       "    </tr>\n",
       "  </tbody>\n",
       "</table>\n",
       "<p>47935 rows × 10 columns</p>\n",
       "</div>"
      ],
      "text/plain": [
       "             date  pub_id    app_id  ad_unit_code      country  requests  \\\n",
       "0      2022-10-20    1987  16243270   22832846443     Tanzania        36   \n",
       "1      2022-10-20    1987  16243270   22832846593     Tanzania        24   \n",
       "2      2022-10-20    1987  16243270   22832846443     Thailand       949   \n",
       "3      2022-10-20    1987  16243270   22832846593     Thailand      1006   \n",
       "4      2022-10-20    1987  16243270   22832827729     Thailand       373   \n",
       "...           ...     ...       ...           ...          ...       ...   \n",
       "47930  2022-10-22      14  95674771   22770341049  El Salvador        34   \n",
       "47931  2022-10-22      14  95674771   22770341430       Jordan        34   \n",
       "47932  2022-10-22      14  95674771   22770341430      Somalia        46   \n",
       "47933  2022-10-22      14  95674771   22770341598     Portugal        21   \n",
       "47934  2022-10-22      14  95674771   22770341049     Thailand        40   \n",
       "\n",
       "       ae_responses  ae_impressions  ae_clicks  ae_revenue  \n",
       "0                36              34          0    0.035738  \n",
       "1                24              23          0    0.064384  \n",
       "2               949             876         20    4.943878  \n",
       "3               907             688        134   24.226836  \n",
       "4               287             156         20    2.759392  \n",
       "...             ...             ...        ...         ...  \n",
       "47930            34              21          4    0.022347  \n",
       "47931            34              21          0    0.011894  \n",
       "47932            46              21          2    0.003189  \n",
       "47933            21              21          5    0.159408  \n",
       "47934            40              21          1    0.140938  \n",
       "\n",
       "[47935 rows x 10 columns]"
      ]
     },
     "execution_count": 8,
     "metadata": {},
     "output_type": "execute_result"
    }
   ],
   "source": [
    " #ADX is an ad exchange platform for large publishers with significant sales. It supports both Web\n",
    "#and mobile apps & game inventories. Through ADX, publishers can sell their ad inventory to\n",
    "#advertisers and agencies using real-time bidding technology. AdX provides more efficient usage of\n",
    "#ad spaces using real-time auctions.\n",
    "\n",
    "adx_df"
   ]
  },
  {
   "cell_type": "markdown",
   "id": "88919d2d",
   "metadata": {},
   "source": [
    "# Exploratory Data Anlaysis"
   ]
  },
  {
   "cell_type": "code",
   "execution_count": 9,
   "id": "691d1d69",
   "metadata": {
    "scrolled": true
   },
   "outputs": [
    {
     "data": {
      "text/html": [
       "<div>\n",
       "<style scoped>\n",
       "    .dataframe tbody tr th:only-of-type {\n",
       "        vertical-align: middle;\n",
       "    }\n",
       "\n",
       "    .dataframe tbody tr th {\n",
       "        vertical-align: top;\n",
       "    }\n",
       "\n",
       "    .dataframe thead th {\n",
       "        text-align: right;\n",
       "    }\n",
       "</style>\n",
       "<table border=\"1\" class=\"dataframe\">\n",
       "  <thead>\n",
       "    <tr style=\"text-align: right;\">\n",
       "      <th></th>\n",
       "      <th>user_id</th>\n",
       "      <th>app_id</th>\n",
       "      <th>signed_up_on</th>\n",
       "      <th>last_login_date</th>\n",
       "    </tr>\n",
       "  </thead>\n",
       "  <tbody>\n",
       "    <tr>\n",
       "      <th>0</th>\n",
       "      <td>c925ccad-98e7-4500-833e-a49aa066aeec</td>\n",
       "      <td>sikka</td>\n",
       "      <td>2022-11-26</td>\n",
       "      <td>2022-11-26</td>\n",
       "    </tr>\n",
       "    <tr>\n",
       "      <th>1</th>\n",
       "      <td>7cdb9d2c-9644-42d0-8d44-50fa57747523</td>\n",
       "      <td>sikka</td>\n",
       "      <td>2022-11-26</td>\n",
       "      <td>2022-11-26</td>\n",
       "    </tr>\n",
       "    <tr>\n",
       "      <th>2</th>\n",
       "      <td>e2dfd115-a8b0-4e3e-96e5-9b11e5f316f1</td>\n",
       "      <td>sikka</td>\n",
       "      <td>2022-11-26</td>\n",
       "      <td>2022-11-28</td>\n",
       "    </tr>\n",
       "    <tr>\n",
       "      <th>3</th>\n",
       "      <td>f55000a3-dd68-44d8-b461-41c85d963ce2</td>\n",
       "      <td>sikka</td>\n",
       "      <td>2022-11-26</td>\n",
       "      <td>2022-11-27</td>\n",
       "    </tr>\n",
       "    <tr>\n",
       "      <th>4</th>\n",
       "      <td>a6d5ed73-5c1c-4666-a592-f93ab4489cf5</td>\n",
       "      <td>sikka</td>\n",
       "      <td>2022-11-26</td>\n",
       "      <td>2022-11-26</td>\n",
       "    </tr>\n",
       "  </tbody>\n",
       "</table>\n",
       "</div>"
      ],
      "text/plain": [
       "                                user_id app_id signed_up_on last_login_date\n",
       "0  c925ccad-98e7-4500-833e-a49aa066aeec  sikka   2022-11-26      2022-11-26\n",
       "1  7cdb9d2c-9644-42d0-8d44-50fa57747523  sikka   2022-11-26      2022-11-26\n",
       "2  e2dfd115-a8b0-4e3e-96e5-9b11e5f316f1  sikka   2022-11-26      2022-11-28\n",
       "3  f55000a3-dd68-44d8-b461-41c85d963ce2  sikka   2022-11-26      2022-11-27\n",
       "4  a6d5ed73-5c1c-4666-a592-f93ab4489cf5  sikka   2022-11-26      2022-11-26"
      ]
     },
     "execution_count": 9,
     "metadata": {},
     "output_type": "execute_result"
    }
   ],
   "source": [
    "\n",
    "signup_df.head(5)"
   ]
  },
  {
   "cell_type": "code",
   "execution_count": 10,
   "id": "7738903d",
   "metadata": {
    "scrolled": true
   },
   "outputs": [
    {
     "data": {
      "text/plain": [
       "Index(['user_id', 'app_id', 'signed_up_on', 'last_login_date'], dtype='object')"
      ]
     },
     "execution_count": 10,
     "metadata": {},
     "output_type": "execute_result"
    }
   ],
   "source": [
    "signup_df.columns"
   ]
  },
  {
   "cell_type": "code",
   "execution_count": 11,
   "id": "61a90b14",
   "metadata": {
    "scrolled": true
   },
   "outputs": [
    {
     "data": {
      "text/plain": [
       "user_id            object\n",
       "app_id             object\n",
       "signed_up_on       object\n",
       "last_login_date    object\n",
       "dtype: object"
      ]
     },
     "execution_count": 11,
     "metadata": {},
     "output_type": "execute_result"
    }
   ],
   "source": [
    "signup_df.dtypes"
   ]
  },
  {
   "cell_type": "code",
   "execution_count": 12,
   "id": "c5f8e5e4",
   "metadata": {
    "scrolled": true
   },
   "outputs": [],
   "source": [
    "# convert datatype of 'signed_up_on', 'last_login_date' to date type.\n",
    "\n",
    "signup_df.signed_up_on=pd.to_datetime(signup_df.signed_up_on)\n",
    "signup_df.last_login_date=pd.to_datetime(signup_df.last_login_date)"
   ]
  },
  {
   "cell_type": "code",
   "execution_count": 13,
   "id": "d1f31789",
   "metadata": {
    "scrolled": true
   },
   "outputs": [
    {
     "data": {
      "text/plain": [
       "user_id                    object\n",
       "app_id                     object\n",
       "signed_up_on       datetime64[ns]\n",
       "last_login_date    datetime64[ns]\n",
       "dtype: object"
      ]
     },
     "execution_count": 13,
     "metadata": {},
     "output_type": "execute_result"
    }
   ],
   "source": [
    "signup_df.dtypes"
   ]
  },
  {
   "cell_type": "code",
   "execution_count": 14,
   "id": "c8dcf208",
   "metadata": {
    "scrolled": true
   },
   "outputs": [
    {
     "data": {
      "text/html": [
       "<div>\n",
       "<style scoped>\n",
       "    .dataframe tbody tr th:only-of-type {\n",
       "        vertical-align: middle;\n",
       "    }\n",
       "\n",
       "    .dataframe tbody tr th {\n",
       "        vertical-align: top;\n",
       "    }\n",
       "\n",
       "    .dataframe thead th {\n",
       "        text-align: right;\n",
       "    }\n",
       "</style>\n",
       "<table border=\"1\" class=\"dataframe\">\n",
       "  <thead>\n",
       "    <tr style=\"text-align: right;\">\n",
       "      <th></th>\n",
       "      <th>user_id</th>\n",
       "      <th>app_id</th>\n",
       "      <th>signed_up_on</th>\n",
       "      <th>last_login_date</th>\n",
       "    </tr>\n",
       "  </thead>\n",
       "  <tbody>\n",
       "    <tr>\n",
       "      <th>0</th>\n",
       "      <td>c925ccad-98e7-4500-833e-a49aa066aeec</td>\n",
       "      <td>sikka</td>\n",
       "      <td>2022-11-26</td>\n",
       "      <td>2022-11-26</td>\n",
       "    </tr>\n",
       "    <tr>\n",
       "      <th>1</th>\n",
       "      <td>7cdb9d2c-9644-42d0-8d44-50fa57747523</td>\n",
       "      <td>sikka</td>\n",
       "      <td>2022-11-26</td>\n",
       "      <td>2022-11-26</td>\n",
       "    </tr>\n",
       "    <tr>\n",
       "      <th>2</th>\n",
       "      <td>e2dfd115-a8b0-4e3e-96e5-9b11e5f316f1</td>\n",
       "      <td>sikka</td>\n",
       "      <td>2022-11-26</td>\n",
       "      <td>2022-11-28</td>\n",
       "    </tr>\n",
       "    <tr>\n",
       "      <th>3</th>\n",
       "      <td>f55000a3-dd68-44d8-b461-41c85d963ce2</td>\n",
       "      <td>sikka</td>\n",
       "      <td>2022-11-26</td>\n",
       "      <td>2022-11-27</td>\n",
       "    </tr>\n",
       "    <tr>\n",
       "      <th>4</th>\n",
       "      <td>a6d5ed73-5c1c-4666-a592-f93ab4489cf5</td>\n",
       "      <td>sikka</td>\n",
       "      <td>2022-11-26</td>\n",
       "      <td>2022-11-26</td>\n",
       "    </tr>\n",
       "    <tr>\n",
       "      <th>...</th>\n",
       "      <td>...</td>\n",
       "      <td>...</td>\n",
       "      <td>...</td>\n",
       "      <td>...</td>\n",
       "    </tr>\n",
       "    <tr>\n",
       "      <th>95</th>\n",
       "      <td>fe1a886f-08c0-4cd2-9e0b-27494ee4fef5</td>\n",
       "      <td>sikka_pro</td>\n",
       "      <td>2022-11-26</td>\n",
       "      <td>2022-11-26</td>\n",
       "    </tr>\n",
       "    <tr>\n",
       "      <th>96</th>\n",
       "      <td>0e205d6d-d50b-4dba-a0cd-0355b4f2cc49</td>\n",
       "      <td>sikka_pro</td>\n",
       "      <td>2022-11-26</td>\n",
       "      <td>2022-11-29</td>\n",
       "    </tr>\n",
       "    <tr>\n",
       "      <th>97</th>\n",
       "      <td>bba5bdf4-9728-42c3-8897-a7dc73ec3594</td>\n",
       "      <td>sikka_pro</td>\n",
       "      <td>2022-11-26</td>\n",
       "      <td>2022-11-26</td>\n",
       "    </tr>\n",
       "    <tr>\n",
       "      <th>98</th>\n",
       "      <td>a83cc0e7-637c-464c-b6ad-407c6c94a633</td>\n",
       "      <td>sikka_pro</td>\n",
       "      <td>2022-11-26</td>\n",
       "      <td>2022-11-27</td>\n",
       "    </tr>\n",
       "    <tr>\n",
       "      <th>99</th>\n",
       "      <td>18f9d5c1-c378-4c3a-b829-f5d81ca03653</td>\n",
       "      <td>sikka_pro</td>\n",
       "      <td>2022-11-26</td>\n",
       "      <td>2022-11-27</td>\n",
       "    </tr>\n",
       "  </tbody>\n",
       "</table>\n",
       "<p>100 rows × 4 columns</p>\n",
       "</div>"
      ],
      "text/plain": [
       "                                 user_id     app_id signed_up_on  \\\n",
       "0   c925ccad-98e7-4500-833e-a49aa066aeec      sikka   2022-11-26   \n",
       "1   7cdb9d2c-9644-42d0-8d44-50fa57747523      sikka   2022-11-26   \n",
       "2   e2dfd115-a8b0-4e3e-96e5-9b11e5f316f1      sikka   2022-11-26   \n",
       "3   f55000a3-dd68-44d8-b461-41c85d963ce2      sikka   2022-11-26   \n",
       "4   a6d5ed73-5c1c-4666-a592-f93ab4489cf5      sikka   2022-11-26   \n",
       "..                                   ...        ...          ...   \n",
       "95  fe1a886f-08c0-4cd2-9e0b-27494ee4fef5  sikka_pro   2022-11-26   \n",
       "96  0e205d6d-d50b-4dba-a0cd-0355b4f2cc49  sikka_pro   2022-11-26   \n",
       "97  bba5bdf4-9728-42c3-8897-a7dc73ec3594  sikka_pro   2022-11-26   \n",
       "98  a83cc0e7-637c-464c-b6ad-407c6c94a633  sikka_pro   2022-11-26   \n",
       "99  18f9d5c1-c378-4c3a-b829-f5d81ca03653  sikka_pro   2022-11-26   \n",
       "\n",
       "   last_login_date  \n",
       "0       2022-11-26  \n",
       "1       2022-11-26  \n",
       "2       2022-11-28  \n",
       "3       2022-11-27  \n",
       "4       2022-11-26  \n",
       "..             ...  \n",
       "95      2022-11-26  \n",
       "96      2022-11-29  \n",
       "97      2022-11-26  \n",
       "98      2022-11-27  \n",
       "99      2022-11-27  \n",
       "\n",
       "[100 rows x 4 columns]"
      ]
     },
     "execution_count": 14,
     "metadata": {},
     "output_type": "execute_result"
    }
   ],
   "source": [
    "\n",
    "\n",
    "signup_df"
   ]
  },
  {
   "cell_type": "markdown",
   "id": "c67deb18",
   "metadata": {},
   "source": [
    "# -------------------------------------------------------------------------------------------------------"
   ]
  },
  {
   "cell_type": "code",
   "execution_count": 15,
   "id": "caf9a7d1",
   "metadata": {
    "scrolled": true
   },
   "outputs": [
    {
     "data": {
      "text/html": [
       "<div>\n",
       "<style scoped>\n",
       "    .dataframe tbody tr th:only-of-type {\n",
       "        vertical-align: middle;\n",
       "    }\n",
       "\n",
       "    .dataframe tbody tr th {\n",
       "        vertical-align: top;\n",
       "    }\n",
       "\n",
       "    .dataframe thead th {\n",
       "        text-align: right;\n",
       "    }\n",
       "</style>\n",
       "<table border=\"1\" class=\"dataframe\">\n",
       "  <thead>\n",
       "    <tr style=\"text-align: right;\">\n",
       "      <th></th>\n",
       "      <th>Unnamed: 0</th>\n",
       "      <th>reward_id</th>\n",
       "      <th>user_id</th>\n",
       "      <th>date</th>\n",
       "      <th>app_id</th>\n",
       "    </tr>\n",
       "  </thead>\n",
       "  <tbody>\n",
       "    <tr>\n",
       "      <th>0</th>\n",
       "      <td>0</td>\n",
       "      <td>3712</td>\n",
       "      <td>4cb29e43-9f23-42fe-bab8-2422f42e7a91</td>\n",
       "      <td>2022-11-29</td>\n",
       "      <td>sikka</td>\n",
       "    </tr>\n",
       "    <tr>\n",
       "      <th>1</th>\n",
       "      <td>1</td>\n",
       "      <td>935</td>\n",
       "      <td>4cb29e43-9f23-42fe-bab8-2422f42e7a91</td>\n",
       "      <td>2022-11-29</td>\n",
       "      <td>sikka</td>\n",
       "    </tr>\n",
       "    <tr>\n",
       "      <th>2</th>\n",
       "      <td>2</td>\n",
       "      <td>3416</td>\n",
       "      <td>44f9c9f1-1ce1-4b04-8042-ddb1c548c589</td>\n",
       "      <td>2022-11-28</td>\n",
       "      <td>sikka</td>\n",
       "    </tr>\n",
       "    <tr>\n",
       "      <th>3</th>\n",
       "      <td>3</td>\n",
       "      <td>3720</td>\n",
       "      <td>55e70808-0ed9-44fd-9d87-819ba9dc4d3e</td>\n",
       "      <td>2022-11-27</td>\n",
       "      <td>sikka</td>\n",
       "    </tr>\n",
       "    <tr>\n",
       "      <th>4</th>\n",
       "      <td>4</td>\n",
       "      <td>3735</td>\n",
       "      <td>4cb29e43-9f23-42fe-bab8-2422f42e7a91</td>\n",
       "      <td>2022-11-29</td>\n",
       "      <td>sikka</td>\n",
       "    </tr>\n",
       "  </tbody>\n",
       "</table>\n",
       "</div>"
      ],
      "text/plain": [
       "   Unnamed: 0  reward_id                               user_id        date  \\\n",
       "0           0       3712  4cb29e43-9f23-42fe-bab8-2422f42e7a91  2022-11-29   \n",
       "1           1        935  4cb29e43-9f23-42fe-bab8-2422f42e7a91  2022-11-29   \n",
       "2           2       3416  44f9c9f1-1ce1-4b04-8042-ddb1c548c589  2022-11-28   \n",
       "3           3       3720  55e70808-0ed9-44fd-9d87-819ba9dc4d3e  2022-11-27   \n",
       "4           4       3735  4cb29e43-9f23-42fe-bab8-2422f42e7a91  2022-11-29   \n",
       "\n",
       "  app_id  \n",
       "0  sikka  \n",
       "1  sikka  \n",
       "2  sikka  \n",
       "3  sikka  \n",
       "4  sikka  "
      ]
     },
     "execution_count": 15,
     "metadata": {},
     "output_type": "execute_result"
    }
   ],
   "source": [
    "complete_df.head(5)"
   ]
  },
  {
   "cell_type": "code",
   "execution_count": 16,
   "id": "e12a3264",
   "metadata": {
    "scrolled": true
   },
   "outputs": [
    {
     "data": {
      "text/plain": [
       "Index(['Unnamed: 0', 'reward_id', 'user_id', 'date', 'app_id'], dtype='object')"
      ]
     },
     "execution_count": 16,
     "metadata": {},
     "output_type": "execute_result"
    }
   ],
   "source": [
    "complete_df.columns"
   ]
  },
  {
   "cell_type": "code",
   "execution_count": 17,
   "id": "49b473ba",
   "metadata": {
    "scrolled": true
   },
   "outputs": [
    {
     "data": {
      "text/plain": [
       "Unnamed: 0     int64\n",
       "reward_id      int64\n",
       "user_id       object\n",
       "date          object\n",
       "app_id        object\n",
       "dtype: object"
      ]
     },
     "execution_count": 17,
     "metadata": {},
     "output_type": "execute_result"
    }
   ],
   "source": [
    "complete_df.dtypes"
   ]
  },
  {
   "cell_type": "code",
   "execution_count": 18,
   "id": "d33959b3",
   "metadata": {
    "scrolled": true
   },
   "outputs": [],
   "source": [
    "#lets drop unknow columns 'Unnamed: 0'\n",
    "complete_df.drop(columns=\"Unnamed: 0\",inplace=True)"
   ]
  },
  {
   "cell_type": "code",
   "execution_count": 19,
   "id": "1505e21a",
   "metadata": {
    "scrolled": true
   },
   "outputs": [],
   "source": [
    "# convert datatype of 'date' to date type.\n",
    "\n",
    "complete_df.date= pd.to_datetime(complete_df.date)\n"
   ]
  },
  {
   "cell_type": "code",
   "execution_count": 20,
   "id": "519aaef4",
   "metadata": {
    "scrolled": true
   },
   "outputs": [
    {
     "data": {
      "text/plain": [
       "reward_id             int64\n",
       "user_id              object\n",
       "date         datetime64[ns]\n",
       "app_id               object\n",
       "dtype: object"
      ]
     },
     "execution_count": 20,
     "metadata": {},
     "output_type": "execute_result"
    }
   ],
   "source": [
    "complete_df.dtypes"
   ]
  },
  {
   "cell_type": "markdown",
   "id": "5bd10fc8",
   "metadata": {},
   "source": [
    "# -------------------------------------------------------------------------------------------------------"
   ]
  },
  {
   "cell_type": "code",
   "execution_count": 21,
   "id": "1e7be41e",
   "metadata": {
    "scrolled": true
   },
   "outputs": [
    {
     "data": {
      "text/html": [
       "<div>\n",
       "<style scoped>\n",
       "    .dataframe tbody tr th:only-of-type {\n",
       "        vertical-align: middle;\n",
       "    }\n",
       "\n",
       "    .dataframe tbody tr th {\n",
       "        vertical-align: top;\n",
       "    }\n",
       "\n",
       "    .dataframe thead th {\n",
       "        text-align: right;\n",
       "    }\n",
       "</style>\n",
       "<table border=\"1\" class=\"dataframe\">\n",
       "  <thead>\n",
       "    <tr style=\"text-align: right;\">\n",
       "      <th></th>\n",
       "      <th>Unnamed: 0</th>\n",
       "      <th>offer_id</th>\n",
       "      <th>reward_id</th>\n",
       "      <th>label_in_english</th>\n",
       "      <th>total_payout_in_paise</th>\n",
       "      <th>total_revenue_in_paise</th>\n",
       "    </tr>\n",
       "  </thead>\n",
       "  <tbody>\n",
       "    <tr>\n",
       "      <th>0</th>\n",
       "      <td>0</td>\n",
       "      <td>369</td>\n",
       "      <td>451</td>\n",
       "      <td>Download APK</td>\n",
       "      <td>500</td>\n",
       "      <td>0</td>\n",
       "    </tr>\n",
       "    <tr>\n",
       "      <th>1</th>\n",
       "      <td>1</td>\n",
       "      <td>400</td>\n",
       "      <td>488</td>\n",
       "      <td>Download</td>\n",
       "      <td>30</td>\n",
       "      <td>0</td>\n",
       "    </tr>\n",
       "    <tr>\n",
       "      <th>2</th>\n",
       "      <td>2</td>\n",
       "      <td>402</td>\n",
       "      <td>491</td>\n",
       "      <td>Download</td>\n",
       "      <td>500</td>\n",
       "      <td>0</td>\n",
       "    </tr>\n",
       "    <tr>\n",
       "      <th>3</th>\n",
       "      <td>3</td>\n",
       "      <td>447</td>\n",
       "      <td>541</td>\n",
       "      <td>Register on App</td>\n",
       "      <td>500</td>\n",
       "      <td>0</td>\n",
       "    </tr>\n",
       "    <tr>\n",
       "      <th>4</th>\n",
       "      <td>4</td>\n",
       "      <td>478</td>\n",
       "      <td>586</td>\n",
       "      <td>Complete Registration</td>\n",
       "      <td>500</td>\n",
       "      <td>0</td>\n",
       "    </tr>\n",
       "  </tbody>\n",
       "</table>\n",
       "</div>"
      ],
      "text/plain": [
       "   Unnamed: 0  offer_id  reward_id       label_in_english  \\\n",
       "0           0       369        451           Download APK   \n",
       "1           1       400        488               Download   \n",
       "2           2       402        491               Download   \n",
       "3           3       447        541        Register on App   \n",
       "4           4       478        586  Complete Registration   \n",
       "\n",
       "   total_payout_in_paise  total_revenue_in_paise  \n",
       "0                    500                       0  \n",
       "1                     30                       0  \n",
       "2                    500                       0  \n",
       "3                    500                       0  \n",
       "4                    500                       0  "
      ]
     },
     "execution_count": 21,
     "metadata": {},
     "output_type": "execute_result"
    }
   ],
   "source": [
    "reward_df.head(5)"
   ]
  },
  {
   "cell_type": "code",
   "execution_count": 22,
   "id": "f6c205ee",
   "metadata": {
    "scrolled": true
   },
   "outputs": [
    {
     "data": {
      "text/plain": [
       "Index(['Unnamed: 0', 'offer_id', 'reward_id', 'label_in_english',\n",
       "       'total_payout_in_paise', 'total_revenue_in_paise'],\n",
       "      dtype='object')"
      ]
     },
     "execution_count": 22,
     "metadata": {},
     "output_type": "execute_result"
    }
   ],
   "source": [
    "reward_df.columns"
   ]
  },
  {
   "cell_type": "code",
   "execution_count": 23,
   "id": "3ac13408",
   "metadata": {
    "scrolled": true
   },
   "outputs": [
    {
     "data": {
      "text/plain": [
       "Unnamed: 0                 int64\n",
       "offer_id                   int64\n",
       "reward_id                  int64\n",
       "label_in_english          object\n",
       "total_payout_in_paise      int64\n",
       "total_revenue_in_paise     int64\n",
       "dtype: object"
      ]
     },
     "execution_count": 23,
     "metadata": {},
     "output_type": "execute_result"
    }
   ],
   "source": [
    "reward_df.dtypes"
   ]
  },
  {
   "cell_type": "code",
   "execution_count": 24,
   "id": "d4d9a0b4",
   "metadata": {
    "scrolled": true
   },
   "outputs": [],
   "source": [
    "#lets drop unknow columns 'Unnamed: 0'\n",
    "\n",
    "reward_df.drop(columns='Unnamed: 0',inplace=True)"
   ]
  },
  {
   "cell_type": "code",
   "execution_count": 25,
   "id": "e4982cd0",
   "metadata": {
    "scrolled": true
   },
   "outputs": [
    {
     "data": {
      "text/plain": [
       "(2716, 5)"
      ]
     },
     "execution_count": 25,
     "metadata": {},
     "output_type": "execute_result"
    }
   ],
   "source": [
    "reward_df.shape"
   ]
  },
  {
   "cell_type": "code",
   "execution_count": 26,
   "id": "c23e5b55",
   "metadata": {
    "scrolled": true
   },
   "outputs": [
    {
     "data": {
      "text/plain": [
       "Index(['offer_id', 'reward_id', 'label_in_english', 'total_payout_in_paise',\n",
       "       'total_revenue_in_paise'],\n",
       "      dtype='object')"
      ]
     },
     "execution_count": 26,
     "metadata": {},
     "output_type": "execute_result"
    }
   ],
   "source": [
    "reward_df.columns"
   ]
  },
  {
   "cell_type": "markdown",
   "id": "b087f2bc",
   "metadata": {},
   "source": [
    "# -------------------------------------------------------------------------------------------------------"
   ]
  },
  {
   "cell_type": "code",
   "execution_count": 27,
   "id": "cbcbcdc0",
   "metadata": {
    "scrolled": true
   },
   "outputs": [
    {
     "data": {
      "text/html": [
       "<div>\n",
       "<style scoped>\n",
       "    .dataframe tbody tr th:only-of-type {\n",
       "        vertical-align: middle;\n",
       "    }\n",
       "\n",
       "    .dataframe tbody tr th {\n",
       "        vertical-align: top;\n",
       "    }\n",
       "\n",
       "    .dataframe thead th {\n",
       "        text-align: right;\n",
       "    }\n",
       "</style>\n",
       "<table border=\"1\" class=\"dataframe\">\n",
       "  <thead>\n",
       "    <tr style=\"text-align: right;\">\n",
       "      <th></th>\n",
       "      <th>Unnamed: 0</th>\n",
       "      <th>user_id</th>\n",
       "      <th>offer_id</th>\n",
       "      <th>status</th>\n",
       "      <th>started_at</th>\n",
       "      <th>completed_at</th>\n",
       "      <th>expires_at</th>\n",
       "    </tr>\n",
       "  </thead>\n",
       "  <tbody>\n",
       "    <tr>\n",
       "      <th>0</th>\n",
       "      <td>0</td>\n",
       "      <td>44f9c9f1-1ce1-4b04-8042-ddb1c548c589</td>\n",
       "      <td>792</td>\n",
       "      <td>ONGOING</td>\n",
       "      <td>2022-11-26 07:25:38.995614+00:00</td>\n",
       "      <td>NaN</td>\n",
       "      <td>2022-11-27 18:29:59+00:00</td>\n",
       "    </tr>\n",
       "    <tr>\n",
       "      <th>1</th>\n",
       "      <td>1</td>\n",
       "      <td>e5c792a3-9cd9-4d10-a7b5-e5ee0f0f5fad</td>\n",
       "      <td>3462</td>\n",
       "      <td>ONGOING</td>\n",
       "      <td>2022-11-26 01:19:42.059483+00:00</td>\n",
       "      <td>NaN</td>\n",
       "      <td>2022-11-28 01:19:42.066140+00:00</td>\n",
       "    </tr>\n",
       "    <tr>\n",
       "      <th>2</th>\n",
       "      <td>2</td>\n",
       "      <td>033c38d4-fd46-45a2-b09a-18d637c54129</td>\n",
       "      <td>3462</td>\n",
       "      <td>ONGOING</td>\n",
       "      <td>2022-11-26 14:12:39.365453+00:00</td>\n",
       "      <td>NaN</td>\n",
       "      <td>2022-11-28 14:12:39.369689+00:00</td>\n",
       "    </tr>\n",
       "    <tr>\n",
       "      <th>3</th>\n",
       "      <td>3</td>\n",
       "      <td>8a488246-83d3-4028-b216-85ee8c3e504d</td>\n",
       "      <td>2328</td>\n",
       "      <td>ONGOING</td>\n",
       "      <td>2022-11-26 02:51:44.438026+00:00</td>\n",
       "      <td>NaN</td>\n",
       "      <td>2022-11-28 02:51:44.441869+00:00</td>\n",
       "    </tr>\n",
       "    <tr>\n",
       "      <th>4</th>\n",
       "      <td>4</td>\n",
       "      <td>aff26172-41d6-4e69-9b02-48011fe35804</td>\n",
       "      <td>3467</td>\n",
       "      <td>ONGOING</td>\n",
       "      <td>2022-11-26 11:44:25.915581+00:00</td>\n",
       "      <td>NaN</td>\n",
       "      <td>2022-11-28 11:44:25.921249+00:00</td>\n",
       "    </tr>\n",
       "  </tbody>\n",
       "</table>\n",
       "</div>"
      ],
      "text/plain": [
       "   Unnamed: 0                               user_id  offer_id   status  \\\n",
       "0           0  44f9c9f1-1ce1-4b04-8042-ddb1c548c589       792  ONGOING   \n",
       "1           1  e5c792a3-9cd9-4d10-a7b5-e5ee0f0f5fad      3462  ONGOING   \n",
       "2           2  033c38d4-fd46-45a2-b09a-18d637c54129      3462  ONGOING   \n",
       "3           3  8a488246-83d3-4028-b216-85ee8c3e504d      2328  ONGOING   \n",
       "4           4  aff26172-41d6-4e69-9b02-48011fe35804      3467  ONGOING   \n",
       "\n",
       "                         started_at completed_at  \\\n",
       "0  2022-11-26 07:25:38.995614+00:00          NaN   \n",
       "1  2022-11-26 01:19:42.059483+00:00          NaN   \n",
       "2  2022-11-26 14:12:39.365453+00:00          NaN   \n",
       "3  2022-11-26 02:51:44.438026+00:00          NaN   \n",
       "4  2022-11-26 11:44:25.915581+00:00          NaN   \n",
       "\n",
       "                         expires_at  \n",
       "0         2022-11-27 18:29:59+00:00  \n",
       "1  2022-11-28 01:19:42.066140+00:00  \n",
       "2  2022-11-28 14:12:39.369689+00:00  \n",
       "3  2022-11-28 02:51:44.441869+00:00  \n",
       "4  2022-11-28 11:44:25.921249+00:00  "
      ]
     },
     "execution_count": 27,
     "metadata": {},
     "output_type": "execute_result"
    }
   ],
   "source": [
    "offers_df.head(5)"
   ]
  },
  {
   "cell_type": "code",
   "execution_count": 28,
   "id": "4f478760",
   "metadata": {
    "scrolled": true
   },
   "outputs": [
    {
     "data": {
      "text/plain": [
       "Index(['Unnamed: 0', 'user_id', 'offer_id', 'status', 'started_at',\n",
       "       'completed_at', 'expires_at'],\n",
       "      dtype='object')"
      ]
     },
     "execution_count": 28,
     "metadata": {},
     "output_type": "execute_result"
    }
   ],
   "source": [
    "offers_df.columns"
   ]
  },
  {
   "cell_type": "code",
   "execution_count": 29,
   "id": "621d35b9",
   "metadata": {
    "scrolled": true
   },
   "outputs": [
    {
     "data": {
      "text/plain": [
       "Unnamed: 0       int64\n",
       "user_id         object\n",
       "offer_id         int64\n",
       "status          object\n",
       "started_at      object\n",
       "completed_at    object\n",
       "expires_at      object\n",
       "dtype: object"
      ]
     },
     "execution_count": 29,
     "metadata": {},
     "output_type": "execute_result"
    }
   ],
   "source": [
    "offers_df.dtypes"
   ]
  },
  {
   "cell_type": "code",
   "execution_count": 30,
   "id": "dbbc750b",
   "metadata": {
    "scrolled": true
   },
   "outputs": [
    {
     "data": {
      "text/plain": [
       "(499, 7)"
      ]
     },
     "execution_count": 30,
     "metadata": {},
     "output_type": "execute_result"
    }
   ],
   "source": [
    "offers_df.shape"
   ]
  },
  {
   "cell_type": "code",
   "execution_count": 31,
   "id": "b84b49fa",
   "metadata": {
    "scrolled": true
   },
   "outputs": [],
   "source": [
    "#lets drop unknow columns 'Unnamed: 0'\n",
    "offers_df.drop(columns=\"Unnamed: 0\",inplace=True)"
   ]
  },
  {
   "cell_type": "code",
   "execution_count": 32,
   "id": "8dc7a1fe",
   "metadata": {
    "scrolled": true
   },
   "outputs": [],
   "source": [
    "offers_df.started_at= pd.to_datetime(offers_df.started_at)\n",
    "offers_df.completed_at= pd.to_datetime(offers_df.completed_at)\n",
    "offers_df.expires_at = pd.to_datetime(offers_df.expires_at)"
   ]
  },
  {
   "cell_type": "code",
   "execution_count": 33,
   "id": "b4589526",
   "metadata": {
    "scrolled": true
   },
   "outputs": [
    {
     "data": {
      "text/plain": [
       "user_id                      object\n",
       "offer_id                      int64\n",
       "status                       object\n",
       "started_at      datetime64[ns, UTC]\n",
       "completed_at    datetime64[ns, UTC]\n",
       "expires_at      datetime64[ns, UTC]\n",
       "dtype: object"
      ]
     },
     "execution_count": 33,
     "metadata": {},
     "output_type": "execute_result"
    }
   ],
   "source": [
    "offers_df.dtypes"
   ]
  },
  {
   "cell_type": "markdown",
   "id": "7bc77343",
   "metadata": {},
   "source": [
    "# -------------------------------------------------------------------------------------------------------"
   ]
  },
  {
   "cell_type": "code",
   "execution_count": 34,
   "id": "7cd38a2f",
   "metadata": {
    "scrolled": true
   },
   "outputs": [
    {
     "data": {
      "text/html": [
       "<div>\n",
       "<style scoped>\n",
       "    .dataframe tbody tr th:only-of-type {\n",
       "        vertical-align: middle;\n",
       "    }\n",
       "\n",
       "    .dataframe tbody tr th {\n",
       "        vertical-align: top;\n",
       "    }\n",
       "\n",
       "    .dataframe thead th {\n",
       "        text-align: right;\n",
       "    }\n",
       "</style>\n",
       "<table border=\"1\" class=\"dataframe\">\n",
       "  <thead>\n",
       "    <tr style=\"text-align: right;\">\n",
       "      <th></th>\n",
       "      <th>Date</th>\n",
       "      <th>DAU</th>\n",
       "      <th>Installs</th>\n",
       "      <th>Uninstalls</th>\n",
       "      <th>Signups</th>\n",
       "      <th>Referrals</th>\n",
       "    </tr>\n",
       "  </thead>\n",
       "  <tbody>\n",
       "    <tr>\n",
       "      <th>0</th>\n",
       "      <td>2022-10-01</td>\n",
       "      <td>24071</td>\n",
       "      <td>6630</td>\n",
       "      <td>6994</td>\n",
       "      <td>3511</td>\n",
       "      <td>962.0</td>\n",
       "    </tr>\n",
       "    <tr>\n",
       "      <th>1</th>\n",
       "      <td>2022-10-02</td>\n",
       "      <td>23548</td>\n",
       "      <td>6366</td>\n",
       "      <td>6669</td>\n",
       "      <td>3387</td>\n",
       "      <td>941.0</td>\n",
       "    </tr>\n",
       "    <tr>\n",
       "      <th>2</th>\n",
       "      <td>2022-10-03</td>\n",
       "      <td>24572</td>\n",
       "      <td>6936</td>\n",
       "      <td>6899</td>\n",
       "      <td>3654</td>\n",
       "      <td>940.0</td>\n",
       "    </tr>\n",
       "    <tr>\n",
       "      <th>3</th>\n",
       "      <td>2022-10-04</td>\n",
       "      <td>24212</td>\n",
       "      <td>6561</td>\n",
       "      <td>6766</td>\n",
       "      <td>3532</td>\n",
       "      <td>960.0</td>\n",
       "    </tr>\n",
       "    <tr>\n",
       "      <th>4</th>\n",
       "      <td>2022-10-05</td>\n",
       "      <td>23247</td>\n",
       "      <td>6059</td>\n",
       "      <td>6402</td>\n",
       "      <td>3315</td>\n",
       "      <td>923.0</td>\n",
       "    </tr>\n",
       "  </tbody>\n",
       "</table>\n",
       "</div>"
      ],
      "text/plain": [
       "         Date    DAU  Installs  Uninstalls  Signups  Referrals\n",
       "0  2022-10-01  24071      6630        6994     3511      962.0\n",
       "1  2022-10-02  23548      6366        6669     3387      941.0\n",
       "2  2022-10-03  24572      6936        6899     3654      940.0\n",
       "3  2022-10-04  24212      6561        6766     3532      960.0\n",
       "4  2022-10-05  23247      6059        6402     3315      923.0"
      ]
     },
     "execution_count": 34,
     "metadata": {},
     "output_type": "execute_result"
    }
   ],
   "source": [
    "sikka_df.head(5)"
   ]
  },
  {
   "cell_type": "code",
   "execution_count": 35,
   "id": "388db500",
   "metadata": {
    "scrolled": true
   },
   "outputs": [
    {
     "data": {
      "text/plain": [
       "Index(['Date', 'DAU', 'Installs', 'Uninstalls', 'Signups', 'Referrals'], dtype='object')"
      ]
     },
     "execution_count": 35,
     "metadata": {},
     "output_type": "execute_result"
    }
   ],
   "source": [
    "sikka_df.columns"
   ]
  },
  {
   "cell_type": "code",
   "execution_count": 36,
   "id": "dfb609c7",
   "metadata": {
    "scrolled": true
   },
   "outputs": [
    {
     "data": {
      "text/plain": [
       "(46, 6)"
      ]
     },
     "execution_count": 36,
     "metadata": {},
     "output_type": "execute_result"
    }
   ],
   "source": [
    "sikka_df.shape"
   ]
  },
  {
   "cell_type": "code",
   "execution_count": 37,
   "id": "0b29c049",
   "metadata": {
    "scrolled": true
   },
   "outputs": [
    {
     "data": {
      "text/plain": [
       "Date           object\n",
       "DAU             int64\n",
       "Installs        int64\n",
       "Uninstalls      int64\n",
       "Signups         int64\n",
       "Referrals     float64\n",
       "dtype: object"
      ]
     },
     "execution_count": 37,
     "metadata": {},
     "output_type": "execute_result"
    }
   ],
   "source": [
    "sikka_df.dtypes"
   ]
  },
  {
   "cell_type": "code",
   "execution_count": 38,
   "id": "230a9e02",
   "metadata": {
    "scrolled": true
   },
   "outputs": [],
   "source": [
    "# convert datatype of 'Date' column to date type. \n",
    "\n",
    "sikka_df.Date=pd.to_datetime(sikka_df.Date)\n",
    "\n"
   ]
  },
  {
   "cell_type": "markdown",
   "id": "b32b92bb",
   "metadata": {},
   "source": [
    "# -------------------------------------------------------------------------------------------------------"
   ]
  },
  {
   "cell_type": "code",
   "execution_count": 39,
   "id": "9e44eb3d",
   "metadata": {
    "scrolled": true
   },
   "outputs": [
    {
     "data": {
      "text/html": [
       "<div>\n",
       "<style scoped>\n",
       "    .dataframe tbody tr th:only-of-type {\n",
       "        vertical-align: middle;\n",
       "    }\n",
       "\n",
       "    .dataframe tbody tr th {\n",
       "        vertical-align: top;\n",
       "    }\n",
       "\n",
       "    .dataframe thead th {\n",
       "        text-align: right;\n",
       "    }\n",
       "</style>\n",
       "<table border=\"1\" class=\"dataframe\">\n",
       "  <thead>\n",
       "    <tr style=\"text-align: right;\">\n",
       "      <th></th>\n",
       "      <th>date</th>\n",
       "      <th>pub_id</th>\n",
       "      <th>app_id</th>\n",
       "      <th>ad_unit_code</th>\n",
       "      <th>country</th>\n",
       "      <th>requests</th>\n",
       "      <th>ae_responses</th>\n",
       "      <th>ae_impressions</th>\n",
       "      <th>ae_clicks</th>\n",
       "      <th>ae_revenue</th>\n",
       "    </tr>\n",
       "  </thead>\n",
       "  <tbody>\n",
       "    <tr>\n",
       "      <th>0</th>\n",
       "      <td>2022-10-20</td>\n",
       "      <td>1987</td>\n",
       "      <td>16243270</td>\n",
       "      <td>22832846443</td>\n",
       "      <td>Tanzania</td>\n",
       "      <td>36</td>\n",
       "      <td>36</td>\n",
       "      <td>34</td>\n",
       "      <td>0</td>\n",
       "      <td>0.035738</td>\n",
       "    </tr>\n",
       "    <tr>\n",
       "      <th>1</th>\n",
       "      <td>2022-10-20</td>\n",
       "      <td>1987</td>\n",
       "      <td>16243270</td>\n",
       "      <td>22832846593</td>\n",
       "      <td>Tanzania</td>\n",
       "      <td>24</td>\n",
       "      <td>24</td>\n",
       "      <td>23</td>\n",
       "      <td>0</td>\n",
       "      <td>0.064384</td>\n",
       "    </tr>\n",
       "    <tr>\n",
       "      <th>2</th>\n",
       "      <td>2022-10-20</td>\n",
       "      <td>1987</td>\n",
       "      <td>16243270</td>\n",
       "      <td>22832846443</td>\n",
       "      <td>Thailand</td>\n",
       "      <td>949</td>\n",
       "      <td>949</td>\n",
       "      <td>876</td>\n",
       "      <td>20</td>\n",
       "      <td>4.943878</td>\n",
       "    </tr>\n",
       "    <tr>\n",
       "      <th>3</th>\n",
       "      <td>2022-10-20</td>\n",
       "      <td>1987</td>\n",
       "      <td>16243270</td>\n",
       "      <td>22832846593</td>\n",
       "      <td>Thailand</td>\n",
       "      <td>1006</td>\n",
       "      <td>907</td>\n",
       "      <td>688</td>\n",
       "      <td>134</td>\n",
       "      <td>24.226836</td>\n",
       "    </tr>\n",
       "    <tr>\n",
       "      <th>4</th>\n",
       "      <td>2022-10-20</td>\n",
       "      <td>1987</td>\n",
       "      <td>16243270</td>\n",
       "      <td>22832827729</td>\n",
       "      <td>Thailand</td>\n",
       "      <td>373</td>\n",
       "      <td>287</td>\n",
       "      <td>156</td>\n",
       "      <td>20</td>\n",
       "      <td>2.759392</td>\n",
       "    </tr>\n",
       "  </tbody>\n",
       "</table>\n",
       "</div>"
      ],
      "text/plain": [
       "         date  pub_id    app_id  ad_unit_code   country  requests  \\\n",
       "0  2022-10-20    1987  16243270   22832846443  Tanzania        36   \n",
       "1  2022-10-20    1987  16243270   22832846593  Tanzania        24   \n",
       "2  2022-10-20    1987  16243270   22832846443  Thailand       949   \n",
       "3  2022-10-20    1987  16243270   22832846593  Thailand      1006   \n",
       "4  2022-10-20    1987  16243270   22832827729  Thailand       373   \n",
       "\n",
       "   ae_responses  ae_impressions  ae_clicks  ae_revenue  \n",
       "0            36              34          0    0.035738  \n",
       "1            24              23          0    0.064384  \n",
       "2           949             876         20    4.943878  \n",
       "3           907             688        134   24.226836  \n",
       "4           287             156         20    2.759392  "
      ]
     },
     "execution_count": 39,
     "metadata": {},
     "output_type": "execute_result"
    }
   ],
   "source": [
    "adx_df.head(5)"
   ]
  },
  {
   "cell_type": "code",
   "execution_count": 40,
   "id": "666d7cb8",
   "metadata": {
    "scrolled": true
   },
   "outputs": [
    {
     "data": {
      "text/plain": [
       "Index(['date', 'pub_id', 'app_id', 'ad_unit_code', 'country', 'requests',\n",
       "       'ae_responses', 'ae_impressions', 'ae_clicks', 'ae_revenue'],\n",
       "      dtype='object')"
      ]
     },
     "execution_count": 40,
     "metadata": {},
     "output_type": "execute_result"
    }
   ],
   "source": [
    "adx_df.columns"
   ]
  },
  {
   "cell_type": "code",
   "execution_count": 41,
   "id": "0d95a8c5",
   "metadata": {
    "scrolled": true
   },
   "outputs": [
    {
     "data": {
      "text/plain": [
       "date               object\n",
       "pub_id              int64\n",
       "app_id              int64\n",
       "ad_unit_code        int64\n",
       "country            object\n",
       "requests            int64\n",
       "ae_responses        int64\n",
       "ae_impressions      int64\n",
       "ae_clicks           int64\n",
       "ae_revenue        float64\n",
       "dtype: object"
      ]
     },
     "execution_count": 41,
     "metadata": {},
     "output_type": "execute_result"
    }
   ],
   "source": [
    "adx_df.dtypes"
   ]
  },
  {
   "cell_type": "code",
   "execution_count": 42,
   "id": "fbe7ef84",
   "metadata": {
    "scrolled": true
   },
   "outputs": [],
   "source": [
    "# convert datatype of 'date' column to date type. \n",
    "\n",
    "adx_df.date=pd.to_datetime(adx_df.date)\n"
   ]
  },
  {
   "cell_type": "markdown",
   "id": "048027a5",
   "metadata": {},
   "source": [
    "# -------------------------------------------------------------------------------------------------------"
   ]
  },
  {
   "cell_type": "markdown",
   "id": "a2ae8901",
   "metadata": {},
   "source": [
    "# Missing Value Treatment"
   ]
  },
  {
   "cell_type": "code",
   "execution_count": 43,
   "id": "08935d7d",
   "metadata": {
    "scrolled": true
   },
   "outputs": [
    {
     "data": {
      "text/plain": [
       "user_id            0\n",
       "app_id             0\n",
       "signed_up_on       0\n",
       "last_login_date    0\n",
       "dtype: int64"
      ]
     },
     "execution_count": 43,
     "metadata": {},
     "output_type": "execute_result"
    }
   ],
   "source": [
    "signup_df.isnull().sum()"
   ]
  },
  {
   "cell_type": "code",
   "execution_count": 44,
   "id": "2d599602",
   "metadata": {
    "scrolled": true
   },
   "outputs": [
    {
     "data": {
      "text/plain": [
       "offer_id                   0\n",
       "reward_id                  0\n",
       "label_in_english          15\n",
       "total_payout_in_paise      0\n",
       "total_revenue_in_paise     0\n",
       "dtype: int64"
      ]
     },
     "execution_count": 44,
     "metadata": {},
     "output_type": "execute_result"
    }
   ],
   "source": [
    "reward_df.isnull().sum()"
   ]
  },
  {
   "cell_type": "code",
   "execution_count": 45,
   "id": "46a991ea",
   "metadata": {
    "scrolled": true
   },
   "outputs": [],
   "source": [
    "#Treating null values with Mode value.\n",
    "reward_df.label_in_english.fillna(reward_df.label_in_english.mode()[0],inplace=True)"
   ]
  },
  {
   "cell_type": "code",
   "execution_count": 46,
   "id": "0ba00057",
   "metadata": {
    "scrolled": true
   },
   "outputs": [
    {
     "data": {
      "text/plain": [
       "offer_id                  0\n",
       "reward_id                 0\n",
       "label_in_english          0\n",
       "total_payout_in_paise     0\n",
       "total_revenue_in_paise    0\n",
       "dtype: int64"
      ]
     },
     "execution_count": 46,
     "metadata": {},
     "output_type": "execute_result"
    }
   ],
   "source": [
    "#Checking for null values in df.\n",
    "reward_df.isnull().sum()"
   ]
  },
  {
   "cell_type": "code",
   "execution_count": 47,
   "id": "9d1ee1c9",
   "metadata": {
    "scrolled": true
   },
   "outputs": [
    {
     "data": {
      "text/plain": [
       "user_id           0\n",
       "offer_id          0\n",
       "status            0\n",
       "started_at        0\n",
       "completed_at    436\n",
       "expires_at       63\n",
       "dtype: int64"
      ]
     },
     "execution_count": 47,
     "metadata": {},
     "output_type": "execute_result"
    }
   ],
   "source": [
    "offers_df.isnull().sum()"
   ]
  },
  {
   "cell_type": "code",
   "execution_count": 48,
   "id": "b0a3e1d2",
   "metadata": {
    "scrolled": true
   },
   "outputs": [
    {
     "data": {
      "text/plain": [
       "reward_id    0\n",
       "user_id      0\n",
       "date         0\n",
       "app_id       0\n",
       "dtype: int64"
      ]
     },
     "execution_count": 48,
     "metadata": {},
     "output_type": "execute_result"
    }
   ],
   "source": [
    "complete_df.isnull().sum()"
   ]
  },
  {
   "cell_type": "code",
   "execution_count": 49,
   "id": "d572a32c",
   "metadata": {
    "scrolled": true
   },
   "outputs": [
    {
     "data": {
      "text/plain": [
       "Date           0\n",
       "DAU            0\n",
       "Installs       0\n",
       "Uninstalls     0\n",
       "Signups        0\n",
       "Referrals     15\n",
       "dtype: int64"
      ]
     },
     "execution_count": 49,
     "metadata": {},
     "output_type": "execute_result"
    }
   ],
   "source": [
    "sikka_df.isnull().sum()"
   ]
  },
  {
   "cell_type": "code",
   "execution_count": 50,
   "id": "4ed6c07a",
   "metadata": {
    "scrolled": true
   },
   "outputs": [
    {
     "data": {
      "text/plain": [
       "date                0\n",
       "pub_id              0\n",
       "app_id              0\n",
       "ad_unit_code        0\n",
       "country           420\n",
       "requests            0\n",
       "ae_responses        0\n",
       "ae_impressions      0\n",
       "ae_clicks           0\n",
       "ae_revenue          0\n",
       "dtype: int64"
      ]
     },
     "execution_count": 50,
     "metadata": {},
     "output_type": "execute_result"
    }
   ],
   "source": [
    "adx_df.isnull().sum()"
   ]
  },
  {
   "cell_type": "code",
   "execution_count": 51,
   "id": "19867365",
   "metadata": {
    "scrolled": true
   },
   "outputs": [
    {
     "data": {
      "text/html": [
       "<div>\n",
       "<style scoped>\n",
       "    .dataframe tbody tr th:only-of-type {\n",
       "        vertical-align: middle;\n",
       "    }\n",
       "\n",
       "    .dataframe tbody tr th {\n",
       "        vertical-align: top;\n",
       "    }\n",
       "\n",
       "    .dataframe thead th {\n",
       "        text-align: right;\n",
       "    }\n",
       "</style>\n",
       "<table border=\"1\" class=\"dataframe\">\n",
       "  <thead>\n",
       "    <tr style=\"text-align: right;\">\n",
       "      <th></th>\n",
       "      <th>user_id</th>\n",
       "      <th>offer_id</th>\n",
       "      <th>status</th>\n",
       "      <th>started_at</th>\n",
       "      <th>completed_at</th>\n",
       "      <th>expires_at</th>\n",
       "    </tr>\n",
       "  </thead>\n",
       "  <tbody>\n",
       "    <tr>\n",
       "      <th>0</th>\n",
       "      <td>44f9c9f1-1ce1-4b04-8042-ddb1c548c589</td>\n",
       "      <td>792</td>\n",
       "      <td>ONGOING</td>\n",
       "      <td>2022-11-26 07:25:38.995614+00:00</td>\n",
       "      <td>NaT</td>\n",
       "      <td>2022-11-27 18:29:59+00:00</td>\n",
       "    </tr>\n",
       "    <tr>\n",
       "      <th>1</th>\n",
       "      <td>e5c792a3-9cd9-4d10-a7b5-e5ee0f0f5fad</td>\n",
       "      <td>3462</td>\n",
       "      <td>ONGOING</td>\n",
       "      <td>2022-11-26 01:19:42.059483+00:00</td>\n",
       "      <td>NaT</td>\n",
       "      <td>2022-11-28 01:19:42.066140+00:00</td>\n",
       "    </tr>\n",
       "    <tr>\n",
       "      <th>2</th>\n",
       "      <td>033c38d4-fd46-45a2-b09a-18d637c54129</td>\n",
       "      <td>3462</td>\n",
       "      <td>ONGOING</td>\n",
       "      <td>2022-11-26 14:12:39.365453+00:00</td>\n",
       "      <td>NaT</td>\n",
       "      <td>2022-11-28 14:12:39.369689+00:00</td>\n",
       "    </tr>\n",
       "    <tr>\n",
       "      <th>3</th>\n",
       "      <td>8a488246-83d3-4028-b216-85ee8c3e504d</td>\n",
       "      <td>2328</td>\n",
       "      <td>ONGOING</td>\n",
       "      <td>2022-11-26 02:51:44.438026+00:00</td>\n",
       "      <td>NaT</td>\n",
       "      <td>2022-11-28 02:51:44.441869+00:00</td>\n",
       "    </tr>\n",
       "    <tr>\n",
       "      <th>4</th>\n",
       "      <td>aff26172-41d6-4e69-9b02-48011fe35804</td>\n",
       "      <td>3467</td>\n",
       "      <td>ONGOING</td>\n",
       "      <td>2022-11-26 11:44:25.915581+00:00</td>\n",
       "      <td>NaT</td>\n",
       "      <td>2022-11-28 11:44:25.921249+00:00</td>\n",
       "    </tr>\n",
       "    <tr>\n",
       "      <th>...</th>\n",
       "      <td>...</td>\n",
       "      <td>...</td>\n",
       "      <td>...</td>\n",
       "      <td>...</td>\n",
       "      <td>...</td>\n",
       "      <td>...</td>\n",
       "    </tr>\n",
       "    <tr>\n",
       "      <th>494</th>\n",
       "      <td>4cb29e43-9f23-42fe-bab8-2422f42e7a91</td>\n",
       "      <td>3541</td>\n",
       "      <td>COMPLETED</td>\n",
       "      <td>2022-11-29 00:52:55.566668+00:00</td>\n",
       "      <td>2022-11-29 01:05:12.126235+00:00</td>\n",
       "      <td>NaT</td>\n",
       "    </tr>\n",
       "    <tr>\n",
       "      <th>495</th>\n",
       "      <td>55e70808-0ed9-44fd-9d87-819ba9dc4d3e</td>\n",
       "      <td>3541</td>\n",
       "      <td>ONGOING</td>\n",
       "      <td>2022-11-29 00:52:36.649948+00:00</td>\n",
       "      <td>NaT</td>\n",
       "      <td>2022-12-01 00:52:36.657981+00:00</td>\n",
       "    </tr>\n",
       "    <tr>\n",
       "      <th>496</th>\n",
       "      <td>5baab7e2-f5ad-4f9d-b749-9d8e9bee9d2d</td>\n",
       "      <td>3482</td>\n",
       "      <td>ONGOING</td>\n",
       "      <td>2022-11-29 01:54:59.696877+00:00</td>\n",
       "      <td>NaT</td>\n",
       "      <td>2022-12-01 01:54:59.700648+00:00</td>\n",
       "    </tr>\n",
       "    <tr>\n",
       "      <th>497</th>\n",
       "      <td>417bcb37-44cf-43c3-ba51-5d39c825caf7</td>\n",
       "      <td>3322</td>\n",
       "      <td>ONGOING</td>\n",
       "      <td>2022-11-29 05:26:42.449325+00:00</td>\n",
       "      <td>NaT</td>\n",
       "      <td>2022-12-01 05:26:42.455358+00:00</td>\n",
       "    </tr>\n",
       "    <tr>\n",
       "      <th>498</th>\n",
       "      <td>94c1a32a-de5c-4911-b7ad-f245a57b6d10</td>\n",
       "      <td>2436</td>\n",
       "      <td>ONGOING</td>\n",
       "      <td>2022-11-28 15:06:41.826309+00:00</td>\n",
       "      <td>NaT</td>\n",
       "      <td>2022-11-30 15:06:41.831382+00:00</td>\n",
       "    </tr>\n",
       "  </tbody>\n",
       "</table>\n",
       "<p>499 rows × 6 columns</p>\n",
       "</div>"
      ],
      "text/plain": [
       "                                  user_id  offer_id     status  \\\n",
       "0    44f9c9f1-1ce1-4b04-8042-ddb1c548c589       792    ONGOING   \n",
       "1    e5c792a3-9cd9-4d10-a7b5-e5ee0f0f5fad      3462    ONGOING   \n",
       "2    033c38d4-fd46-45a2-b09a-18d637c54129      3462    ONGOING   \n",
       "3    8a488246-83d3-4028-b216-85ee8c3e504d      2328    ONGOING   \n",
       "4    aff26172-41d6-4e69-9b02-48011fe35804      3467    ONGOING   \n",
       "..                                    ...       ...        ...   \n",
       "494  4cb29e43-9f23-42fe-bab8-2422f42e7a91      3541  COMPLETED   \n",
       "495  55e70808-0ed9-44fd-9d87-819ba9dc4d3e      3541    ONGOING   \n",
       "496  5baab7e2-f5ad-4f9d-b749-9d8e9bee9d2d      3482    ONGOING   \n",
       "497  417bcb37-44cf-43c3-ba51-5d39c825caf7      3322    ONGOING   \n",
       "498  94c1a32a-de5c-4911-b7ad-f245a57b6d10      2436    ONGOING   \n",
       "\n",
       "                          started_at                     completed_at  \\\n",
       "0   2022-11-26 07:25:38.995614+00:00                              NaT   \n",
       "1   2022-11-26 01:19:42.059483+00:00                              NaT   \n",
       "2   2022-11-26 14:12:39.365453+00:00                              NaT   \n",
       "3   2022-11-26 02:51:44.438026+00:00                              NaT   \n",
       "4   2022-11-26 11:44:25.915581+00:00                              NaT   \n",
       "..                               ...                              ...   \n",
       "494 2022-11-29 00:52:55.566668+00:00 2022-11-29 01:05:12.126235+00:00   \n",
       "495 2022-11-29 00:52:36.649948+00:00                              NaT   \n",
       "496 2022-11-29 01:54:59.696877+00:00                              NaT   \n",
       "497 2022-11-29 05:26:42.449325+00:00                              NaT   \n",
       "498 2022-11-28 15:06:41.826309+00:00                              NaT   \n",
       "\n",
       "                          expires_at  \n",
       "0          2022-11-27 18:29:59+00:00  \n",
       "1   2022-11-28 01:19:42.066140+00:00  \n",
       "2   2022-11-28 14:12:39.369689+00:00  \n",
       "3   2022-11-28 02:51:44.441869+00:00  \n",
       "4   2022-11-28 11:44:25.921249+00:00  \n",
       "..                               ...  \n",
       "494                              NaT  \n",
       "495 2022-12-01 00:52:36.657981+00:00  \n",
       "496 2022-12-01 01:54:59.700648+00:00  \n",
       "497 2022-12-01 05:26:42.455358+00:00  \n",
       "498 2022-11-30 15:06:41.831382+00:00  \n",
       "\n",
       "[499 rows x 6 columns]"
      ]
     },
     "execution_count": 51,
     "metadata": {},
     "output_type": "execute_result"
    }
   ],
   "source": [
    "offers_df"
   ]
  },
  {
   "cell_type": "markdown",
   "id": "8ca4c5e3",
   "metadata": {},
   "source": [
    "# Question 1"
   ]
  },
  {
   "cell_type": "code",
   "execution_count": 105,
   "id": "d99f4348",
   "metadata": {},
   "outputs": [
    {
     "data": {
      "text/html": [
       "<div>\n",
       "<style scoped>\n",
       "    .dataframe tbody tr th:only-of-type {\n",
       "        vertical-align: middle;\n",
       "    }\n",
       "\n",
       "    .dataframe tbody tr th {\n",
       "        vertical-align: top;\n",
       "    }\n",
       "\n",
       "    .dataframe thead th {\n",
       "        text-align: right;\n",
       "    }\n",
       "</style>\n",
       "<table border=\"1\" class=\"dataframe\">\n",
       "  <thead>\n",
       "    <tr style=\"text-align: right;\">\n",
       "      <th></th>\n",
       "      <th>user_id</th>\n",
       "      <th>app_id</th>\n",
       "      <th>signed_up_on</th>\n",
       "      <th>last_login_date</th>\n",
       "      <th>offer_id</th>\n",
       "      <th>status</th>\n",
       "      <th>started_at</th>\n",
       "      <th>completed_at</th>\n",
       "      <th>expires_at</th>\n",
       "      <th>reward_id</th>\n",
       "      <th>label_in_english</th>\n",
       "      <th>total_payout_in_paise</th>\n",
       "      <th>total_revenue_in_paise</th>\n",
       "    </tr>\n",
       "  </thead>\n",
       "  <tbody>\n",
       "    <tr>\n",
       "      <th>0</th>\n",
       "      <td>c925ccad-98e7-4500-833e-a49aa066aeec</td>\n",
       "      <td>sikka</td>\n",
       "      <td>2022-11-26</td>\n",
       "      <td>2022-11-26</td>\n",
       "      <td>3534</td>\n",
       "      <td>ONGOING</td>\n",
       "      <td>2022-11-26 00:05:44.859932+00:00</td>\n",
       "      <td>NaT</td>\n",
       "      <td>2022-11-28 00:05:44.865124+00:00</td>\n",
       "      <td>3728</td>\n",
       "      <td>Complete Install</td>\n",
       "      <td>200</td>\n",
       "      <td>700</td>\n",
       "    </tr>\n",
       "    <tr>\n",
       "      <th>1</th>\n",
       "      <td>44f9c9f1-1ce1-4b04-8042-ddb1c548c589</td>\n",
       "      <td>sikka</td>\n",
       "      <td>2022-11-26</td>\n",
       "      <td>2022-11-29</td>\n",
       "      <td>3534</td>\n",
       "      <td>ONGOING</td>\n",
       "      <td>2022-11-28 06:08:33.654146+00:00</td>\n",
       "      <td>NaT</td>\n",
       "      <td>2022-11-30 06:08:33.658878+00:00</td>\n",
       "      <td>3728</td>\n",
       "      <td>Complete Install</td>\n",
       "      <td>200</td>\n",
       "      <td>700</td>\n",
       "    </tr>\n",
       "    <tr>\n",
       "      <th>2</th>\n",
       "      <td>e1b85271-8f91-4d7a-90d6-42d97a2a30c5</td>\n",
       "      <td>sikka</td>\n",
       "      <td>2022-11-26</td>\n",
       "      <td>2022-11-29</td>\n",
       "      <td>3534</td>\n",
       "      <td>ONGOING</td>\n",
       "      <td>2022-11-27 00:26:41.056810+00:00</td>\n",
       "      <td>NaT</td>\n",
       "      <td>2022-11-29 00:26:41.060602+00:00</td>\n",
       "      <td>3728</td>\n",
       "      <td>Complete Install</td>\n",
       "      <td>200</td>\n",
       "      <td>700</td>\n",
       "    </tr>\n",
       "    <tr>\n",
       "      <th>3</th>\n",
       "      <td>4960fecc-a53a-4d08-99e6-5ef807d9f270</td>\n",
       "      <td>sikka_pro</td>\n",
       "      <td>2022-11-26</td>\n",
       "      <td>2022-11-29</td>\n",
       "      <td>3534</td>\n",
       "      <td>ONGOING</td>\n",
       "      <td>2022-11-26 06:09:22.775491+00:00</td>\n",
       "      <td>NaT</td>\n",
       "      <td>2022-11-28 06:09:22.779262+00:00</td>\n",
       "      <td>3728</td>\n",
       "      <td>Complete Install</td>\n",
       "      <td>200</td>\n",
       "      <td>700</td>\n",
       "    </tr>\n",
       "    <tr>\n",
       "      <th>4</th>\n",
       "      <td>53134b4c-9bbf-4296-bea4-62587663f030</td>\n",
       "      <td>sikka_pro</td>\n",
       "      <td>2022-11-26</td>\n",
       "      <td>2022-11-29</td>\n",
       "      <td>3534</td>\n",
       "      <td>ONGOING</td>\n",
       "      <td>2022-11-27 02:07:39.364233+00:00</td>\n",
       "      <td>NaT</td>\n",
       "      <td>2022-11-29 02:07:39.368111+00:00</td>\n",
       "      <td>3728</td>\n",
       "      <td>Complete Install</td>\n",
       "      <td>200</td>\n",
       "      <td>700</td>\n",
       "    </tr>\n",
       "  </tbody>\n",
       "</table>\n",
       "</div>"
      ],
      "text/plain": [
       "                                user_id     app_id signed_up_on  \\\n",
       "0  c925ccad-98e7-4500-833e-a49aa066aeec      sikka   2022-11-26   \n",
       "1  44f9c9f1-1ce1-4b04-8042-ddb1c548c589      sikka   2022-11-26   \n",
       "2  e1b85271-8f91-4d7a-90d6-42d97a2a30c5      sikka   2022-11-26   \n",
       "3  4960fecc-a53a-4d08-99e6-5ef807d9f270  sikka_pro   2022-11-26   \n",
       "4  53134b4c-9bbf-4296-bea4-62587663f030  sikka_pro   2022-11-26   \n",
       "\n",
       "  last_login_date  offer_id   status                       started_at  \\\n",
       "0      2022-11-26      3534  ONGOING 2022-11-26 00:05:44.859932+00:00   \n",
       "1      2022-11-29      3534  ONGOING 2022-11-28 06:08:33.654146+00:00   \n",
       "2      2022-11-29      3534  ONGOING 2022-11-27 00:26:41.056810+00:00   \n",
       "3      2022-11-29      3534  ONGOING 2022-11-26 06:09:22.775491+00:00   \n",
       "4      2022-11-29      3534  ONGOING 2022-11-27 02:07:39.364233+00:00   \n",
       "\n",
       "  completed_at                       expires_at  reward_id  label_in_english  \\\n",
       "0          NaT 2022-11-28 00:05:44.865124+00:00       3728  Complete Install   \n",
       "1          NaT 2022-11-30 06:08:33.658878+00:00       3728  Complete Install   \n",
       "2          NaT 2022-11-29 00:26:41.060602+00:00       3728  Complete Install   \n",
       "3          NaT 2022-11-28 06:09:22.779262+00:00       3728  Complete Install   \n",
       "4          NaT 2022-11-29 02:07:39.368111+00:00       3728  Complete Install   \n",
       "\n",
       "   total_payout_in_paise  total_revenue_in_paise  \n",
       "0                    200                     700  \n",
       "1                    200                     700  \n",
       "2                    200                     700  \n",
       "3                    200                     700  \n",
       "4                    200                     700  "
      ]
     },
     "execution_count": 105,
     "metadata": {},
     "output_type": "execute_result"
    }
   ],
   "source": [
    "#merging the df 'user_offer' & 'reward_df'\n",
    "reward_user_offer= pd.merge(left=user_offer, right=reward_df, how='inner')\n",
    "reward_user_offer.head()"
   ]
  },
  {
   "cell_type": "code",
   "execution_count": 107,
   "id": "7fac4361",
   "metadata": {},
   "outputs": [
    {
     "data": {
      "text/plain": [
       "app_id\n",
       "sikka        1839375\n",
       "sikka_pro    1083691\n",
       "Name: total_revenue_in_paise, dtype: int64"
      ]
     },
     "execution_count": 107,
     "metadata": {},
     "output_type": "execute_result"
    }
   ],
   "source": [
    "# CLV for the apps \"Sikka\" & \"Sikka_pro\"\n",
    "reward_user_offer.groupby(\"app_id\")[\"total_revenue_in_paise\"].sum()"
   ]
  },
  {
   "cell_type": "code",
   "execution_count": 108,
   "id": "cb270f93",
   "metadata": {},
   "outputs": [
    {
     "data": {
      "text/plain": [
       "<Figure size 1728x864 with 0 Axes>"
      ]
     },
     "metadata": {},
     "output_type": "display_data"
    },
    {
     "data": {
      "image/png": "[encoded data removed]",
      "text/plain": [
       "<Figure size 432x288 with 1 Axes>"
      ]
     },
     "metadata": {
      "needs_background": "light"
     },
     "output_type": "display_data"
    }
   ],
   "source": [
    "plt.figure(figsize=(24, 12))\n",
    "\n",
    "pd.DataFrame(reward_user_offer.groupby(\"app_id\")[\"total_revenue_in_paise\"].sum()).plot.bar()\n",
    "plt.xticks(rotation = 25)\n",
    "plt.legend(bbox_to_anchor=(0.25, 1.25), loc='upper left')\n",
    "plt.show()"
   ]
  },
  {
   "cell_type": "markdown",
   "id": "523eff5f",
   "metadata": {},
   "source": [
    "# ---------------------------------------------------------------------------------------------------------------"
   ]
  },
  {
   "cell_type": "markdown",
   "id": "02c0be60",
   "metadata": {},
   "source": [
    "# Question 2"
   ]
  },
  {
   "cell_type": "code",
   "execution_count": 55,
   "id": "60fc0945",
   "metadata": {
    "scrolled": true
   },
   "outputs": [
    {
     "data": {
      "text/html": [
       "<div>\n",
       "<style scoped>\n",
       "    .dataframe tbody tr th:only-of-type {\n",
       "        vertical-align: middle;\n",
       "    }\n",
       "\n",
       "    .dataframe tbody tr th {\n",
       "        vertical-align: top;\n",
       "    }\n",
       "\n",
       "    .dataframe thead th {\n",
       "        text-align: right;\n",
       "    }\n",
       "</style>\n",
       "<table border=\"1\" class=\"dataframe\">\n",
       "  <thead>\n",
       "    <tr style=\"text-align: right;\">\n",
       "      <th></th>\n",
       "      <th>user_id</th>\n",
       "      <th>app_id</th>\n",
       "      <th>signed_up_on</th>\n",
       "      <th>last_login_date</th>\n",
       "      <th>offer_id</th>\n",
       "      <th>status</th>\n",
       "      <th>started_at</th>\n",
       "      <th>completed_at</th>\n",
       "      <th>expires_at</th>\n",
       "    </tr>\n",
       "  </thead>\n",
       "  <tbody>\n",
       "    <tr>\n",
       "      <th>0</th>\n",
       "      <td>c925ccad-98e7-4500-833e-a49aa066aeec</td>\n",
       "      <td>sikka</td>\n",
       "      <td>2022-11-26</td>\n",
       "      <td>2022-11-26</td>\n",
       "      <td>3534</td>\n",
       "      <td>ONGOING</td>\n",
       "      <td>2022-11-26 00:05:44.859932+00:00</td>\n",
       "      <td>NaT</td>\n",
       "      <td>2022-11-28 00:05:44.865124+00:00</td>\n",
       "    </tr>\n",
       "    <tr>\n",
       "      <th>1</th>\n",
       "      <td>c925ccad-98e7-4500-833e-a49aa066aeec</td>\n",
       "      <td>sikka</td>\n",
       "      <td>2022-11-26</td>\n",
       "      <td>2022-11-26</td>\n",
       "      <td>3505</td>\n",
       "      <td>ONGOING</td>\n",
       "      <td>2022-11-26 00:19:47.467175+00:00</td>\n",
       "      <td>NaT</td>\n",
       "      <td>2022-11-28 00:19:47.470456+00:00</td>\n",
       "    </tr>\n",
       "    <tr>\n",
       "      <th>2</th>\n",
       "      <td>c925ccad-98e7-4500-833e-a49aa066aeec</td>\n",
       "      <td>sikka</td>\n",
       "      <td>2022-11-26</td>\n",
       "      <td>2022-11-26</td>\n",
       "      <td>3237</td>\n",
       "      <td>ONGOING</td>\n",
       "      <td>2022-11-26 00:20:42.687283+00:00</td>\n",
       "      <td>NaT</td>\n",
       "      <td>2022-11-28 00:20:42.692107+00:00</td>\n",
       "    </tr>\n",
       "    <tr>\n",
       "      <th>3</th>\n",
       "      <td>c925ccad-98e7-4500-833e-a49aa066aeec</td>\n",
       "      <td>sikka</td>\n",
       "      <td>2022-11-26</td>\n",
       "      <td>2022-11-26</td>\n",
       "      <td>3451</td>\n",
       "      <td>ONGOING</td>\n",
       "      <td>2022-11-26 00:21:33.127670+00:00</td>\n",
       "      <td>NaT</td>\n",
       "      <td>2022-11-28 00:21:33.133124+00:00</td>\n",
       "    </tr>\n",
       "    <tr>\n",
       "      <th>4</th>\n",
       "      <td>c925ccad-98e7-4500-833e-a49aa066aeec</td>\n",
       "      <td>sikka</td>\n",
       "      <td>2022-11-26</td>\n",
       "      <td>2022-11-26</td>\n",
       "      <td>792</td>\n",
       "      <td>ONGOING</td>\n",
       "      <td>2022-11-26 00:26:52.872562+00:00</td>\n",
       "      <td>NaT</td>\n",
       "      <td>2022-11-27 18:29:59+00:00</td>\n",
       "    </tr>\n",
       "  </tbody>\n",
       "</table>\n",
       "</div>"
      ],
      "text/plain": [
       "                                user_id app_id signed_up_on last_login_date  \\\n",
       "0  c925ccad-98e7-4500-833e-a49aa066aeec  sikka   2022-11-26      2022-11-26   \n",
       "1  c925ccad-98e7-4500-833e-a49aa066aeec  sikka   2022-11-26      2022-11-26   \n",
       "2  c925ccad-98e7-4500-833e-a49aa066aeec  sikka   2022-11-26      2022-11-26   \n",
       "3  c925ccad-98e7-4500-833e-a49aa066aeec  sikka   2022-11-26      2022-11-26   \n",
       "4  c925ccad-98e7-4500-833e-a49aa066aeec  sikka   2022-11-26      2022-11-26   \n",
       "\n",
       "   offer_id   status                       started_at completed_at  \\\n",
       "0      3534  ONGOING 2022-11-26 00:05:44.859932+00:00          NaT   \n",
       "1      3505  ONGOING 2022-11-26 00:19:47.467175+00:00          NaT   \n",
       "2      3237  ONGOING 2022-11-26 00:20:42.687283+00:00          NaT   \n",
       "3      3451  ONGOING 2022-11-26 00:21:33.127670+00:00          NaT   \n",
       "4       792  ONGOING 2022-11-26 00:26:52.872562+00:00          NaT   \n",
       "\n",
       "                        expires_at  \n",
       "0 2022-11-28 00:05:44.865124+00:00  \n",
       "1 2022-11-28 00:19:47.470456+00:00  \n",
       "2 2022-11-28 00:20:42.692107+00:00  \n",
       "3 2022-11-28 00:21:33.133124+00:00  \n",
       "4        2022-11-27 18:29:59+00:00  "
      ]
     },
     "execution_count": 55,
     "metadata": {},
     "output_type": "execute_result"
    }
   ],
   "source": [
    "#merging the df 'signup_df' & 'offers_df'\n",
    "\n",
    "user_offer= pd.merge(left=signup_df, right=offers_df, how='inner')\n",
    "user_offer.head()"
   ]
  },
  {
   "cell_type": "markdown",
   "id": "b2704ab7",
   "metadata": {},
   "source": [
    "### Offer Initiation by \"sikka\" users"
   ]
  },
  {
   "cell_type": "code",
   "execution_count": 56,
   "id": "b50861c9",
   "metadata": {
    "scrolled": true
   },
   "outputs": [
    {
     "name": "stdout",
     "output_type": "stream",
     "text": [
      "262 nos\n"
     ]
    }
   ],
   "source": [
    "print(user_offer[user_offer.app_id=='sikka'].user_id.count(),'nos')"
   ]
  },
  {
   "cell_type": "markdown",
   "id": "6062b46c",
   "metadata": {},
   "source": [
    "### Offer Initiation by \"sikka_pro\" users"
   ]
  },
  {
   "cell_type": "code",
   "execution_count": 57,
   "id": "1e2e7c09",
   "metadata": {
    "scrolled": true
   },
   "outputs": [
    {
     "name": "stdout",
     "output_type": "stream",
     "text": [
      "237 nos\n"
     ]
    }
   ],
   "source": [
    "print(user_offer[user_offer.app_id=='sikka_pro'].user_id.count(),\"nos\")"
   ]
  },
  {
   "cell_type": "markdown",
   "id": "44f604b0",
   "metadata": {},
   "source": [
    "### Offer Completed by \"sikka\" users"
   ]
  },
  {
   "cell_type": "code",
   "execution_count": 58,
   "id": "0419adba",
   "metadata": {
    "scrolled": true
   },
   "outputs": [
    {
     "name": "stdout",
     "output_type": "stream",
     "text": [
      "23 nos\n"
     ]
    }
   ],
   "source": [
    "print(user_offer[(user_offer.status=='COMPLETED')&(user_offer.app_id=='sikka')].user_id.count(),'nos')"
   ]
  },
  {
   "cell_type": "markdown",
   "id": "94132a07",
   "metadata": {},
   "source": [
    "### Offer Completed by \"sikka_pro\" users"
   ]
  },
  {
   "cell_type": "code",
   "execution_count": 59,
   "id": "e5a7cd3e",
   "metadata": {
    "scrolled": true
   },
   "outputs": [
    {
     "name": "stdout",
     "output_type": "stream",
     "text": [
      "40 nos\n"
     ]
    }
   ],
   "source": [
    "print(user_offer[(user_offer.status=='COMPLETED')&(user_offer.app_id=='sikka_pro')].user_id.count(),'nos')"
   ]
  },
  {
   "cell_type": "markdown",
   "id": "ccbe7982",
   "metadata": {},
   "source": [
    "### Rewards earned by Sikka app users"
   ]
  },
  {
   "cell_type": "code",
   "execution_count": 61,
   "id": "82f6538a",
   "metadata": {
    "scrolled": true
   },
   "outputs": [
    {
     "data": {
      "text/plain": [
       "704890"
      ]
     },
     "execution_count": 61,
     "metadata": {},
     "output_type": "execute_result"
    }
   ],
   "source": [
    "\n",
    "reward_user_offer[reward_user_offer.app_id=='sikka'].total_payout_in_paise.sum()"
   ]
  },
  {
   "cell_type": "markdown",
   "id": "2b355ad8",
   "metadata": {},
   "source": [
    "### Rewards earned by Sikka_pro app users"
   ]
  },
  {
   "cell_type": "code",
   "execution_count": 62,
   "id": "ad0a9f4b",
   "metadata": {
    "scrolled": true
   },
   "outputs": [
    {
     "data": {
      "text/plain": [
       "377594"
      ]
     },
     "execution_count": 62,
     "metadata": {},
     "output_type": "execute_result"
    }
   ],
   "source": [
    "reward_user_offer[reward_user_offer.app_id=='sikka_pro'].total_payout_in_paise.sum()"
   ]
  },
  {
   "cell_type": "markdown",
   "id": "4dbfc86a",
   "metadata": {},
   "source": [
    "### Revenue generated via sikka app "
   ]
  },
  {
   "cell_type": "code",
   "execution_count": 63,
   "id": "ae9337a9",
   "metadata": {
    "scrolled": true
   },
   "outputs": [
    {
     "data": {
      "text/plain": [
       "1839375"
      ]
     },
     "execution_count": 63,
     "metadata": {},
     "output_type": "execute_result"
    }
   ],
   "source": [
    "reward_user_offer[reward_user_offer.app_id=='sikka'].total_revenue_in_paise.sum()"
   ]
  },
  {
   "cell_type": "markdown",
   "id": "3076e32f",
   "metadata": {},
   "source": [
    "### Revenue generated via sikka_pro app "
   ]
  },
  {
   "cell_type": "code",
   "execution_count": 64,
   "id": "8af1ac38",
   "metadata": {
    "scrolled": true
   },
   "outputs": [
    {
     "data": {
      "text/plain": [
       "1083691"
      ]
     },
     "execution_count": 64,
     "metadata": {},
     "output_type": "execute_result"
    }
   ],
   "source": [
    "reward_user_offer[reward_user_offer.app_id=='sikka_pro'].total_revenue_in_paise.sum()"
   ]
  },
  {
   "cell_type": "markdown",
   "id": "bde98d5b",
   "metadata": {},
   "source": [
    "### Average Revenue generated per user sikka app\n",
    "\n"
   ]
  },
  {
   "cell_type": "code",
   "execution_count": 117,
   "id": "b794a378",
   "metadata": {},
   "outputs": [
    {
     "data": {
      "text/plain": [
       "79973.0"
      ]
     },
     "execution_count": 117,
     "metadata": {},
     "output_type": "execute_result"
    }
   ],
   "source": [
    "np.round(reward_user_offer[reward_user_offer.app_id=='sikka'].total_revenue_in_paise.sum() / \n",
    "         (user_offer[(user_offer.status=='COMPLETED')&(user_offer.app_id=='sikka')].user_id.count()))"
   ]
  },
  {
   "cell_type": "markdown",
   "id": "93184142",
   "metadata": {},
   "source": [
    "### Average Revenue generated per user sikka_pro app\n",
    "\n"
   ]
  },
  {
   "cell_type": "code",
   "execution_count": 118,
   "id": "b5d4f763",
   "metadata": {},
   "outputs": [
    {
     "data": {
      "text/plain": [
       "27092.0"
      ]
     },
     "execution_count": 118,
     "metadata": {},
     "output_type": "execute_result"
    }
   ],
   "source": [
    "np.round(reward_user_offer[reward_user_offer.app_id=='sikka_pro'].total_revenue_in_paise.sum() / \n",
    "         (user_offer[(user_offer.status=='COMPLETED')&(user_offer.app_id=='sikka_pro')].user_id.count()))"
   ]
  },
  {
   "cell_type": "markdown",
   "id": "30e414e4",
   "metadata": {},
   "source": [
    "# ---------------------------------------------------------------------------------------------------------------"
   ]
  },
  {
   "cell_type": "markdown",
   "id": "4d235596",
   "metadata": {},
   "source": [
    "# Question-3"
   ]
  },
  {
   "cell_type": "code",
   "execution_count": 65,
   "id": "02d4cf66",
   "metadata": {
    "scrolled": true
   },
   "outputs": [
    {
     "data": {
      "text/html": [
       "<div>\n",
       "<style scoped>\n",
       "    .dataframe tbody tr th:only-of-type {\n",
       "        vertical-align: middle;\n",
       "    }\n",
       "\n",
       "    .dataframe tbody tr th {\n",
       "        vertical-align: top;\n",
       "    }\n",
       "\n",
       "    .dataframe thead th {\n",
       "        text-align: right;\n",
       "    }\n",
       "</style>\n",
       "<table border=\"1\" class=\"dataframe\">\n",
       "  <thead>\n",
       "    <tr style=\"text-align: right;\">\n",
       "      <th></th>\n",
       "      <th>Date</th>\n",
       "      <th>DAU</th>\n",
       "      <th>Installs</th>\n",
       "      <th>Uninstalls</th>\n",
       "      <th>Signups</th>\n",
       "      <th>Referrals</th>\n",
       "    </tr>\n",
       "  </thead>\n",
       "  <tbody>\n",
       "    <tr>\n",
       "      <th>0</th>\n",
       "      <td>2022-10-01</td>\n",
       "      <td>24071</td>\n",
       "      <td>6630</td>\n",
       "      <td>6994</td>\n",
       "      <td>3511</td>\n",
       "      <td>962.0</td>\n",
       "    </tr>\n",
       "    <tr>\n",
       "      <th>1</th>\n",
       "      <td>2022-10-02</td>\n",
       "      <td>23548</td>\n",
       "      <td>6366</td>\n",
       "      <td>6669</td>\n",
       "      <td>3387</td>\n",
       "      <td>941.0</td>\n",
       "    </tr>\n",
       "    <tr>\n",
       "      <th>2</th>\n",
       "      <td>2022-10-03</td>\n",
       "      <td>24572</td>\n",
       "      <td>6936</td>\n",
       "      <td>6899</td>\n",
       "      <td>3654</td>\n",
       "      <td>940.0</td>\n",
       "    </tr>\n",
       "    <tr>\n",
       "      <th>3</th>\n",
       "      <td>2022-10-04</td>\n",
       "      <td>24212</td>\n",
       "      <td>6561</td>\n",
       "      <td>6766</td>\n",
       "      <td>3532</td>\n",
       "      <td>960.0</td>\n",
       "    </tr>\n",
       "    <tr>\n",
       "      <th>4</th>\n",
       "      <td>2022-10-05</td>\n",
       "      <td>23247</td>\n",
       "      <td>6059</td>\n",
       "      <td>6402</td>\n",
       "      <td>3315</td>\n",
       "      <td>923.0</td>\n",
       "    </tr>\n",
       "    <tr>\n",
       "      <th>5</th>\n",
       "      <td>2022-10-06</td>\n",
       "      <td>24330</td>\n",
       "      <td>6230</td>\n",
       "      <td>6780</td>\n",
       "      <td>3288</td>\n",
       "      <td>822.0</td>\n",
       "    </tr>\n",
       "    <tr>\n",
       "      <th>6</th>\n",
       "      <td>2022-10-07</td>\n",
       "      <td>24213</td>\n",
       "      <td>6925</td>\n",
       "      <td>7073</td>\n",
       "      <td>3562</td>\n",
       "      <td>957.0</td>\n",
       "    </tr>\n",
       "    <tr>\n",
       "      <th>7</th>\n",
       "      <td>2022-10-08</td>\n",
       "      <td>25099</td>\n",
       "      <td>7826</td>\n",
       "      <td>7790</td>\n",
       "      <td>4110</td>\n",
       "      <td>994.0</td>\n",
       "    </tr>\n",
       "    <tr>\n",
       "      <th>8</th>\n",
       "      <td>2022-10-09</td>\n",
       "      <td>24099</td>\n",
       "      <td>8937</td>\n",
       "      <td>8149</td>\n",
       "      <td>4114</td>\n",
       "      <td>1016.0</td>\n",
       "    </tr>\n",
       "    <tr>\n",
       "      <th>9</th>\n",
       "      <td>2022-10-10</td>\n",
       "      <td>25156</td>\n",
       "      <td>8139</td>\n",
       "      <td>8215</td>\n",
       "      <td>4974</td>\n",
       "      <td>1186.0</td>\n",
       "    </tr>\n",
       "    <tr>\n",
       "      <th>10</th>\n",
       "      <td>2022-10-11</td>\n",
       "      <td>24497</td>\n",
       "      <td>7308</td>\n",
       "      <td>7532</td>\n",
       "      <td>4347</td>\n",
       "      <td>1161.0</td>\n",
       "    </tr>\n",
       "    <tr>\n",
       "      <th>11</th>\n",
       "      <td>2022-10-12</td>\n",
       "      <td>24152</td>\n",
       "      <td>8020</td>\n",
       "      <td>7867</td>\n",
       "      <td>4404</td>\n",
       "      <td>1193.0</td>\n",
       "    </tr>\n",
       "    <tr>\n",
       "      <th>12</th>\n",
       "      <td>2022-10-13</td>\n",
       "      <td>24094</td>\n",
       "      <td>7097</td>\n",
       "      <td>7081</td>\n",
       "      <td>4211</td>\n",
       "      <td>987.0</td>\n",
       "    </tr>\n",
       "    <tr>\n",
       "      <th>13</th>\n",
       "      <td>2022-10-14</td>\n",
       "      <td>21589</td>\n",
       "      <td>6729</td>\n",
       "      <td>7065</td>\n",
       "      <td>3494</td>\n",
       "      <td>860.0</td>\n",
       "    </tr>\n",
       "    <tr>\n",
       "      <th>14</th>\n",
       "      <td>2022-10-15</td>\n",
       "      <td>20829</td>\n",
       "      <td>5659</td>\n",
       "      <td>6519</td>\n",
       "      <td>2967</td>\n",
       "      <td>772.0</td>\n",
       "    </tr>\n",
       "    <tr>\n",
       "      <th>15</th>\n",
       "      <td>2022-10-16</td>\n",
       "      <td>22222</td>\n",
       "      <td>5861</td>\n",
       "      <td>6552</td>\n",
       "      <td>3096</td>\n",
       "      <td>1052.0</td>\n",
       "    </tr>\n",
       "    <tr>\n",
       "      <th>16</th>\n",
       "      <td>2022-10-17</td>\n",
       "      <td>20943</td>\n",
       "      <td>5860</td>\n",
       "      <td>6455</td>\n",
       "      <td>2828</td>\n",
       "      <td>801.0</td>\n",
       "    </tr>\n",
       "    <tr>\n",
       "      <th>17</th>\n",
       "      <td>2022-10-18</td>\n",
       "      <td>20180</td>\n",
       "      <td>6070</td>\n",
       "      <td>6611</td>\n",
       "      <td>2559</td>\n",
       "      <td>572.0</td>\n",
       "    </tr>\n",
       "    <tr>\n",
       "      <th>18</th>\n",
       "      <td>2022-10-19</td>\n",
       "      <td>19737</td>\n",
       "      <td>5267</td>\n",
       "      <td>6102</td>\n",
       "      <td>2278</td>\n",
       "      <td>606.0</td>\n",
       "    </tr>\n",
       "    <tr>\n",
       "      <th>19</th>\n",
       "      <td>2022-10-20</td>\n",
       "      <td>20148</td>\n",
       "      <td>5467</td>\n",
       "      <td>6125</td>\n",
       "      <td>2854</td>\n",
       "      <td>700.0</td>\n",
       "    </tr>\n",
       "    <tr>\n",
       "      <th>20</th>\n",
       "      <td>2022-10-21</td>\n",
       "      <td>17343</td>\n",
       "      <td>3845</td>\n",
       "      <td>4916</td>\n",
       "      <td>1726</td>\n",
       "      <td>512.0</td>\n",
       "    </tr>\n",
       "    <tr>\n",
       "      <th>21</th>\n",
       "      <td>2022-10-22</td>\n",
       "      <td>16270</td>\n",
       "      <td>3703</td>\n",
       "      <td>4727</td>\n",
       "      <td>1705</td>\n",
       "      <td>530.0</td>\n",
       "    </tr>\n",
       "    <tr>\n",
       "      <th>22</th>\n",
       "      <td>2022-10-23</td>\n",
       "      <td>15223</td>\n",
       "      <td>3397</td>\n",
       "      <td>4314</td>\n",
       "      <td>1545</td>\n",
       "      <td>484.0</td>\n",
       "    </tr>\n",
       "    <tr>\n",
       "      <th>23</th>\n",
       "      <td>2022-10-24</td>\n",
       "      <td>13482</td>\n",
       "      <td>3074</td>\n",
       "      <td>3904</td>\n",
       "      <td>1363</td>\n",
       "      <td>384.0</td>\n",
       "    </tr>\n",
       "    <tr>\n",
       "      <th>24</th>\n",
       "      <td>2022-10-25</td>\n",
       "      <td>14244</td>\n",
       "      <td>3714</td>\n",
       "      <td>4541</td>\n",
       "      <td>1658</td>\n",
       "      <td>435.0</td>\n",
       "    </tr>\n",
       "    <tr>\n",
       "      <th>25</th>\n",
       "      <td>2022-10-26</td>\n",
       "      <td>14659</td>\n",
       "      <td>3885</td>\n",
       "      <td>4564</td>\n",
       "      <td>1740</td>\n",
       "      <td>491.0</td>\n",
       "    </tr>\n",
       "    <tr>\n",
       "      <th>26</th>\n",
       "      <td>2022-10-27</td>\n",
       "      <td>14896</td>\n",
       "      <td>3707</td>\n",
       "      <td>4563</td>\n",
       "      <td>1905</td>\n",
       "      <td>551.0</td>\n",
       "    </tr>\n",
       "    <tr>\n",
       "      <th>27</th>\n",
       "      <td>2022-10-28</td>\n",
       "      <td>14473</td>\n",
       "      <td>3735</td>\n",
       "      <td>4381</td>\n",
       "      <td>1799</td>\n",
       "      <td>555.0</td>\n",
       "    </tr>\n",
       "    <tr>\n",
       "      <th>28</th>\n",
       "      <td>2022-10-29</td>\n",
       "      <td>13390</td>\n",
       "      <td>4072</td>\n",
       "      <td>4695</td>\n",
       "      <td>1872</td>\n",
       "      <td>536.0</td>\n",
       "    </tr>\n",
       "    <tr>\n",
       "      <th>29</th>\n",
       "      <td>2022-10-30</td>\n",
       "      <td>13370</td>\n",
       "      <td>3543</td>\n",
       "      <td>4343</td>\n",
       "      <td>1942</td>\n",
       "      <td>573.0</td>\n",
       "    </tr>\n",
       "    <tr>\n",
       "      <th>30</th>\n",
       "      <td>2022-10-31</td>\n",
       "      <td>13236</td>\n",
       "      <td>3313</td>\n",
       "      <td>4057</td>\n",
       "      <td>1562</td>\n",
       "      <td>419.0</td>\n",
       "    </tr>\n",
       "    <tr>\n",
       "      <th>31</th>\n",
       "      <td>2022-11-01</td>\n",
       "      <td>12816</td>\n",
       "      <td>3763</td>\n",
       "      <td>4149</td>\n",
       "      <td>1806</td>\n",
       "      <td>NaN</td>\n",
       "    </tr>\n",
       "    <tr>\n",
       "      <th>32</th>\n",
       "      <td>2022-11-02</td>\n",
       "      <td>12812</td>\n",
       "      <td>3087</td>\n",
       "      <td>3868</td>\n",
       "      <td>1550</td>\n",
       "      <td>NaN</td>\n",
       "    </tr>\n",
       "    <tr>\n",
       "      <th>33</th>\n",
       "      <td>2022-11-03</td>\n",
       "      <td>12042</td>\n",
       "      <td>3176</td>\n",
       "      <td>3815</td>\n",
       "      <td>1410</td>\n",
       "      <td>NaN</td>\n",
       "    </tr>\n",
       "    <tr>\n",
       "      <th>34</th>\n",
       "      <td>2022-11-04</td>\n",
       "      <td>12595</td>\n",
       "      <td>3172</td>\n",
       "      <td>3878</td>\n",
       "      <td>1629</td>\n",
       "      <td>NaN</td>\n",
       "    </tr>\n",
       "    <tr>\n",
       "      <th>35</th>\n",
       "      <td>2022-11-05</td>\n",
       "      <td>12361</td>\n",
       "      <td>3390</td>\n",
       "      <td>4021</td>\n",
       "      <td>1578</td>\n",
       "      <td>NaN</td>\n",
       "    </tr>\n",
       "    <tr>\n",
       "      <th>36</th>\n",
       "      <td>2022-11-06</td>\n",
       "      <td>13166</td>\n",
       "      <td>3441</td>\n",
       "      <td>4071</td>\n",
       "      <td>1656</td>\n",
       "      <td>NaN</td>\n",
       "    </tr>\n",
       "    <tr>\n",
       "      <th>37</th>\n",
       "      <td>2022-11-07</td>\n",
       "      <td>12565</td>\n",
       "      <td>3468</td>\n",
       "      <td>4011</td>\n",
       "      <td>1556</td>\n",
       "      <td>NaN</td>\n",
       "    </tr>\n",
       "    <tr>\n",
       "      <th>38</th>\n",
       "      <td>2022-11-08</td>\n",
       "      <td>12988</td>\n",
       "      <td>4468</td>\n",
       "      <td>4143</td>\n",
       "      <td>1808</td>\n",
       "      <td>NaN</td>\n",
       "    </tr>\n",
       "    <tr>\n",
       "      <th>39</th>\n",
       "      <td>2022-11-09</td>\n",
       "      <td>12992</td>\n",
       "      <td>4491</td>\n",
       "      <td>4638</td>\n",
       "      <td>2017</td>\n",
       "      <td>NaN</td>\n",
       "    </tr>\n",
       "    <tr>\n",
       "      <th>40</th>\n",
       "      <td>2022-11-10</td>\n",
       "      <td>13377</td>\n",
       "      <td>4261</td>\n",
       "      <td>4480</td>\n",
       "      <td>1997</td>\n",
       "      <td>NaN</td>\n",
       "    </tr>\n",
       "    <tr>\n",
       "      <th>41</th>\n",
       "      <td>2022-11-11</td>\n",
       "      <td>13826</td>\n",
       "      <td>4274</td>\n",
       "      <td>4512</td>\n",
       "      <td>2047</td>\n",
       "      <td>NaN</td>\n",
       "    </tr>\n",
       "    <tr>\n",
       "      <th>42</th>\n",
       "      <td>2022-11-12</td>\n",
       "      <td>13464</td>\n",
       "      <td>4660</td>\n",
       "      <td>4856</td>\n",
       "      <td>2066</td>\n",
       "      <td>NaN</td>\n",
       "    </tr>\n",
       "    <tr>\n",
       "      <th>43</th>\n",
       "      <td>2022-11-13</td>\n",
       "      <td>13415</td>\n",
       "      <td>4416</td>\n",
       "      <td>4749</td>\n",
       "      <td>2147</td>\n",
       "      <td>NaN</td>\n",
       "    </tr>\n",
       "    <tr>\n",
       "      <th>44</th>\n",
       "      <td>2022-11-14</td>\n",
       "      <td>13873</td>\n",
       "      <td>4097</td>\n",
       "      <td>4305</td>\n",
       "      <td>2065</td>\n",
       "      <td>NaN</td>\n",
       "    </tr>\n",
       "    <tr>\n",
       "      <th>45</th>\n",
       "      <td>2022-11-15</td>\n",
       "      <td>14459</td>\n",
       "      <td>4890</td>\n",
       "      <td>4593</td>\n",
       "      <td>2707</td>\n",
       "      <td>NaN</td>\n",
       "    </tr>\n",
       "  </tbody>\n",
       "</table>\n",
       "</div>"
      ],
      "text/plain": [
       "         Date    DAU  Installs  Uninstalls  Signups  Referrals\n",
       "0  2022-10-01  24071      6630        6994     3511      962.0\n",
       "1  2022-10-02  23548      6366        6669     3387      941.0\n",
       "2  2022-10-03  24572      6936        6899     3654      940.0\n",
       "3  2022-10-04  24212      6561        6766     3532      960.0\n",
       "4  2022-10-05  23247      6059        6402     3315      923.0\n",
       "5  2022-10-06  24330      6230        6780     3288      822.0\n",
       "6  2022-10-07  24213      6925        7073     3562      957.0\n",
       "7  2022-10-08  25099      7826        7790     4110      994.0\n",
       "8  2022-10-09  24099      8937        8149     4114     1016.0\n",
       "9  2022-10-10  25156      8139        8215     4974     1186.0\n",
       "10 2022-10-11  24497      7308        7532     4347     1161.0\n",
       "11 2022-10-12  24152      8020        7867     4404     1193.0\n",
       "12 2022-10-13  24094      7097        7081     4211      987.0\n",
       "13 2022-10-14  21589      6729        7065     3494      860.0\n",
       "14 2022-10-15  20829      5659        6519     2967      772.0\n",
       "15 2022-10-16  22222      5861        6552     3096     1052.0\n",
       "16 2022-10-17  20943      5860        6455     2828      801.0\n",
       "17 2022-10-18  20180      6070        6611     2559      572.0\n",
       "18 2022-10-19  19737      5267        6102     2278      606.0\n",
       "19 2022-10-20  20148      5467        6125     2854      700.0\n",
       "20 2022-10-21  17343      3845        4916     1726      512.0\n",
       "21 2022-10-22  16270      3703        4727     1705      530.0\n",
       "22 2022-10-23  15223      3397        4314     1545      484.0\n",
       "23 2022-10-24  13482      3074        3904     1363      384.0\n",
       "24 2022-10-25  14244      3714        4541     1658      435.0\n",
       "25 2022-10-26  14659      3885        4564     1740      491.0\n",
       "26 2022-10-27  14896      3707        4563     1905      551.0\n",
       "27 2022-10-28  14473      3735        4381     1799      555.0\n",
       "28 2022-10-29  13390      4072        4695     1872      536.0\n",
       "29 2022-10-30  13370      3543        4343     1942      573.0\n",
       "30 2022-10-31  13236      3313        4057     1562      419.0\n",
       "31 2022-11-01  12816      3763        4149     1806        NaN\n",
       "32 2022-11-02  12812      3087        3868     1550        NaN\n",
       "33 2022-11-03  12042      3176        3815     1410        NaN\n",
       "34 2022-11-04  12595      3172        3878     1629        NaN\n",
       "35 2022-11-05  12361      3390        4021     1578        NaN\n",
       "36 2022-11-06  13166      3441        4071     1656        NaN\n",
       "37 2022-11-07  12565      3468        4011     1556        NaN\n",
       "38 2022-11-08  12988      4468        4143     1808        NaN\n",
       "39 2022-11-09  12992      4491        4638     2017        NaN\n",
       "40 2022-11-10  13377      4261        4480     1997        NaN\n",
       "41 2022-11-11  13826      4274        4512     2047        NaN\n",
       "42 2022-11-12  13464      4660        4856     2066        NaN\n",
       "43 2022-11-13  13415      4416        4749     2147        NaN\n",
       "44 2022-11-14  13873      4097        4305     2065        NaN\n",
       "45 2022-11-15  14459      4890        4593     2707        NaN"
      ]
     },
     "execution_count": 65,
     "metadata": {},
     "output_type": "execute_result"
    }
   ],
   "source": [
    "sikka_df"
   ]
  },
  {
   "cell_type": "code",
   "execution_count": 66,
   "id": "264c8b4f",
   "metadata": {
    "scrolled": true
   },
   "outputs": [],
   "source": [
    "# Seperating the train and predict datasets as \"sikka_oct\" & \"sikka_nov\"\n",
    "sikka_oct= sikka_df.dropna()\n",
    "sikka_nov=sikka_df[sikka_df.Referrals.isna()]"
   ]
  },
  {
   "cell_type": "code",
   "execution_count": 67,
   "id": "73ca6c51",
   "metadata": {
    "scrolled": true
   },
   "outputs": [],
   "source": [
    "#Importing ststsmodel \n",
    "\n",
    "import statsmodels.api  as sm"
   ]
  },
  {
   "cell_type": "code",
   "execution_count": 68,
   "id": "3adf3d3f",
   "metadata": {
    "scrolled": true
   },
   "outputs": [],
   "source": [
    "#seperating Independent variables\n",
    "x=sikka_oct.iloc[:,1:-1]\n",
    "\n",
    "#Target variables\n",
    "y=sikka_oct.iloc[:,-1]"
   ]
  },
  {
   "cell_type": "code",
   "execution_count": 69,
   "id": "1f294465",
   "metadata": {
    "scrolled": true
   },
   "outputs": [
    {
     "data": {
      "text/html": [
       "<div>\n",
       "<style scoped>\n",
       "    .dataframe tbody tr th:only-of-type {\n",
       "        vertical-align: middle;\n",
       "    }\n",
       "\n",
       "    .dataframe tbody tr th {\n",
       "        vertical-align: top;\n",
       "    }\n",
       "\n",
       "    .dataframe thead th {\n",
       "        text-align: right;\n",
       "    }\n",
       "</style>\n",
       "<table border=\"1\" class=\"dataframe\">\n",
       "  <thead>\n",
       "    <tr style=\"text-align: right;\">\n",
       "      <th></th>\n",
       "      <th>DAU</th>\n",
       "      <th>Installs</th>\n",
       "      <th>Uninstalls</th>\n",
       "      <th>Signups</th>\n",
       "    </tr>\n",
       "  </thead>\n",
       "  <tbody>\n",
       "    <tr>\n",
       "      <th>0</th>\n",
       "      <td>24071</td>\n",
       "      <td>6630</td>\n",
       "      <td>6994</td>\n",
       "      <td>3511</td>\n",
       "    </tr>\n",
       "    <tr>\n",
       "      <th>1</th>\n",
       "      <td>23548</td>\n",
       "      <td>6366</td>\n",
       "      <td>6669</td>\n",
       "      <td>3387</td>\n",
       "    </tr>\n",
       "    <tr>\n",
       "      <th>2</th>\n",
       "      <td>24572</td>\n",
       "      <td>6936</td>\n",
       "      <td>6899</td>\n",
       "      <td>3654</td>\n",
       "    </tr>\n",
       "    <tr>\n",
       "      <th>3</th>\n",
       "      <td>24212</td>\n",
       "      <td>6561</td>\n",
       "      <td>6766</td>\n",
       "      <td>3532</td>\n",
       "    </tr>\n",
       "    <tr>\n",
       "      <th>4</th>\n",
       "      <td>23247</td>\n",
       "      <td>6059</td>\n",
       "      <td>6402</td>\n",
       "      <td>3315</td>\n",
       "    </tr>\n",
       "    <tr>\n",
       "      <th>5</th>\n",
       "      <td>24330</td>\n",
       "      <td>6230</td>\n",
       "      <td>6780</td>\n",
       "      <td>3288</td>\n",
       "    </tr>\n",
       "    <tr>\n",
       "      <th>6</th>\n",
       "      <td>24213</td>\n",
       "      <td>6925</td>\n",
       "      <td>7073</td>\n",
       "      <td>3562</td>\n",
       "    </tr>\n",
       "    <tr>\n",
       "      <th>7</th>\n",
       "      <td>25099</td>\n",
       "      <td>7826</td>\n",
       "      <td>7790</td>\n",
       "      <td>4110</td>\n",
       "    </tr>\n",
       "    <tr>\n",
       "      <th>8</th>\n",
       "      <td>24099</td>\n",
       "      <td>8937</td>\n",
       "      <td>8149</td>\n",
       "      <td>4114</td>\n",
       "    </tr>\n",
       "    <tr>\n",
       "      <th>9</th>\n",
       "      <td>25156</td>\n",
       "      <td>8139</td>\n",
       "      <td>8215</td>\n",
       "      <td>4974</td>\n",
       "    </tr>\n",
       "    <tr>\n",
       "      <th>10</th>\n",
       "      <td>24497</td>\n",
       "      <td>7308</td>\n",
       "      <td>7532</td>\n",
       "      <td>4347</td>\n",
       "    </tr>\n",
       "    <tr>\n",
       "      <th>11</th>\n",
       "      <td>24152</td>\n",
       "      <td>8020</td>\n",
       "      <td>7867</td>\n",
       "      <td>4404</td>\n",
       "    </tr>\n",
       "    <tr>\n",
       "      <th>12</th>\n",
       "      <td>24094</td>\n",
       "      <td>7097</td>\n",
       "      <td>7081</td>\n",
       "      <td>4211</td>\n",
       "    </tr>\n",
       "    <tr>\n",
       "      <th>13</th>\n",
       "      <td>21589</td>\n",
       "      <td>6729</td>\n",
       "      <td>7065</td>\n",
       "      <td>3494</td>\n",
       "    </tr>\n",
       "    <tr>\n",
       "      <th>14</th>\n",
       "      <td>20829</td>\n",
       "      <td>5659</td>\n",
       "      <td>6519</td>\n",
       "      <td>2967</td>\n",
       "    </tr>\n",
       "    <tr>\n",
       "      <th>15</th>\n",
       "      <td>22222</td>\n",
       "      <td>5861</td>\n",
       "      <td>6552</td>\n",
       "      <td>3096</td>\n",
       "    </tr>\n",
       "    <tr>\n",
       "      <th>16</th>\n",
       "      <td>20943</td>\n",
       "      <td>5860</td>\n",
       "      <td>6455</td>\n",
       "      <td>2828</td>\n",
       "    </tr>\n",
       "    <tr>\n",
       "      <th>17</th>\n",
       "      <td>20180</td>\n",
       "      <td>6070</td>\n",
       "      <td>6611</td>\n",
       "      <td>2559</td>\n",
       "    </tr>\n",
       "    <tr>\n",
       "      <th>18</th>\n",
       "      <td>19737</td>\n",
       "      <td>5267</td>\n",
       "      <td>6102</td>\n",
       "      <td>2278</td>\n",
       "    </tr>\n",
       "    <tr>\n",
       "      <th>19</th>\n",
       "      <td>20148</td>\n",
       "      <td>5467</td>\n",
       "      <td>6125</td>\n",
       "      <td>2854</td>\n",
       "    </tr>\n",
       "    <tr>\n",
       "      <th>20</th>\n",
       "      <td>17343</td>\n",
       "      <td>3845</td>\n",
       "      <td>4916</td>\n",
       "      <td>1726</td>\n",
       "    </tr>\n",
       "    <tr>\n",
       "      <th>21</th>\n",
       "      <td>16270</td>\n",
       "      <td>3703</td>\n",
       "      <td>4727</td>\n",
       "      <td>1705</td>\n",
       "    </tr>\n",
       "    <tr>\n",
       "      <th>22</th>\n",
       "      <td>15223</td>\n",
       "      <td>3397</td>\n",
       "      <td>4314</td>\n",
       "      <td>1545</td>\n",
       "    </tr>\n",
       "    <tr>\n",
       "      <th>23</th>\n",
       "      <td>13482</td>\n",
       "      <td>3074</td>\n",
       "      <td>3904</td>\n",
       "      <td>1363</td>\n",
       "    </tr>\n",
       "    <tr>\n",
       "      <th>24</th>\n",
       "      <td>14244</td>\n",
       "      <td>3714</td>\n",
       "      <td>4541</td>\n",
       "      <td>1658</td>\n",
       "    </tr>\n",
       "    <tr>\n",
       "      <th>25</th>\n",
       "      <td>14659</td>\n",
       "      <td>3885</td>\n",
       "      <td>4564</td>\n",
       "      <td>1740</td>\n",
       "    </tr>\n",
       "    <tr>\n",
       "      <th>26</th>\n",
       "      <td>14896</td>\n",
       "      <td>3707</td>\n",
       "      <td>4563</td>\n",
       "      <td>1905</td>\n",
       "    </tr>\n",
       "    <tr>\n",
       "      <th>27</th>\n",
       "      <td>14473</td>\n",
       "      <td>3735</td>\n",
       "      <td>4381</td>\n",
       "      <td>1799</td>\n",
       "    </tr>\n",
       "    <tr>\n",
       "      <th>28</th>\n",
       "      <td>13390</td>\n",
       "      <td>4072</td>\n",
       "      <td>4695</td>\n",
       "      <td>1872</td>\n",
       "    </tr>\n",
       "    <tr>\n",
       "      <th>29</th>\n",
       "      <td>13370</td>\n",
       "      <td>3543</td>\n",
       "      <td>4343</td>\n",
       "      <td>1942</td>\n",
       "    </tr>\n",
       "    <tr>\n",
       "      <th>30</th>\n",
       "      <td>13236</td>\n",
       "      <td>3313</td>\n",
       "      <td>4057</td>\n",
       "      <td>1562</td>\n",
       "    </tr>\n",
       "  </tbody>\n",
       "</table>\n",
       "</div>"
      ],
      "text/plain": [
       "      DAU  Installs  Uninstalls  Signups\n",
       "0   24071      6630        6994     3511\n",
       "1   23548      6366        6669     3387\n",
       "2   24572      6936        6899     3654\n",
       "3   24212      6561        6766     3532\n",
       "4   23247      6059        6402     3315\n",
       "5   24330      6230        6780     3288\n",
       "6   24213      6925        7073     3562\n",
       "7   25099      7826        7790     4110\n",
       "8   24099      8937        8149     4114\n",
       "9   25156      8139        8215     4974\n",
       "10  24497      7308        7532     4347\n",
       "11  24152      8020        7867     4404\n",
       "12  24094      7097        7081     4211\n",
       "13  21589      6729        7065     3494\n",
       "14  20829      5659        6519     2967\n",
       "15  22222      5861        6552     3096\n",
       "16  20943      5860        6455     2828\n",
       "17  20180      6070        6611     2559\n",
       "18  19737      5267        6102     2278\n",
       "19  20148      5467        6125     2854\n",
       "20  17343      3845        4916     1726\n",
       "21  16270      3703        4727     1705\n",
       "22  15223      3397        4314     1545\n",
       "23  13482      3074        3904     1363\n",
       "24  14244      3714        4541     1658\n",
       "25  14659      3885        4564     1740\n",
       "26  14896      3707        4563     1905\n",
       "27  14473      3735        4381     1799\n",
       "28  13390      4072        4695     1872\n",
       "29  13370      3543        4343     1942\n",
       "30  13236      3313        4057     1562"
      ]
     },
     "execution_count": 69,
     "metadata": {},
     "output_type": "execute_result"
    }
   ],
   "source": [
    "x"
   ]
  },
  {
   "cell_type": "code",
   "execution_count": 70,
   "id": "2bbce1ac",
   "metadata": {
    "scrolled": true
   },
   "outputs": [
    {
     "data": {
      "text/plain": [
       "0      962.0\n",
       "1      941.0\n",
       "2      940.0\n",
       "3      960.0\n",
       "4      923.0\n",
       "5      822.0\n",
       "6      957.0\n",
       "7      994.0\n",
       "8     1016.0\n",
       "9     1186.0\n",
       "10    1161.0\n",
       "11    1193.0\n",
       "12     987.0\n",
       "13     860.0\n",
       "14     772.0\n",
       "15    1052.0\n",
       "16     801.0\n",
       "17     572.0\n",
       "18     606.0\n",
       "19     700.0\n",
       "20     512.0\n",
       "21     530.0\n",
       "22     484.0\n",
       "23     384.0\n",
       "24     435.0\n",
       "25     491.0\n",
       "26     551.0\n",
       "27     555.0\n",
       "28     536.0\n",
       "29     573.0\n",
       "30     419.0\n",
       "Name: Referrals, dtype: float64"
      ]
     },
     "execution_count": 70,
     "metadata": {},
     "output_type": "execute_result"
    }
   ],
   "source": [
    "y"
   ]
  },
  {
   "cell_type": "markdown",
   "id": "464da2b8",
   "metadata": {},
   "source": [
    "#### Model Creation"
   ]
  },
  {
   "cell_type": "code",
   "execution_count": 71,
   "id": "55e81491",
   "metadata": {
    "scrolled": true
   },
   "outputs": [],
   "source": [
    "#Creating an instance of the OLS model\n",
    "\n",
    "model= sm.OLS(y,x)"
   ]
  },
  {
   "cell_type": "code",
   "execution_count": 72,
   "id": "867b08a6",
   "metadata": {
    "scrolled": true
   },
   "outputs": [],
   "source": [
    "result= model.fit()"
   ]
  },
  {
   "cell_type": "code",
   "execution_count": 73,
   "id": "2a5c8e7a",
   "metadata": {
    "scrolled": true
   },
   "outputs": [
    {
     "data": {
      "text/plain": [
       "DAU           0.014100\n",
       "Installs     -0.054656\n",
       "Uninstalls    0.013418\n",
       "Signups       0.247101\n",
       "dtype: float64"
      ]
     },
     "execution_count": 73,
     "metadata": {},
     "output_type": "execute_result"
    }
   ],
   "source": [
    "result.params"
   ]
  },
  {
   "cell_type": "code",
   "execution_count": 74,
   "id": "b55fc679",
   "metadata": {
    "scrolled": true
   },
   "outputs": [
    {
     "name": "stdout",
     "output_type": "stream",
     "text": [
      "                                 OLS Regression Results                                \n",
      "=======================================================================================\n",
      "Dep. Variable:              Referrals   R-squared (uncentered):                   0.994\n",
      "Model:                            OLS   Adj. R-squared (uncentered):              0.994\n",
      "Method:                 Least Squares   F-statistic:                              1214.\n",
      "Date:                Mon, 19 Dec 2022   Prob (F-statistic):                    4.86e-30\n",
      "Time:                        19:19:06   Log-Likelihood:                         -170.97\n",
      "No. Observations:                  31   AIC:                                      349.9\n",
      "Df Residuals:                      27   BIC:                                      355.7\n",
      "Df Model:                           4                                                  \n",
      "Covariance Type:            nonrobust                                                  \n",
      "==============================================================================\n",
      "                 coef    std err          t      P>|t|      [0.025      0.975]\n",
      "------------------------------------------------------------------------------\n",
      "DAU            0.0141      0.010      1.473      0.152      -0.006       0.034\n",
      "Installs      -0.0547      0.042     -1.300      0.205      -0.141       0.032\n",
      "Uninstalls     0.0134      0.046      0.293      0.772      -0.081       0.107\n",
      "Signups        0.2471      0.044      5.584      0.000       0.156       0.338\n",
      "==============================================================================\n",
      "Omnibus:                       11.278   Durbin-Watson:                   2.079\n",
      "Prob(Omnibus):                  0.004   Jarque-Bera (JB):               12.472\n",
      "Skew:                           0.944   Prob(JB):                      0.00196\n",
      "Kurtosis:                       5.468   Cond. No.                         129.\n",
      "==============================================================================\n",
      "\n",
      "Notes:\n",
      "[1] R² is computed without centering (uncentered) since the model does not contain a constant.\n",
      "[2] Standard Errors assume that the covariance matrix of the errors is correctly specified.\n"
     ]
    }
   ],
   "source": [
    "print(result.summary())"
   ]
  },
  {
   "cell_type": "markdown",
   "id": "72db5c20",
   "metadata": {},
   "source": [
    "### It is noted that the P-value for \"Uninstalls\" >0.05, indicating its less significant on Target variable. Thus we shall drop this variable in iretation."
   ]
  },
  {
   "cell_type": "markdown",
   "id": "8540b5af",
   "metadata": {},
   "source": [
    "### Iteration-2"
   ]
  },
  {
   "cell_type": "code",
   "execution_count": 75,
   "id": "70733a63",
   "metadata": {
    "scrolled": true
   },
   "outputs": [],
   "source": [
    "#Dropping 'Uninstalls' variable for the model.\n",
    "x= x[x.columns.difference([\"Uninstalls\"])]"
   ]
  },
  {
   "cell_type": "code",
   "execution_count": 76,
   "id": "0975a881",
   "metadata": {
    "scrolled": true
   },
   "outputs": [],
   "source": [
    "\n",
    "model= sm.OLS(y,x)"
   ]
  },
  {
   "cell_type": "code",
   "execution_count": 77,
   "id": "dc5f8e22",
   "metadata": {
    "scrolled": true
   },
   "outputs": [],
   "source": [
    "result= model.fit()"
   ]
  },
  {
   "cell_type": "code",
   "execution_count": 78,
   "id": "bd5cc2fa",
   "metadata": {
    "scrolled": true
   },
   "outputs": [
    {
     "name": "stdout",
     "output_type": "stream",
     "text": [
      "                                 OLS Regression Results                                \n",
      "=======================================================================================\n",
      "Dep. Variable:              Referrals   R-squared (uncentered):                   0.994\n",
      "Model:                            OLS   Adj. R-squared (uncentered):              0.994\n",
      "Method:                 Least Squares   F-statistic:                              1673.\n",
      "Date:                Mon, 19 Dec 2022   Prob (F-statistic):                    1.13e-31\n",
      "Time:                        19:19:06   Log-Likelihood:                         -171.02\n",
      "No. Observations:                  31   AIC:                                      348.0\n",
      "Df Residuals:                      28   BIC:                                      352.3\n",
      "Df Model:                           3                                                  \n",
      "Covariance Type:            nonrobust                                                  \n",
      "==============================================================================\n",
      "                 coef    std err          t      P>|t|      [0.025      0.975]\n",
      "------------------------------------------------------------------------------\n",
      "DAU            0.0165      0.005      3.320      0.003       0.006       0.027\n",
      "Installs      -0.0460      0.029     -1.570      0.128      -0.106       0.014\n",
      "Signups        0.2418      0.040      6.095      0.000       0.161       0.323\n",
      "==============================================================================\n",
      "Omnibus:                       11.336   Durbin-Watson:                   2.040\n",
      "Prob(Omnibus):                  0.003   Jarque-Bera (JB):               12.581\n",
      "Skew:                           0.948   Prob(JB):                      0.00185\n",
      "Kurtosis:                       5.480   Cond. No.                         89.3\n",
      "==============================================================================\n",
      "\n",
      "Notes:\n",
      "[1] R² is computed without centering (uncentered) since the model does not contain a constant.\n",
      "[2] Standard Errors assume that the covariance matrix of the errors is correctly specified.\n"
     ]
    }
   ],
   "source": [
    "print(result.summary())"
   ]
  },
  {
   "cell_type": "code",
   "execution_count": 79,
   "id": "08fe1d83",
   "metadata": {
    "scrolled": true
   },
   "outputs": [
    {
     "name": "stdout",
     "output_type": "stream",
     "text": [
      "                                 OLS Regression Results                                \n",
      "=======================================================================================\n",
      "Dep. Variable:              Referrals   R-squared (uncentered):                   0.994\n",
      "Model:                            OLS   Adj. R-squared (uncentered):              0.994\n",
      "Method:                 Least Squares   F-statistic:                              2387.\n",
      "Date:                Mon, 19 Dec 2022   Prob (F-statistic):                    6.64e-33\n",
      "Time:                        19:19:06   Log-Likelihood:                         -172.33\n",
      "No. Observations:                  31   AIC:                                      348.7\n",
      "Df Residuals:                      29   BIC:                                      351.5\n",
      "Df Model:                           2                                                  \n",
      "Covariance Type:            nonrobust                                                  \n",
      "==============================================================================\n",
      "                 coef    std err          t      P>|t|      [0.025      0.975]\n",
      "------------------------------------------------------------------------------\n",
      "DAU            0.0109      0.004      3.073      0.005       0.004       0.018\n",
      "Signups        0.1913      0.024      8.043      0.000       0.143       0.240\n",
      "==============================================================================\n",
      "Omnibus:                       11.901   Durbin-Watson:                   1.802\n",
      "Prob(Omnibus):                  0.003   Jarque-Bera (JB):               14.618\n",
      "Skew:                           0.925   Prob(JB):                     0.000669\n",
      "Kurtosis:                       5.810   Cond. No.                         42.7\n",
      "==============================================================================\n",
      "\n",
      "Notes:\n",
      "[1] R² is computed without centering (uncentered) since the model does not contain a constant.\n",
      "[2] Standard Errors assume that the covariance matrix of the errors is correctly specified.\n"
     ]
    }
   ],
   "source": [
    "x= x[x.columns.difference([\"Installs\"])]\n",
    "model= sm.OLS(y,x)\n",
    "result= model.fit()\n",
    "print(result.summary())"
   ]
  },
  {
   "cell_type": "markdown",
   "id": "b15f4b69",
   "metadata": {},
   "source": [
    "### It is noted that the R-square value is above 99% id there is no significant change in the accuracy. Also the P-values of the independent variable are less than equal to 0.05. Thus we shall consider this as a final model to predict future values."
   ]
  },
  {
   "cell_type": "code",
   "execution_count": null,
   "id": "61b07058",
   "metadata": {
    "scrolled": true
   },
   "outputs": [],
   "source": []
  },
  {
   "cell_type": "markdown",
   "id": "75f0ba10",
   "metadata": {},
   "source": [
    "### Predicting the Nov month Referrals using the above Coeffi."
   ]
  },
  {
   "cell_type": "code",
   "execution_count": 80,
   "id": "b1922da3",
   "metadata": {
    "scrolled": true
   },
   "outputs": [
    {
     "name": "stderr",
     "output_type": "stream",
     "text": [
      "C:\\Users\\santh\\AppData\\Local\\Temp\\ipykernel_11552\\1009150492.py:1: SettingWithCopyWarning: \n",
      "A value is trying to be set on a copy of a slice from a DataFrame.\n",
      "Try using .loc[row_indexer,col_indexer] = value instead\n",
      "\n",
      "See the caveats in the documentation: https://pandas.pydata.org/pandas-docs/stable/user_guide/indexing.html#returning-a-view-versus-a-copy\n",
      "  sikka_nov[\"Referrals\"]=np.round(0.0109*sikka_nov[\"DAU\"]+ 0.1913*sikka_nov[\"Signups\"])\n"
     ]
    },
    {
     "data": {
      "text/html": [
       "<div>\n",
       "<style scoped>\n",
       "    .dataframe tbody tr th:only-of-type {\n",
       "        vertical-align: middle;\n",
       "    }\n",
       "\n",
       "    .dataframe tbody tr th {\n",
       "        vertical-align: top;\n",
       "    }\n",
       "\n",
       "    .dataframe thead th {\n",
       "        text-align: right;\n",
       "    }\n",
       "</style>\n",
       "<table border=\"1\" class=\"dataframe\">\n",
       "  <thead>\n",
       "    <tr style=\"text-align: right;\">\n",
       "      <th></th>\n",
       "      <th>Date</th>\n",
       "      <th>DAU</th>\n",
       "      <th>Installs</th>\n",
       "      <th>Uninstalls</th>\n",
       "      <th>Signups</th>\n",
       "      <th>Referrals</th>\n",
       "    </tr>\n",
       "  </thead>\n",
       "  <tbody>\n",
       "    <tr>\n",
       "      <th>31</th>\n",
       "      <td>2022-11-01</td>\n",
       "      <td>12816</td>\n",
       "      <td>3763</td>\n",
       "      <td>4149</td>\n",
       "      <td>1806</td>\n",
       "      <td>485.0</td>\n",
       "    </tr>\n",
       "    <tr>\n",
       "      <th>32</th>\n",
       "      <td>2022-11-02</td>\n",
       "      <td>12812</td>\n",
       "      <td>3087</td>\n",
       "      <td>3868</td>\n",
       "      <td>1550</td>\n",
       "      <td>436.0</td>\n",
       "    </tr>\n",
       "    <tr>\n",
       "      <th>33</th>\n",
       "      <td>2022-11-03</td>\n",
       "      <td>12042</td>\n",
       "      <td>3176</td>\n",
       "      <td>3815</td>\n",
       "      <td>1410</td>\n",
       "      <td>401.0</td>\n",
       "    </tr>\n",
       "    <tr>\n",
       "      <th>34</th>\n",
       "      <td>2022-11-04</td>\n",
       "      <td>12595</td>\n",
       "      <td>3172</td>\n",
       "      <td>3878</td>\n",
       "      <td>1629</td>\n",
       "      <td>449.0</td>\n",
       "    </tr>\n",
       "    <tr>\n",
       "      <th>35</th>\n",
       "      <td>2022-11-05</td>\n",
       "      <td>12361</td>\n",
       "      <td>3390</td>\n",
       "      <td>4021</td>\n",
       "      <td>1578</td>\n",
       "      <td>437.0</td>\n",
       "    </tr>\n",
       "    <tr>\n",
       "      <th>36</th>\n",
       "      <td>2022-11-06</td>\n",
       "      <td>13166</td>\n",
       "      <td>3441</td>\n",
       "      <td>4071</td>\n",
       "      <td>1656</td>\n",
       "      <td>460.0</td>\n",
       "    </tr>\n",
       "    <tr>\n",
       "      <th>37</th>\n",
       "      <td>2022-11-07</td>\n",
       "      <td>12565</td>\n",
       "      <td>3468</td>\n",
       "      <td>4011</td>\n",
       "      <td>1556</td>\n",
       "      <td>435.0</td>\n",
       "    </tr>\n",
       "    <tr>\n",
       "      <th>38</th>\n",
       "      <td>2022-11-08</td>\n",
       "      <td>12988</td>\n",
       "      <td>4468</td>\n",
       "      <td>4143</td>\n",
       "      <td>1808</td>\n",
       "      <td>487.0</td>\n",
       "    </tr>\n",
       "    <tr>\n",
       "      <th>39</th>\n",
       "      <td>2022-11-09</td>\n",
       "      <td>12992</td>\n",
       "      <td>4491</td>\n",
       "      <td>4638</td>\n",
       "      <td>2017</td>\n",
       "      <td>527.0</td>\n",
       "    </tr>\n",
       "    <tr>\n",
       "      <th>40</th>\n",
       "      <td>2022-11-10</td>\n",
       "      <td>13377</td>\n",
       "      <td>4261</td>\n",
       "      <td>4480</td>\n",
       "      <td>1997</td>\n",
       "      <td>528.0</td>\n",
       "    </tr>\n",
       "    <tr>\n",
       "      <th>41</th>\n",
       "      <td>2022-11-11</td>\n",
       "      <td>13826</td>\n",
       "      <td>4274</td>\n",
       "      <td>4512</td>\n",
       "      <td>2047</td>\n",
       "      <td>542.0</td>\n",
       "    </tr>\n",
       "    <tr>\n",
       "      <th>42</th>\n",
       "      <td>2022-11-12</td>\n",
       "      <td>13464</td>\n",
       "      <td>4660</td>\n",
       "      <td>4856</td>\n",
       "      <td>2066</td>\n",
       "      <td>542.0</td>\n",
       "    </tr>\n",
       "    <tr>\n",
       "      <th>43</th>\n",
       "      <td>2022-11-13</td>\n",
       "      <td>13415</td>\n",
       "      <td>4416</td>\n",
       "      <td>4749</td>\n",
       "      <td>2147</td>\n",
       "      <td>557.0</td>\n",
       "    </tr>\n",
       "    <tr>\n",
       "      <th>44</th>\n",
       "      <td>2022-11-14</td>\n",
       "      <td>13873</td>\n",
       "      <td>4097</td>\n",
       "      <td>4305</td>\n",
       "      <td>2065</td>\n",
       "      <td>546.0</td>\n",
       "    </tr>\n",
       "    <tr>\n",
       "      <th>45</th>\n",
       "      <td>2022-11-15</td>\n",
       "      <td>14459</td>\n",
       "      <td>4890</td>\n",
       "      <td>4593</td>\n",
       "      <td>2707</td>\n",
       "      <td>675.0</td>\n",
       "    </tr>\n",
       "  </tbody>\n",
       "</table>\n",
       "</div>"
      ],
      "text/plain": [
       "         Date    DAU  Installs  Uninstalls  Signups  Referrals\n",
       "31 2022-11-01  12816      3763        4149     1806      485.0\n",
       "32 2022-11-02  12812      3087        3868     1550      436.0\n",
       "33 2022-11-03  12042      3176        3815     1410      401.0\n",
       "34 2022-11-04  12595      3172        3878     1629      449.0\n",
       "35 2022-11-05  12361      3390        4021     1578      437.0\n",
       "36 2022-11-06  13166      3441        4071     1656      460.0\n",
       "37 2022-11-07  12565      3468        4011     1556      435.0\n",
       "38 2022-11-08  12988      4468        4143     1808      487.0\n",
       "39 2022-11-09  12992      4491        4638     2017      527.0\n",
       "40 2022-11-10  13377      4261        4480     1997      528.0\n",
       "41 2022-11-11  13826      4274        4512     2047      542.0\n",
       "42 2022-11-12  13464      4660        4856     2066      542.0\n",
       "43 2022-11-13  13415      4416        4749     2147      557.0\n",
       "44 2022-11-14  13873      4097        4305     2065      546.0\n",
       "45 2022-11-15  14459      4890        4593     2707      675.0"
      ]
     },
     "execution_count": 80,
     "metadata": {},
     "output_type": "execute_result"
    }
   ],
   "source": [
    "sikka_nov[\"Referrals\"]=np.round(0.0109*sikka_nov[\"DAU\"]+ 0.1913*sikka_nov[\"Signups\"])\n",
    "sikka_nov"
   ]
  },
  {
   "cell_type": "markdown",
   "id": "afb71c81",
   "metadata": {
    "scrolled": true
   },
   "source": [
    "# -----------------------------------------------------------------------------------------------------------"
   ]
  },
  {
   "cell_type": "markdown",
   "id": "1c42c0a9",
   "metadata": {},
   "source": [
    "# Question-4"
   ]
  },
  {
   "cell_type": "code",
   "execution_count": 81,
   "id": "40df17ca",
   "metadata": {
    "scrolled": true
   },
   "outputs": [
    {
     "data": {
      "text/plain": [
       "app_id    country   \n",
       "16243270  Argentina     14\n",
       "          Bangladesh    23\n",
       "          Brazil        22\n",
       "          Bulgaria       6\n",
       "          Cambodia       1\n",
       "                        ..\n",
       "95674771  Venezuela     54\n",
       "          Vietnam       93\n",
       "          Yemen         43\n",
       "          Zambia         1\n",
       "          Zimbabwe       6\n",
       "Name: country, Length: 1042, dtype: int64"
      ]
     },
     "execution_count": 81,
     "metadata": {},
     "output_type": "execute_result"
    }
   ],
   "source": [
    "adx_df.groupby([\"app_id\", \"country\"])[\"country\"].count()"
   ]
  },
  {
   "cell_type": "code",
   "execution_count": 82,
   "id": "1a60da49",
   "metadata": {
    "scrolled": true
   },
   "outputs": [
    {
     "data": {
      "text/html": [
       "<div>\n",
       "<style scoped>\n",
       "    .dataframe tbody tr th:only-of-type {\n",
       "        vertical-align: middle;\n",
       "    }\n",
       "\n",
       "    .dataframe tbody tr th {\n",
       "        vertical-align: top;\n",
       "    }\n",
       "\n",
       "    .dataframe thead th {\n",
       "        text-align: right;\n",
       "    }\n",
       "</style>\n",
       "<table border=\"1\" class=\"dataframe\">\n",
       "  <thead>\n",
       "    <tr style=\"text-align: right;\">\n",
       "      <th></th>\n",
       "      <th>date</th>\n",
       "      <th>pub_id</th>\n",
       "      <th>app_id</th>\n",
       "      <th>ad_unit_code</th>\n",
       "      <th>country</th>\n",
       "      <th>requests</th>\n",
       "      <th>ae_responses</th>\n",
       "      <th>ae_impressions</th>\n",
       "      <th>ae_clicks</th>\n",
       "      <th>ae_revenue</th>\n",
       "    </tr>\n",
       "  </thead>\n",
       "  <tbody>\n",
       "    <tr>\n",
       "      <th>3</th>\n",
       "      <td>2022-10-20</td>\n",
       "      <td>1987</td>\n",
       "      <td>16243270</td>\n",
       "      <td>22832846593</td>\n",
       "      <td>Thailand</td>\n",
       "      <td>1006</td>\n",
       "      <td>907</td>\n",
       "      <td>688</td>\n",
       "      <td>134</td>\n",
       "      <td>24.226836</td>\n",
       "    </tr>\n",
       "    <tr>\n",
       "      <th>4</th>\n",
       "      <td>2022-10-20</td>\n",
       "      <td>1987</td>\n",
       "      <td>16243270</td>\n",
       "      <td>22832827729</td>\n",
       "      <td>Thailand</td>\n",
       "      <td>373</td>\n",
       "      <td>287</td>\n",
       "      <td>156</td>\n",
       "      <td>20</td>\n",
       "      <td>2.759392</td>\n",
       "    </tr>\n",
       "    <tr>\n",
       "      <th>33</th>\n",
       "      <td>2022-10-25</td>\n",
       "      <td>1987</td>\n",
       "      <td>16243270</td>\n",
       "      <td>22832827729</td>\n",
       "      <td>Thailand</td>\n",
       "      <td>183</td>\n",
       "      <td>158</td>\n",
       "      <td>76</td>\n",
       "      <td>3</td>\n",
       "      <td>2.406026</td>\n",
       "    </tr>\n",
       "    <tr>\n",
       "      <th>35</th>\n",
       "      <td>2022-10-25</td>\n",
       "      <td>1987</td>\n",
       "      <td>16243270</td>\n",
       "      <td>22832846593</td>\n",
       "      <td>Thailand</td>\n",
       "      <td>511</td>\n",
       "      <td>447</td>\n",
       "      <td>305</td>\n",
       "      <td>3</td>\n",
       "      <td>31.396411</td>\n",
       "    </tr>\n",
       "    <tr>\n",
       "      <th>39</th>\n",
       "      <td>2022-10-25</td>\n",
       "      <td>1987</td>\n",
       "      <td>16243270</td>\n",
       "      <td>22832846443</td>\n",
       "      <td>Bangladesh</td>\n",
       "      <td>72</td>\n",
       "      <td>65</td>\n",
       "      <td>58</td>\n",
       "      <td>0</td>\n",
       "      <td>0.067043</td>\n",
       "    </tr>\n",
       "    <tr>\n",
       "      <th>...</th>\n",
       "      <td>...</td>\n",
       "      <td>...</td>\n",
       "      <td>...</td>\n",
       "      <td>...</td>\n",
       "      <td>...</td>\n",
       "      <td>...</td>\n",
       "      <td>...</td>\n",
       "      <td>...</td>\n",
       "      <td>...</td>\n",
       "      <td>...</td>\n",
       "    </tr>\n",
       "    <tr>\n",
       "      <th>47900</th>\n",
       "      <td>2022-10-22</td>\n",
       "      <td>14</td>\n",
       "      <td>95674771</td>\n",
       "      <td>22770341598</td>\n",
       "      <td>United States</td>\n",
       "      <td>298</td>\n",
       "      <td>297</td>\n",
       "      <td>279</td>\n",
       "      <td>26</td>\n",
       "      <td>13.910010</td>\n",
       "    </tr>\n",
       "    <tr>\n",
       "      <th>47901</th>\n",
       "      <td>2022-10-22</td>\n",
       "      <td>14</td>\n",
       "      <td>95674771</td>\n",
       "      <td>22770840377</td>\n",
       "      <td>United States</td>\n",
       "      <td>29</td>\n",
       "      <td>28</td>\n",
       "      <td>22</td>\n",
       "      <td>0</td>\n",
       "      <td>0.070432</td>\n",
       "    </tr>\n",
       "    <tr>\n",
       "      <th>47904</th>\n",
       "      <td>2022-10-22</td>\n",
       "      <td>14</td>\n",
       "      <td>95674771</td>\n",
       "      <td>22770341430</td>\n",
       "      <td>United Kingdom</td>\n",
       "      <td>589</td>\n",
       "      <td>586</td>\n",
       "      <td>334</td>\n",
       "      <td>8</td>\n",
       "      <td>0.571193</td>\n",
       "    </tr>\n",
       "    <tr>\n",
       "      <th>47918</th>\n",
       "      <td>2022-10-22</td>\n",
       "      <td>14</td>\n",
       "      <td>95674771</td>\n",
       "      <td>22770341598</td>\n",
       "      <td>Philippines</td>\n",
       "      <td>20</td>\n",
       "      <td>18</td>\n",
       "      <td>18</td>\n",
       "      <td>2</td>\n",
       "      <td>0.090684</td>\n",
       "    </tr>\n",
       "    <tr>\n",
       "      <th>47928</th>\n",
       "      <td>2022-10-22</td>\n",
       "      <td>14</td>\n",
       "      <td>95674771</td>\n",
       "      <td>22770341049</td>\n",
       "      <td>Philippines</td>\n",
       "      <td>40</td>\n",
       "      <td>36</td>\n",
       "      <td>20</td>\n",
       "      <td>4</td>\n",
       "      <td>0.112624</td>\n",
       "    </tr>\n",
       "  </tbody>\n",
       "</table>\n",
       "<p>24775 rows × 10 columns</p>\n",
       "</div>"
      ],
      "text/plain": [
       "            date  pub_id    app_id  ad_unit_code         country  requests  \\\n",
       "3     2022-10-20    1987  16243270   22832846593        Thailand      1006   \n",
       "4     2022-10-20    1987  16243270   22832827729        Thailand       373   \n",
       "33    2022-10-25    1987  16243270   22832827729        Thailand       183   \n",
       "35    2022-10-25    1987  16243270   22832846593        Thailand       511   \n",
       "39    2022-10-25    1987  16243270   22832846443      Bangladesh        72   \n",
       "...          ...     ...       ...           ...             ...       ...   \n",
       "47900 2022-10-22      14  95674771   22770341598   United States       298   \n",
       "47901 2022-10-22      14  95674771   22770840377   United States        29   \n",
       "47904 2022-10-22      14  95674771   22770341430  United Kingdom       589   \n",
       "47918 2022-10-22      14  95674771   22770341598     Philippines        20   \n",
       "47928 2022-10-22      14  95674771   22770341049     Philippines        40   \n",
       "\n",
       "       ae_responses  ae_impressions  ae_clicks  ae_revenue  \n",
       "3               907             688        134   24.226836  \n",
       "4               287             156         20    2.759392  \n",
       "33              158              76          3    2.406026  \n",
       "35              447             305          3   31.396411  \n",
       "39               65              58          0    0.067043  \n",
       "...             ...             ...        ...         ...  \n",
       "47900           297             279         26   13.910010  \n",
       "47901            28              22          0    0.070432  \n",
       "47904           586             334          8    0.571193  \n",
       "47918            18              18          2    0.090684  \n",
       "47928            36              20          4    0.112624  \n",
       "\n",
       "[24775 rows x 10 columns]"
      ]
     },
     "execution_count": 82,
     "metadata": {},
     "output_type": "execute_result"
    }
   ],
   "source": [
    "adx_df[adx_df.requests>adx_df.ae_responses]"
   ]
  },
  {
   "cell_type": "code",
   "execution_count": null,
   "id": "c7171d60",
   "metadata": {
    "scrolled": true
   },
   "outputs": [],
   "source": []
  },
  {
   "cell_type": "code",
   "execution_count": 83,
   "id": "2e7752b8",
   "metadata": {
    "scrolled": true
   },
   "outputs": [],
   "source": [
    "df=((adx_df.ae_impressions/adx_df.ae_responses)*100)\n"
   ]
  },
  {
   "cell_type": "code",
   "execution_count": 84,
   "id": "f82c3b8e",
   "metadata": {
    "scrolled": true
   },
   "outputs": [],
   "source": [
    "df=pd.concat([adx_df,df], axis=1)"
   ]
  },
  {
   "cell_type": "code",
   "execution_count": 85,
   "id": "e36cc708",
   "metadata": {
    "scrolled": true
   },
   "outputs": [
    {
     "data": {
      "text/html": [
       "<div>\n",
       "<style scoped>\n",
       "    .dataframe tbody tr th:only-of-type {\n",
       "        vertical-align: middle;\n",
       "    }\n",
       "\n",
       "    .dataframe tbody tr th {\n",
       "        vertical-align: top;\n",
       "    }\n",
       "\n",
       "    .dataframe thead th {\n",
       "        text-align: right;\n",
       "    }\n",
       "</style>\n",
       "<table border=\"1\" class=\"dataframe\">\n",
       "  <thead>\n",
       "    <tr style=\"text-align: right;\">\n",
       "      <th></th>\n",
       "      <th>date</th>\n",
       "      <th>pub_id</th>\n",
       "      <th>app_id</th>\n",
       "      <th>ad_unit_code</th>\n",
       "      <th>country</th>\n",
       "      <th>requests</th>\n",
       "      <th>ae_responses</th>\n",
       "      <th>ae_impressions</th>\n",
       "      <th>ae_clicks</th>\n",
       "      <th>ae_revenue</th>\n",
       "      <th>Percentage_imp</th>\n",
       "    </tr>\n",
       "  </thead>\n",
       "  <tbody>\n",
       "    <tr>\n",
       "      <th>0</th>\n",
       "      <td>2022-10-20</td>\n",
       "      <td>1987</td>\n",
       "      <td>16243270</td>\n",
       "      <td>22832846443</td>\n",
       "      <td>Tanzania</td>\n",
       "      <td>36</td>\n",
       "      <td>36</td>\n",
       "      <td>34</td>\n",
       "      <td>0</td>\n",
       "      <td>0.035738</td>\n",
       "      <td>94.444444</td>\n",
       "    </tr>\n",
       "    <tr>\n",
       "      <th>1</th>\n",
       "      <td>2022-10-20</td>\n",
       "      <td>1987</td>\n",
       "      <td>16243270</td>\n",
       "      <td>22832846593</td>\n",
       "      <td>Tanzania</td>\n",
       "      <td>24</td>\n",
       "      <td>24</td>\n",
       "      <td>23</td>\n",
       "      <td>0</td>\n",
       "      <td>0.064384</td>\n",
       "      <td>95.833333</td>\n",
       "    </tr>\n",
       "    <tr>\n",
       "      <th>2</th>\n",
       "      <td>2022-10-20</td>\n",
       "      <td>1987</td>\n",
       "      <td>16243270</td>\n",
       "      <td>22832846443</td>\n",
       "      <td>Thailand</td>\n",
       "      <td>949</td>\n",
       "      <td>949</td>\n",
       "      <td>876</td>\n",
       "      <td>20</td>\n",
       "      <td>4.943878</td>\n",
       "      <td>92.307692</td>\n",
       "    </tr>\n",
       "    <tr>\n",
       "      <th>3</th>\n",
       "      <td>2022-10-20</td>\n",
       "      <td>1987</td>\n",
       "      <td>16243270</td>\n",
       "      <td>22832846593</td>\n",
       "      <td>Thailand</td>\n",
       "      <td>1006</td>\n",
       "      <td>907</td>\n",
       "      <td>688</td>\n",
       "      <td>134</td>\n",
       "      <td>24.226836</td>\n",
       "      <td>75.854465</td>\n",
       "    </tr>\n",
       "    <tr>\n",
       "      <th>4</th>\n",
       "      <td>2022-10-20</td>\n",
       "      <td>1987</td>\n",
       "      <td>16243270</td>\n",
       "      <td>22832827729</td>\n",
       "      <td>Thailand</td>\n",
       "      <td>373</td>\n",
       "      <td>287</td>\n",
       "      <td>156</td>\n",
       "      <td>20</td>\n",
       "      <td>2.759392</td>\n",
       "      <td>54.355401</td>\n",
       "    </tr>\n",
       "    <tr>\n",
       "      <th>...</th>\n",
       "      <td>...</td>\n",
       "      <td>...</td>\n",
       "      <td>...</td>\n",
       "      <td>...</td>\n",
       "      <td>...</td>\n",
       "      <td>...</td>\n",
       "      <td>...</td>\n",
       "      <td>...</td>\n",
       "      <td>...</td>\n",
       "      <td>...</td>\n",
       "      <td>...</td>\n",
       "    </tr>\n",
       "    <tr>\n",
       "      <th>47930</th>\n",
       "      <td>2022-10-22</td>\n",
       "      <td>14</td>\n",
       "      <td>95674771</td>\n",
       "      <td>22770341049</td>\n",
       "      <td>El Salvador</td>\n",
       "      <td>34</td>\n",
       "      <td>34</td>\n",
       "      <td>21</td>\n",
       "      <td>4</td>\n",
       "      <td>0.022347</td>\n",
       "      <td>61.764706</td>\n",
       "    </tr>\n",
       "    <tr>\n",
       "      <th>47931</th>\n",
       "      <td>2022-10-22</td>\n",
       "      <td>14</td>\n",
       "      <td>95674771</td>\n",
       "      <td>22770341430</td>\n",
       "      <td>Jordan</td>\n",
       "      <td>34</td>\n",
       "      <td>34</td>\n",
       "      <td>21</td>\n",
       "      <td>0</td>\n",
       "      <td>0.011894</td>\n",
       "      <td>61.764706</td>\n",
       "    </tr>\n",
       "    <tr>\n",
       "      <th>47932</th>\n",
       "      <td>2022-10-22</td>\n",
       "      <td>14</td>\n",
       "      <td>95674771</td>\n",
       "      <td>22770341430</td>\n",
       "      <td>Somalia</td>\n",
       "      <td>46</td>\n",
       "      <td>46</td>\n",
       "      <td>21</td>\n",
       "      <td>2</td>\n",
       "      <td>0.003189</td>\n",
       "      <td>45.652174</td>\n",
       "    </tr>\n",
       "    <tr>\n",
       "      <th>47933</th>\n",
       "      <td>2022-10-22</td>\n",
       "      <td>14</td>\n",
       "      <td>95674771</td>\n",
       "      <td>22770341598</td>\n",
       "      <td>Portugal</td>\n",
       "      <td>21</td>\n",
       "      <td>21</td>\n",
       "      <td>21</td>\n",
       "      <td>5</td>\n",
       "      <td>0.159408</td>\n",
       "      <td>100.000000</td>\n",
       "    </tr>\n",
       "    <tr>\n",
       "      <th>47934</th>\n",
       "      <td>2022-10-22</td>\n",
       "      <td>14</td>\n",
       "      <td>95674771</td>\n",
       "      <td>22770341049</td>\n",
       "      <td>Thailand</td>\n",
       "      <td>40</td>\n",
       "      <td>40</td>\n",
       "      <td>21</td>\n",
       "      <td>1</td>\n",
       "      <td>0.140938</td>\n",
       "      <td>52.500000</td>\n",
       "    </tr>\n",
       "  </tbody>\n",
       "</table>\n",
       "<p>47935 rows × 11 columns</p>\n",
       "</div>"
      ],
      "text/plain": [
       "            date  pub_id    app_id  ad_unit_code      country  requests  \\\n",
       "0     2022-10-20    1987  16243270   22832846443     Tanzania        36   \n",
       "1     2022-10-20    1987  16243270   22832846593     Tanzania        24   \n",
       "2     2022-10-20    1987  16243270   22832846443     Thailand       949   \n",
       "3     2022-10-20    1987  16243270   22832846593     Thailand      1006   \n",
       "4     2022-10-20    1987  16243270   22832827729     Thailand       373   \n",
       "...          ...     ...       ...           ...          ...       ...   \n",
       "47930 2022-10-22      14  95674771   22770341049  El Salvador        34   \n",
       "47931 2022-10-22      14  95674771   22770341430       Jordan        34   \n",
       "47932 2022-10-22      14  95674771   22770341430      Somalia        46   \n",
       "47933 2022-10-22      14  95674771   22770341598     Portugal        21   \n",
       "47934 2022-10-22      14  95674771   22770341049     Thailand        40   \n",
       "\n",
       "       ae_responses  ae_impressions  ae_clicks  ae_revenue  Percentage_imp  \n",
       "0                36              34          0    0.035738       94.444444  \n",
       "1                24              23          0    0.064384       95.833333  \n",
       "2               949             876         20    4.943878       92.307692  \n",
       "3               907             688        134   24.226836       75.854465  \n",
       "4               287             156         20    2.759392       54.355401  \n",
       "...             ...             ...        ...         ...             ...  \n",
       "47930            34              21          4    0.022347       61.764706  \n",
       "47931            34              21          0    0.011894       61.764706  \n",
       "47932            46              21          2    0.003189       45.652174  \n",
       "47933            21              21          5    0.159408      100.000000  \n",
       "47934            40              21          1    0.140938       52.500000  \n",
       "\n",
       "[47935 rows x 11 columns]"
      ]
     },
     "execution_count": 85,
     "metadata": {},
     "output_type": "execute_result"
    }
   ],
   "source": [
    "df.columns= ['date', 'pub_id','app_id','ad_unit_code','country','requests','ae_responses','ae_impressions',\n",
    "            'ae_clicks','ae_revenue','Percentage_imp']\n",
    "df"
   ]
  },
  {
   "cell_type": "code",
   "execution_count": 86,
   "id": "6368b6f9",
   "metadata": {
    "scrolled": true
   },
   "outputs": [
    {
     "data": {
      "text/plain": [
       "16243270      521\n",
       "22693095    11291\n",
       "25596802     1605\n",
       "40931528     2317\n",
       "43840611     5442\n",
       "47862278    14949\n",
       "63338696      557\n",
       "66981243      289\n",
       "84650721     4906\n",
       "95674771     6058\n",
       "Name: app_id, dtype: int64"
      ]
     },
     "execution_count": 86,
     "metadata": {},
     "output_type": "execute_result"
    }
   ],
   "source": [
    "df.app_id.value_counts().sort_index()"
   ]
  },
  {
   "cell_type": "code",
   "execution_count": 87,
   "id": "994635c7",
   "metadata": {
    "scrolled": true
   },
   "outputs": [
    {
     "data": {
      "text/plain": [
       "app_id\n",
       "22693095    1033\n",
       "40931528      75\n",
       "43840611     786\n",
       "47862278     310\n",
       "63338696       5\n",
       "66981243       1\n",
       "84650721       2\n",
       "Name: Percentage_imp, dtype: int64"
      ]
     },
     "execution_count": 87,
     "metadata": {},
     "output_type": "execute_result"
    }
   ],
   "source": [
    "df[df.Percentage_imp<25].groupby([\"app_id\"])[\"Percentage_imp\"].count()"
   ]
  },
  {
   "cell_type": "code",
   "execution_count": 88,
   "id": "2c380ac8",
   "metadata": {
    "scrolled": true
   },
   "outputs": [],
   "source": [
    "Percentage_click= ((adx_df.ae_clicks/adx_df.ae_impressions)*100)\n",
    "df=pd.concat([df,Percentage_click], axis=1)\n",
    "df.columns=['date', 'pub_id','app_id','ad_unit_code','country','requests','ae_responses','ae_impressions',\n",
    "            'ae_clicks','ae_revenue','Percentage_imp','Percentage_click']\n"
   ]
  },
  {
   "cell_type": "code",
   "execution_count": 89,
   "id": "6237677b",
   "metadata": {
    "scrolled": true
   },
   "outputs": [
    {
     "data": {
      "text/html": [
       "<div>\n",
       "<style scoped>\n",
       "    .dataframe tbody tr th:only-of-type {\n",
       "        vertical-align: middle;\n",
       "    }\n",
       "\n",
       "    .dataframe tbody tr th {\n",
       "        vertical-align: top;\n",
       "    }\n",
       "\n",
       "    .dataframe thead th {\n",
       "        text-align: right;\n",
       "    }\n",
       "</style>\n",
       "<table border=\"1\" class=\"dataframe\">\n",
       "  <thead>\n",
       "    <tr style=\"text-align: right;\">\n",
       "      <th></th>\n",
       "      <th>date</th>\n",
       "      <th>pub_id</th>\n",
       "      <th>app_id</th>\n",
       "      <th>ad_unit_code</th>\n",
       "      <th>country</th>\n",
       "      <th>requests</th>\n",
       "      <th>ae_responses</th>\n",
       "      <th>ae_impressions</th>\n",
       "      <th>ae_clicks</th>\n",
       "      <th>ae_revenue</th>\n",
       "      <th>Percentage_imp</th>\n",
       "      <th>Percentage_click</th>\n",
       "    </tr>\n",
       "  </thead>\n",
       "  <tbody>\n",
       "    <tr>\n",
       "      <th>0</th>\n",
       "      <td>2022-10-20</td>\n",
       "      <td>1987</td>\n",
       "      <td>16243270</td>\n",
       "      <td>22832846443</td>\n",
       "      <td>Tanzania</td>\n",
       "      <td>36</td>\n",
       "      <td>36</td>\n",
       "      <td>34</td>\n",
       "      <td>0</td>\n",
       "      <td>0.035738</td>\n",
       "      <td>94.444444</td>\n",
       "      <td>0.000000</td>\n",
       "    </tr>\n",
       "    <tr>\n",
       "      <th>1</th>\n",
       "      <td>2022-10-20</td>\n",
       "      <td>1987</td>\n",
       "      <td>16243270</td>\n",
       "      <td>22832846593</td>\n",
       "      <td>Tanzania</td>\n",
       "      <td>24</td>\n",
       "      <td>24</td>\n",
       "      <td>23</td>\n",
       "      <td>0</td>\n",
       "      <td>0.064384</td>\n",
       "      <td>95.833333</td>\n",
       "      <td>0.000000</td>\n",
       "    </tr>\n",
       "    <tr>\n",
       "      <th>2</th>\n",
       "      <td>2022-10-20</td>\n",
       "      <td>1987</td>\n",
       "      <td>16243270</td>\n",
       "      <td>22832846443</td>\n",
       "      <td>Thailand</td>\n",
       "      <td>949</td>\n",
       "      <td>949</td>\n",
       "      <td>876</td>\n",
       "      <td>20</td>\n",
       "      <td>4.943878</td>\n",
       "      <td>92.307692</td>\n",
       "      <td>2.283105</td>\n",
       "    </tr>\n",
       "    <tr>\n",
       "      <th>3</th>\n",
       "      <td>2022-10-20</td>\n",
       "      <td>1987</td>\n",
       "      <td>16243270</td>\n",
       "      <td>22832846593</td>\n",
       "      <td>Thailand</td>\n",
       "      <td>1006</td>\n",
       "      <td>907</td>\n",
       "      <td>688</td>\n",
       "      <td>134</td>\n",
       "      <td>24.226836</td>\n",
       "      <td>75.854465</td>\n",
       "      <td>19.476744</td>\n",
       "    </tr>\n",
       "    <tr>\n",
       "      <th>4</th>\n",
       "      <td>2022-10-20</td>\n",
       "      <td>1987</td>\n",
       "      <td>16243270</td>\n",
       "      <td>22832827729</td>\n",
       "      <td>Thailand</td>\n",
       "      <td>373</td>\n",
       "      <td>287</td>\n",
       "      <td>156</td>\n",
       "      <td>20</td>\n",
       "      <td>2.759392</td>\n",
       "      <td>54.355401</td>\n",
       "      <td>12.820513</td>\n",
       "    </tr>\n",
       "    <tr>\n",
       "      <th>...</th>\n",
       "      <td>...</td>\n",
       "      <td>...</td>\n",
       "      <td>...</td>\n",
       "      <td>...</td>\n",
       "      <td>...</td>\n",
       "      <td>...</td>\n",
       "      <td>...</td>\n",
       "      <td>...</td>\n",
       "      <td>...</td>\n",
       "      <td>...</td>\n",
       "      <td>...</td>\n",
       "      <td>...</td>\n",
       "    </tr>\n",
       "    <tr>\n",
       "      <th>47930</th>\n",
       "      <td>2022-10-22</td>\n",
       "      <td>14</td>\n",
       "      <td>95674771</td>\n",
       "      <td>22770341049</td>\n",
       "      <td>El Salvador</td>\n",
       "      <td>34</td>\n",
       "      <td>34</td>\n",
       "      <td>21</td>\n",
       "      <td>4</td>\n",
       "      <td>0.022347</td>\n",
       "      <td>61.764706</td>\n",
       "      <td>19.047619</td>\n",
       "    </tr>\n",
       "    <tr>\n",
       "      <th>47931</th>\n",
       "      <td>2022-10-22</td>\n",
       "      <td>14</td>\n",
       "      <td>95674771</td>\n",
       "      <td>22770341430</td>\n",
       "      <td>Jordan</td>\n",
       "      <td>34</td>\n",
       "      <td>34</td>\n",
       "      <td>21</td>\n",
       "      <td>0</td>\n",
       "      <td>0.011894</td>\n",
       "      <td>61.764706</td>\n",
       "      <td>0.000000</td>\n",
       "    </tr>\n",
       "    <tr>\n",
       "      <th>47932</th>\n",
       "      <td>2022-10-22</td>\n",
       "      <td>14</td>\n",
       "      <td>95674771</td>\n",
       "      <td>22770341430</td>\n",
       "      <td>Somalia</td>\n",
       "      <td>46</td>\n",
       "      <td>46</td>\n",
       "      <td>21</td>\n",
       "      <td>2</td>\n",
       "      <td>0.003189</td>\n",
       "      <td>45.652174</td>\n",
       "      <td>9.523810</td>\n",
       "    </tr>\n",
       "    <tr>\n",
       "      <th>47933</th>\n",
       "      <td>2022-10-22</td>\n",
       "      <td>14</td>\n",
       "      <td>95674771</td>\n",
       "      <td>22770341598</td>\n",
       "      <td>Portugal</td>\n",
       "      <td>21</td>\n",
       "      <td>21</td>\n",
       "      <td>21</td>\n",
       "      <td>5</td>\n",
       "      <td>0.159408</td>\n",
       "      <td>100.000000</td>\n",
       "      <td>23.809524</td>\n",
       "    </tr>\n",
       "    <tr>\n",
       "      <th>47934</th>\n",
       "      <td>2022-10-22</td>\n",
       "      <td>14</td>\n",
       "      <td>95674771</td>\n",
       "      <td>22770341049</td>\n",
       "      <td>Thailand</td>\n",
       "      <td>40</td>\n",
       "      <td>40</td>\n",
       "      <td>21</td>\n",
       "      <td>1</td>\n",
       "      <td>0.140938</td>\n",
       "      <td>52.500000</td>\n",
       "      <td>4.761905</td>\n",
       "    </tr>\n",
       "  </tbody>\n",
       "</table>\n",
       "<p>47935 rows × 12 columns</p>\n",
       "</div>"
      ],
      "text/plain": [
       "            date  pub_id    app_id  ad_unit_code      country  requests  \\\n",
       "0     2022-10-20    1987  16243270   22832846443     Tanzania        36   \n",
       "1     2022-10-20    1987  16243270   22832846593     Tanzania        24   \n",
       "2     2022-10-20    1987  16243270   22832846443     Thailand       949   \n",
       "3     2022-10-20    1987  16243270   22832846593     Thailand      1006   \n",
       "4     2022-10-20    1987  16243270   22832827729     Thailand       373   \n",
       "...          ...     ...       ...           ...          ...       ...   \n",
       "47930 2022-10-22      14  95674771   22770341049  El Salvador        34   \n",
       "47931 2022-10-22      14  95674771   22770341430       Jordan        34   \n",
       "47932 2022-10-22      14  95674771   22770341430      Somalia        46   \n",
       "47933 2022-10-22      14  95674771   22770341598     Portugal        21   \n",
       "47934 2022-10-22      14  95674771   22770341049     Thailand        40   \n",
       "\n",
       "       ae_responses  ae_impressions  ae_clicks  ae_revenue  Percentage_imp  \\\n",
       "0                36              34          0    0.035738       94.444444   \n",
       "1                24              23          0    0.064384       95.833333   \n",
       "2               949             876         20    4.943878       92.307692   \n",
       "3               907             688        134   24.226836       75.854465   \n",
       "4               287             156         20    2.759392       54.355401   \n",
       "...             ...             ...        ...         ...             ...   \n",
       "47930            34              21          4    0.022347       61.764706   \n",
       "47931            34              21          0    0.011894       61.764706   \n",
       "47932            46              21          2    0.003189       45.652174   \n",
       "47933            21              21          5    0.159408      100.000000   \n",
       "47934            40              21          1    0.140938       52.500000   \n",
       "\n",
       "       Percentage_click  \n",
       "0              0.000000  \n",
       "1              0.000000  \n",
       "2              2.283105  \n",
       "3             19.476744  \n",
       "4             12.820513  \n",
       "...                 ...  \n",
       "47930         19.047619  \n",
       "47931          0.000000  \n",
       "47932          9.523810  \n",
       "47933         23.809524  \n",
       "47934          4.761905  \n",
       "\n",
       "[47935 rows x 12 columns]"
      ]
     },
     "execution_count": 89,
     "metadata": {},
     "output_type": "execute_result"
    }
   ],
   "source": [
    "df"
   ]
  },
  {
   "cell_type": "code",
   "execution_count": 90,
   "id": "bbca0feb",
   "metadata": {
    "scrolled": true
   },
   "outputs": [],
   "source": [
    "ten_percentage_imp= df[df.Percentage_imp<10].groupby([\"app_id\"])[\"Percentage_imp\"].count()\n",
    "twenty_percentage_imp= df[df.Percentage_imp<20].groupby([\"app_id\"])[\"Percentage_imp\"].count()\n",
    "fifty_percentage_imp= df[df.Percentage_imp<50].groupby([\"app_id\"])[\"Percentage_imp\"].count()"
   ]
  },
  {
   "cell_type": "code",
   "execution_count": 91,
   "id": "78a2648e",
   "metadata": {
    "scrolled": true
   },
   "outputs": [],
   "source": [
    "Ten_percentage_click= df[df.Percentage_click<10].groupby([\"app_id\"])[\"Percentage_click\"].count()\n",
    "twenty_percentage_click= df[df.Percentage_click<20].groupby([\"app_id\"])[\"Percentage_click\"].count()\n",
    "fifty_percentage_click= df[df.Percentage_click<50].groupby([\"app_id\"])[\"Percentage_click\"].count()"
   ]
  },
  {
   "cell_type": "code",
   "execution_count": 92,
   "id": "047cdf62",
   "metadata": {
    "scrolled": true
   },
   "outputs": [],
   "source": [
    "animoly= pd.DataFrame()"
   ]
  },
  {
   "cell_type": "code",
   "execution_count": 93,
   "id": "1a4b473f",
   "metadata": {
    "scrolled": true
   },
   "outputs": [],
   "source": [
    "animoly[\"app_id\"]=adx_df.app_id.unique()\n",
    "animoly[\"total_impre_count\"]=adx_df.groupby(\"app_id\")[\"ae_impressions\"].sum().values\n",
    "animoly[\"Ten_percentage_click\"]= Ten_percentage_click.values\n",
    "animoly[\"twenty_percentage_click\"]= twenty_percentage_click.values\n",
    "animoly[\"fifty_percentage_click\"]= fifty_percentage_click.values\n"
   ]
  },
  {
   "cell_type": "code",
   "execution_count": 94,
   "id": "2fb7f8c7",
   "metadata": {
    "scrolled": true
   },
   "outputs": [
    {
     "data": {
      "text/html": [
       "<div>\n",
       "<style scoped>\n",
       "    .dataframe tbody tr th:only-of-type {\n",
       "        vertical-align: middle;\n",
       "    }\n",
       "\n",
       "    .dataframe tbody tr th {\n",
       "        vertical-align: top;\n",
       "    }\n",
       "\n",
       "    .dataframe thead th {\n",
       "        text-align: right;\n",
       "    }\n",
       "</style>\n",
       "<table border=\"1\" class=\"dataframe\">\n",
       "  <thead>\n",
       "    <tr style=\"text-align: right;\">\n",
       "      <th></th>\n",
       "      <th>app_id</th>\n",
       "      <th>total_impre_count</th>\n",
       "      <th>Ten_percentage_click</th>\n",
       "      <th>twenty_percentage_click</th>\n",
       "      <th>fifty_percentage_click</th>\n",
       "    </tr>\n",
       "  </thead>\n",
       "  <tbody>\n",
       "    <tr>\n",
       "      <th>0</th>\n",
       "      <td>16243270</td>\n",
       "      <td>113944</td>\n",
       "      <td>487</td>\n",
       "      <td>504</td>\n",
       "      <td>520</td>\n",
       "    </tr>\n",
       "    <tr>\n",
       "      <th>1</th>\n",
       "      <td>22693095</td>\n",
       "      <td>3524462</td>\n",
       "      <td>5744</td>\n",
       "      <td>9678</td>\n",
       "      <td>11271</td>\n",
       "    </tr>\n",
       "    <tr>\n",
       "      <th>2</th>\n",
       "      <td>25596802</td>\n",
       "      <td>71831</td>\n",
       "      <td>855</td>\n",
       "      <td>1326</td>\n",
       "      <td>1600</td>\n",
       "    </tr>\n",
       "    <tr>\n",
       "      <th>3</th>\n",
       "      <td>40931528</td>\n",
       "      <td>1096917</td>\n",
       "      <td>1972</td>\n",
       "      <td>2234</td>\n",
       "      <td>2316</td>\n",
       "    </tr>\n",
       "    <tr>\n",
       "      <th>4</th>\n",
       "      <td>43840611</td>\n",
       "      <td>1157692</td>\n",
       "      <td>4905</td>\n",
       "      <td>5370</td>\n",
       "      <td>5442</td>\n",
       "    </tr>\n",
       "    <tr>\n",
       "      <th>5</th>\n",
       "      <td>47862278</td>\n",
       "      <td>3150826</td>\n",
       "      <td>14677</td>\n",
       "      <td>14927</td>\n",
       "      <td>14948</td>\n",
       "    </tr>\n",
       "    <tr>\n",
       "      <th>6</th>\n",
       "      <td>63338696</td>\n",
       "      <td>1124600</td>\n",
       "      <td>410</td>\n",
       "      <td>495</td>\n",
       "      <td>551</td>\n",
       "    </tr>\n",
       "    <tr>\n",
       "      <th>7</th>\n",
       "      <td>66981243</td>\n",
       "      <td>676995</td>\n",
       "      <td>231</td>\n",
       "      <td>269</td>\n",
       "      <td>289</td>\n",
       "    </tr>\n",
       "    <tr>\n",
       "      <th>8</th>\n",
       "      <td>84650721</td>\n",
       "      <td>650202</td>\n",
       "      <td>1892</td>\n",
       "      <td>3676</td>\n",
       "      <td>4845</td>\n",
       "    </tr>\n",
       "    <tr>\n",
       "      <th>9</th>\n",
       "      <td>95674771</td>\n",
       "      <td>754469</td>\n",
       "      <td>4734</td>\n",
       "      <td>5835</td>\n",
       "      <td>6056</td>\n",
       "    </tr>\n",
       "  </tbody>\n",
       "</table>\n",
       "</div>"
      ],
      "text/plain": [
       "     app_id  total_impre_count  Ten_percentage_click  twenty_percentage_click  \\\n",
       "0  16243270             113944                   487                      504   \n",
       "1  22693095            3524462                  5744                     9678   \n",
       "2  25596802              71831                   855                     1326   \n",
       "3  40931528            1096917                  1972                     2234   \n",
       "4  43840611            1157692                  4905                     5370   \n",
       "5  47862278            3150826                 14677                    14927   \n",
       "6  63338696            1124600                   410                      495   \n",
       "7  66981243             676995                   231                      269   \n",
       "8  84650721             650202                  1892                     3676   \n",
       "9  95674771             754469                  4734                     5835   \n",
       "\n",
       "   fifty_percentage_click  \n",
       "0                     520  \n",
       "1                   11271  \n",
       "2                    1600  \n",
       "3                    2316  \n",
       "4                    5442  \n",
       "5                   14948  \n",
       "6                     551  \n",
       "7                     289  \n",
       "8                    4845  \n",
       "9                    6056  "
      ]
     },
     "execution_count": 94,
     "metadata": {},
     "output_type": "execute_result"
    }
   ],
   "source": [
    "animoly\n"
   ]
  },
  {
   "cell_type": "code",
   "execution_count": null,
   "id": "d23c2c6a",
   "metadata": {
    "scrolled": true
   },
   "outputs": [],
   "source": []
  },
  {
   "cell_type": "code",
   "execution_count": null,
   "id": "8f5586d4",
   "metadata": {
    "scrolled": true
   },
   "outputs": [],
   "source": []
  },
  {
   "cell_type": "code",
   "execution_count": 95,
   "id": "43797334",
   "metadata": {
    "scrolled": true
   },
   "outputs": [
    {
     "data": {
      "text/plain": [
       "<AxesSubplot:>"
      ]
     },
     "execution_count": 95,
     "metadata": {},
     "output_type": "execute_result"
    },
    {
     "data": {
      "image/png": "[encoded data removed]",
      "text/plain": [
       "<Figure size 432x288 with 1 Axes>"
      ]
     },
     "metadata": {
      "needs_background": "light"
     },
     "output_type": "display_data"
    }
   ],
   "source": [
    "(adx_df.requests/adx_df.ae_responses).plot.box()"
   ]
  },
  {
   "cell_type": "code",
   "execution_count": 96,
   "id": "db6a80c9",
   "metadata": {
    "scrolled": true
   },
   "outputs": [],
   "source": [
    "show_rate=adx_df[(adx_df.ae_impressions/adx_df.ae_responses)<1].groupby(\"app_id\")[\"app_id\"].count()"
   ]
  },
  {
   "cell_type": "code",
   "execution_count": 97,
   "id": "713a2293",
   "metadata": {
    "scrolled": true
   },
   "outputs": [
    {
     "data": {
      "text/html": [
       "<div>\n",
       "<style scoped>\n",
       "    .dataframe tbody tr th:only-of-type {\n",
       "        vertical-align: middle;\n",
       "    }\n",
       "\n",
       "    .dataframe tbody tr th {\n",
       "        vertical-align: top;\n",
       "    }\n",
       "\n",
       "    .dataframe thead th {\n",
       "        text-align: right;\n",
       "    }\n",
       "</style>\n",
       "<table border=\"1\" class=\"dataframe\">\n",
       "  <thead>\n",
       "    <tr style=\"text-align: right;\">\n",
       "      <th></th>\n",
       "      <th>app_id</th>\n",
       "      <th>Count</th>\n",
       "    </tr>\n",
       "  </thead>\n",
       "  <tbody>\n",
       "    <tr>\n",
       "      <th>0</th>\n",
       "      <td>16243270</td>\n",
       "      <td>478</td>\n",
       "    </tr>\n",
       "    <tr>\n",
       "      <th>1</th>\n",
       "      <td>22693095</td>\n",
       "      <td>11149</td>\n",
       "    </tr>\n",
       "    <tr>\n",
       "      <th>2</th>\n",
       "      <td>25596802</td>\n",
       "      <td>1262</td>\n",
       "    </tr>\n",
       "    <tr>\n",
       "      <th>3</th>\n",
       "      <td>40931528</td>\n",
       "      <td>2317</td>\n",
       "    </tr>\n",
       "    <tr>\n",
       "      <th>4</th>\n",
       "      <td>43840611</td>\n",
       "      <td>5438</td>\n",
       "    </tr>\n",
       "    <tr>\n",
       "      <th>5</th>\n",
       "      <td>47862278</td>\n",
       "      <td>14599</td>\n",
       "    </tr>\n",
       "    <tr>\n",
       "      <th>6</th>\n",
       "      <td>63338696</td>\n",
       "      <td>522</td>\n",
       "    </tr>\n",
       "    <tr>\n",
       "      <th>7</th>\n",
       "      <td>66981243</td>\n",
       "      <td>288</td>\n",
       "    </tr>\n",
       "    <tr>\n",
       "      <th>8</th>\n",
       "      <td>84650721</td>\n",
       "      <td>4560</td>\n",
       "    </tr>\n",
       "    <tr>\n",
       "      <th>9</th>\n",
       "      <td>95674771</td>\n",
       "      <td>5515</td>\n",
       "    </tr>\n",
       "  </tbody>\n",
       "</table>\n",
       "</div>"
      ],
      "text/plain": [
       "     app_id  Count\n",
       "0  16243270    478\n",
       "1  22693095  11149\n",
       "2  25596802   1262\n",
       "3  40931528   2317\n",
       "4  43840611   5438\n",
       "5  47862278  14599\n",
       "6  63338696    522\n",
       "7  66981243    288\n",
       "8  84650721   4560\n",
       "9  95674771   5515"
      ]
     },
     "execution_count": 97,
     "metadata": {},
     "output_type": "execute_result"
    }
   ],
   "source": [
    "# Filtered the app_id which has poor show_rate wich is less the 1. \n",
    "pd.DataFrame({'app_id':show_rate.index, 'Count':show_rate.values})"
   ]
  },
  {
   "cell_type": "code",
   "execution_count": 98,
   "id": "7025bad6",
   "metadata": {
    "scrolled": true
   },
   "outputs": [],
   "source": [
    "click_rate= adx_df[(adx_df.ae_clicks/adx_df.ae_responses)==0].groupby(\"app_id\")[\"app_id\"].count()"
   ]
  },
  {
   "cell_type": "code",
   "execution_count": 99,
   "id": "46cb6f3f",
   "metadata": {
    "scrolled": true
   },
   "outputs": [
    {
     "data": {
      "text/html": [
       "<div>\n",
       "<style scoped>\n",
       "    .dataframe tbody tr th:only-of-type {\n",
       "        vertical-align: middle;\n",
       "    }\n",
       "\n",
       "    .dataframe tbody tr th {\n",
       "        vertical-align: top;\n",
       "    }\n",
       "\n",
       "    .dataframe thead th {\n",
       "        text-align: right;\n",
       "    }\n",
       "</style>\n",
       "<table border=\"1\" class=\"dataframe\">\n",
       "  <thead>\n",
       "    <tr style=\"text-align: right;\">\n",
       "      <th></th>\n",
       "      <th>app_id</th>\n",
       "      <th>Count</th>\n",
       "    </tr>\n",
       "  </thead>\n",
       "  <tbody>\n",
       "    <tr>\n",
       "      <th>0</th>\n",
       "      <td>16243270</td>\n",
       "      <td>380</td>\n",
       "    </tr>\n",
       "    <tr>\n",
       "      <th>1</th>\n",
       "      <td>22693095</td>\n",
       "      <td>520</td>\n",
       "    </tr>\n",
       "    <tr>\n",
       "      <th>2</th>\n",
       "      <td>25596802</td>\n",
       "      <td>385</td>\n",
       "    </tr>\n",
       "    <tr>\n",
       "      <th>3</th>\n",
       "      <td>40931528</td>\n",
       "      <td>1361</td>\n",
       "    </tr>\n",
       "    <tr>\n",
       "      <th>4</th>\n",
       "      <td>43840611</td>\n",
       "      <td>1994</td>\n",
       "    </tr>\n",
       "    <tr>\n",
       "      <th>5</th>\n",
       "      <td>47862278</td>\n",
       "      <td>8303</td>\n",
       "    </tr>\n",
       "    <tr>\n",
       "      <th>6</th>\n",
       "      <td>63338696</td>\n",
       "      <td>183</td>\n",
       "    </tr>\n",
       "    <tr>\n",
       "      <th>7</th>\n",
       "      <td>66981243</td>\n",
       "      <td>158</td>\n",
       "    </tr>\n",
       "    <tr>\n",
       "      <th>8</th>\n",
       "      <td>84650721</td>\n",
       "      <td>340</td>\n",
       "    </tr>\n",
       "    <tr>\n",
       "      <th>9</th>\n",
       "      <td>95674771</td>\n",
       "      <td>1215</td>\n",
       "    </tr>\n",
       "  </tbody>\n",
       "</table>\n",
       "</div>"
      ],
      "text/plain": [
       "     app_id  Count\n",
       "0  16243270    380\n",
       "1  22693095    520\n",
       "2  25596802    385\n",
       "3  40931528   1361\n",
       "4  43840611   1994\n",
       "5  47862278   8303\n",
       "6  63338696    183\n",
       "7  66981243    158\n",
       "8  84650721    340\n",
       "9  95674771   1215"
      ]
     },
     "execution_count": 99,
     "metadata": {},
     "output_type": "execute_result"
    }
   ],
   "source": [
    "# Filtered the app_id which has poor click_rate wich is less the 1. \n",
    "pd.DataFrame({'app_id':click_rate.index, 'Count':click_rate.values})"
   ]
  },
  {
   "cell_type": "code",
   "execution_count": 100,
   "id": "19521154",
   "metadata": {
    "scrolled": true
   },
   "outputs": [
    {
     "data": {
      "text/plain": [
       "47862278    14949\n",
       "22693095    11291\n",
       "95674771     6058\n",
       "43840611     5442\n",
       "84650721     4906\n",
       "40931528     2317\n",
       "25596802     1605\n",
       "63338696      557\n",
       "16243270      521\n",
       "66981243      289\n",
       "Name: app_id, dtype: int64"
      ]
     },
     "execution_count": 100,
     "metadata": {},
     "output_type": "execute_result"
    }
   ],
   "source": [
    "adx_df.app_id.value_counts()"
   ]
  },
  {
   "cell_type": "code",
   "execution_count": null,
   "id": "41befdb9",
   "metadata": {
    "scrolled": true
   },
   "outputs": [],
   "source": []
  },
  {
   "cell_type": "code",
   "execution_count": 101,
   "id": "d792cace",
   "metadata": {
    "scrolled": true
   },
   "outputs": [],
   "source": [
    "animoly= pd.DataFrame()\n",
    "animoly[\"app_id\"]=adx_df.app_id.unique()\n",
    "animoly[\"total_reqs_count\"]=adx_df.groupby(\"app_id\")[\"requests\"].sum().values\n",
    "animoly[\"total_respo_count\"]=adx_df.groupby(\"app_id\")[\"ae_responses\"].sum().values\n",
    "animoly[\"total_impre_count\"]=adx_df.groupby(\"app_id\")[\"ae_impressions\"].sum().values\n",
    "animoly[\"total_click\"]=adx_df.groupby(\"app_id\")[\"ae_clicks\"].sum().values\n",
    "animoly[\"total_revenue\"]=adx_df.groupby(\"app_id\")[\"ae_revenue\"].sum().values\n",
    "\n",
    "animoly[\"revenue_zero_click\"]= adx_df[adx_df.ae_clicks==0].groupby(adx_df.app_id)[\"ae_revenue\"].sum().values\n",
    "animoly[\"zero_click_count\"]= zero_click= adx_df[(adx_df.ae_clicks==0)].groupby(\"app_id\")[\"ae_clicks\"].count().values\n",
    "\n",
    "animoly[\"click_rate\"]= (animoly.total_click/animoly.total_impre_count)\n",
    "animoly[\"response_rate\"]= (animoly.total_respo_count/animoly.total_reqs_count)*100\n",
    "animoly[\"percentage_zero_click\"]= (animoly.zero_click_count/animoly.total_impre_count)*100\n",
    "animoly[\"revenue_per_click\"]= (animoly.total_revenue/(animoly.total_click - animoly.zero_click_count))*100\n"
   ]
  },
  {
   "cell_type": "code",
   "execution_count": 102,
   "id": "4c93a96b",
   "metadata": {
    "scrolled": true
   },
   "outputs": [
    {
     "data": {
      "text/html": [
       "<div>\n",
       "<style scoped>\n",
       "    .dataframe tbody tr th:only-of-type {\n",
       "        vertical-align: middle;\n",
       "    }\n",
       "\n",
       "    .dataframe tbody tr th {\n",
       "        vertical-align: top;\n",
       "    }\n",
       "\n",
       "    .dataframe thead th {\n",
       "        text-align: right;\n",
       "    }\n",
       "</style>\n",
       "<table border=\"1\" class=\"dataframe\">\n",
       "  <thead>\n",
       "    <tr style=\"text-align: right;\">\n",
       "      <th></th>\n",
       "      <th>app_id</th>\n",
       "      <th>total_reqs_count</th>\n",
       "      <th>total_respo_count</th>\n",
       "      <th>total_impre_count</th>\n",
       "      <th>total_click</th>\n",
       "      <th>total_revenue</th>\n",
       "      <th>revenue_zero_click</th>\n",
       "      <th>zero_click_count</th>\n",
       "      <th>click_rate</th>\n",
       "      <th>response_rate</th>\n",
       "      <th>percentage_zero_click</th>\n",
       "      <th>revenue_per_click</th>\n",
       "    </tr>\n",
       "  </thead>\n",
       "  <tbody>\n",
       "    <tr>\n",
       "      <th>6</th>\n",
       "      <td>63338696</td>\n",
       "      <td>2845293</td>\n",
       "      <td>1975614</td>\n",
       "      <td>1124600</td>\n",
       "      <td>40869</td>\n",
       "      <td>3269.125146</td>\n",
       "      <td>13.642094</td>\n",
       "      <td>183</td>\n",
       "      <td>0.036341</td>\n",
       "      <td>69.434466</td>\n",
       "      <td>0.016272</td>\n",
       "      <td>8.035012</td>\n",
       "    </tr>\n",
       "    <tr>\n",
       "      <th>5</th>\n",
       "      <td>47862278</td>\n",
       "      <td>5965420</td>\n",
       "      <td>4674814</td>\n",
       "      <td>3150826</td>\n",
       "      <td>27628</td>\n",
       "      <td>3191.668051</td>\n",
       "      <td>347.001882</td>\n",
       "      <td>8303</td>\n",
       "      <td>0.008768</td>\n",
       "      <td>78.365212</td>\n",
       "      <td>0.263518</td>\n",
       "      <td>16.515747</td>\n",
       "    </tr>\n",
       "    <tr>\n",
       "      <th>1</th>\n",
       "      <td>22693095</td>\n",
       "      <td>10349859</td>\n",
       "      <td>9459787</td>\n",
       "      <td>3524462</td>\n",
       "      <td>359318</td>\n",
       "      <td>51191.627809</td>\n",
       "      <td>94.127134</td>\n",
       "      <td>520</td>\n",
       "      <td>0.101950</td>\n",
       "      <td>91.400153</td>\n",
       "      <td>0.014754</td>\n",
       "      <td>14.267534</td>\n",
       "    </tr>\n",
       "    <tr>\n",
       "      <th>7</th>\n",
       "      <td>66981243</td>\n",
       "      <td>998870</td>\n",
       "      <td>964582</td>\n",
       "      <td>676995</td>\n",
       "      <td>41647</td>\n",
       "      <td>2077.719197</td>\n",
       "      <td>277.298623</td>\n",
       "      <td>158</td>\n",
       "      <td>0.061517</td>\n",
       "      <td>96.567321</td>\n",
       "      <td>0.023338</td>\n",
       "      <td>5.007880</td>\n",
       "    </tr>\n",
       "    <tr>\n",
       "      <th>8</th>\n",
       "      <td>84650721</td>\n",
       "      <td>853355</td>\n",
       "      <td>824285</td>\n",
       "      <td>650202</td>\n",
       "      <td>80681</td>\n",
       "      <td>2387.244188</td>\n",
       "      <td>45.339442</td>\n",
       "      <td>340</td>\n",
       "      <td>0.124086</td>\n",
       "      <td>96.593446</td>\n",
       "      <td>0.052291</td>\n",
       "      <td>2.971390</td>\n",
       "    </tr>\n",
       "    <tr>\n",
       "      <th>3</th>\n",
       "      <td>40931528</td>\n",
       "      <td>2612285</td>\n",
       "      <td>2533914</td>\n",
       "      <td>1096917</td>\n",
       "      <td>15626</td>\n",
       "      <td>21900.482256</td>\n",
       "      <td>634.990511</td>\n",
       "      <td>1361</td>\n",
       "      <td>0.014245</td>\n",
       "      <td>96.999906</td>\n",
       "      <td>0.124075</td>\n",
       "      <td>153.525988</td>\n",
       "    </tr>\n",
       "    <tr>\n",
       "      <th>0</th>\n",
       "      <td>16243270</td>\n",
       "      <td>144079</td>\n",
       "      <td>140361</td>\n",
       "      <td>113944</td>\n",
       "      <td>2703</td>\n",
       "      <td>4245.317619</td>\n",
       "      <td>1140.932661</td>\n",
       "      <td>380</td>\n",
       "      <td>0.023722</td>\n",
       "      <td>97.419471</td>\n",
       "      <td>0.333497</td>\n",
       "      <td>182.751512</td>\n",
       "    </tr>\n",
       "    <tr>\n",
       "      <th>4</th>\n",
       "      <td>43840611</td>\n",
       "      <td>3014066</td>\n",
       "      <td>2937129</td>\n",
       "      <td>1157692</td>\n",
       "      <td>34894</td>\n",
       "      <td>5373.715967</td>\n",
       "      <td>73.607688</td>\n",
       "      <td>1994</td>\n",
       "      <td>0.030141</td>\n",
       "      <td>97.447402</td>\n",
       "      <td>0.172239</td>\n",
       "      <td>16.333483</td>\n",
       "    </tr>\n",
       "    <tr>\n",
       "      <th>9</th>\n",
       "      <td>95674771</td>\n",
       "      <td>1211485</td>\n",
       "      <td>1182134</td>\n",
       "      <td>754469</td>\n",
       "      <td>35976</td>\n",
       "      <td>2868.401602</td>\n",
       "      <td>86.608267</td>\n",
       "      <td>1215</td>\n",
       "      <td>0.047684</td>\n",
       "      <td>97.577271</td>\n",
       "      <td>0.161040</td>\n",
       "      <td>8.251781</td>\n",
       "    </tr>\n",
       "    <tr>\n",
       "      <th>2</th>\n",
       "      <td>25596802</td>\n",
       "      <td>86944</td>\n",
       "      <td>85854</td>\n",
       "      <td>71831</td>\n",
       "      <td>7901</td>\n",
       "      <td>4077.663850</td>\n",
       "      <td>125.797131</td>\n",
       "      <td>385</td>\n",
       "      <td>0.109994</td>\n",
       "      <td>98.746319</td>\n",
       "      <td>0.535980</td>\n",
       "      <td>54.253111</td>\n",
       "    </tr>\n",
       "  </tbody>\n",
       "</table>\n",
       "</div>"
      ],
      "text/plain": [
       "     app_id  total_reqs_count  total_respo_count  total_impre_count  \\\n",
       "6  63338696           2845293            1975614            1124600   \n",
       "5  47862278           5965420            4674814            3150826   \n",
       "1  22693095          10349859            9459787            3524462   \n",
       "7  66981243            998870             964582             676995   \n",
       "8  84650721            853355             824285             650202   \n",
       "3  40931528           2612285            2533914            1096917   \n",
       "0  16243270            144079             140361             113944   \n",
       "4  43840611           3014066            2937129            1157692   \n",
       "9  95674771           1211485            1182134             754469   \n",
       "2  25596802             86944              85854              71831   \n",
       "\n",
       "   total_click  total_revenue  revenue_zero_click  zero_click_count  \\\n",
       "6        40869    3269.125146           13.642094               183   \n",
       "5        27628    3191.668051          347.001882              8303   \n",
       "1       359318   51191.627809           94.127134               520   \n",
       "7        41647    2077.719197          277.298623               158   \n",
       "8        80681    2387.244188           45.339442               340   \n",
       "3        15626   21900.482256          634.990511              1361   \n",
       "0         2703    4245.317619         1140.932661               380   \n",
       "4        34894    5373.715967           73.607688              1994   \n",
       "9        35976    2868.401602           86.608267              1215   \n",
       "2         7901    4077.663850          125.797131               385   \n",
       "\n",
       "   click_rate  response_rate  percentage_zero_click  revenue_per_click  \n",
       "6    0.036341      69.434466               0.016272           8.035012  \n",
       "5    0.008768      78.365212               0.263518          16.515747  \n",
       "1    0.101950      91.400153               0.014754          14.267534  \n",
       "7    0.061517      96.567321               0.023338           5.007880  \n",
       "8    0.124086      96.593446               0.052291           2.971390  \n",
       "3    0.014245      96.999906               0.124075         153.525988  \n",
       "0    0.023722      97.419471               0.333497         182.751512  \n",
       "4    0.030141      97.447402               0.172239          16.333483  \n",
       "9    0.047684      97.577271               0.161040           8.251781  \n",
       "2    0.109994      98.746319               0.535980          54.253111  "
      ]
     },
     "execution_count": 102,
     "metadata": {},
     "output_type": "execute_result"
    }
   ],
   "source": [
    "animoly.sort_values(by=\"response_rate\")"
   ]
  },
  {
   "cell_type": "code",
   "execution_count": 103,
   "id": "dd53152e",
   "metadata": {
    "scrolled": true
   },
   "outputs": [
    {
     "data": {
      "text/html": [
       "<div>\n",
       "<style scoped>\n",
       "    .dataframe tbody tr th:only-of-type {\n",
       "        vertical-align: middle;\n",
       "    }\n",
       "\n",
       "    .dataframe tbody tr th {\n",
       "        vertical-align: top;\n",
       "    }\n",
       "\n",
       "    .dataframe thead th {\n",
       "        text-align: right;\n",
       "    }\n",
       "</style>\n",
       "<table border=\"1\" class=\"dataframe\">\n",
       "  <thead>\n",
       "    <tr style=\"text-align: right;\">\n",
       "      <th></th>\n",
       "      <th>app_id</th>\n",
       "      <th>total_reqs_count</th>\n",
       "      <th>total_respo_count</th>\n",
       "      <th>total_impre_count</th>\n",
       "      <th>total_click</th>\n",
       "      <th>total_revenue</th>\n",
       "      <th>revenue_zero_click</th>\n",
       "      <th>zero_click_count</th>\n",
       "      <th>click_rate</th>\n",
       "      <th>response_rate</th>\n",
       "      <th>percentage_zero_click</th>\n",
       "      <th>revenue_per_click</th>\n",
       "    </tr>\n",
       "  </thead>\n",
       "  <tbody>\n",
       "    <tr>\n",
       "      <th>0</th>\n",
       "      <td>16243270</td>\n",
       "      <td>144079</td>\n",
       "      <td>140361</td>\n",
       "      <td>113944</td>\n",
       "      <td>2703</td>\n",
       "      <td>4245.317619</td>\n",
       "      <td>1140.932661</td>\n",
       "      <td>380</td>\n",
       "      <td>0.023722</td>\n",
       "      <td>97.419471</td>\n",
       "      <td>0.333497</td>\n",
       "      <td>182.751512</td>\n",
       "    </tr>\n",
       "    <tr>\n",
       "      <th>1</th>\n",
       "      <td>22693095</td>\n",
       "      <td>10349859</td>\n",
       "      <td>9459787</td>\n",
       "      <td>3524462</td>\n",
       "      <td>359318</td>\n",
       "      <td>51191.627809</td>\n",
       "      <td>94.127134</td>\n",
       "      <td>520</td>\n",
       "      <td>0.101950</td>\n",
       "      <td>91.400153</td>\n",
       "      <td>0.014754</td>\n",
       "      <td>14.267534</td>\n",
       "    </tr>\n",
       "    <tr>\n",
       "      <th>2</th>\n",
       "      <td>25596802</td>\n",
       "      <td>86944</td>\n",
       "      <td>85854</td>\n",
       "      <td>71831</td>\n",
       "      <td>7901</td>\n",
       "      <td>4077.663850</td>\n",
       "      <td>125.797131</td>\n",
       "      <td>385</td>\n",
       "      <td>0.109994</td>\n",
       "      <td>98.746319</td>\n",
       "      <td>0.535980</td>\n",
       "      <td>54.253111</td>\n",
       "    </tr>\n",
       "    <tr>\n",
       "      <th>3</th>\n",
       "      <td>40931528</td>\n",
       "      <td>2612285</td>\n",
       "      <td>2533914</td>\n",
       "      <td>1096917</td>\n",
       "      <td>15626</td>\n",
       "      <td>21900.482256</td>\n",
       "      <td>634.990511</td>\n",
       "      <td>1361</td>\n",
       "      <td>0.014245</td>\n",
       "      <td>96.999906</td>\n",
       "      <td>0.124075</td>\n",
       "      <td>153.525988</td>\n",
       "    </tr>\n",
       "    <tr>\n",
       "      <th>4</th>\n",
       "      <td>43840611</td>\n",
       "      <td>3014066</td>\n",
       "      <td>2937129</td>\n",
       "      <td>1157692</td>\n",
       "      <td>34894</td>\n",
       "      <td>5373.715967</td>\n",
       "      <td>73.607688</td>\n",
       "      <td>1994</td>\n",
       "      <td>0.030141</td>\n",
       "      <td>97.447402</td>\n",
       "      <td>0.172239</td>\n",
       "      <td>16.333483</td>\n",
       "    </tr>\n",
       "    <tr>\n",
       "      <th>5</th>\n",
       "      <td>47862278</td>\n",
       "      <td>5965420</td>\n",
       "      <td>4674814</td>\n",
       "      <td>3150826</td>\n",
       "      <td>27628</td>\n",
       "      <td>3191.668051</td>\n",
       "      <td>347.001882</td>\n",
       "      <td>8303</td>\n",
       "      <td>0.008768</td>\n",
       "      <td>78.365212</td>\n",
       "      <td>0.263518</td>\n",
       "      <td>16.515747</td>\n",
       "    </tr>\n",
       "    <tr>\n",
       "      <th>6</th>\n",
       "      <td>63338696</td>\n",
       "      <td>2845293</td>\n",
       "      <td>1975614</td>\n",
       "      <td>1124600</td>\n",
       "      <td>40869</td>\n",
       "      <td>3269.125146</td>\n",
       "      <td>13.642094</td>\n",
       "      <td>183</td>\n",
       "      <td>0.036341</td>\n",
       "      <td>69.434466</td>\n",
       "      <td>0.016272</td>\n",
       "      <td>8.035012</td>\n",
       "    </tr>\n",
       "    <tr>\n",
       "      <th>7</th>\n",
       "      <td>66981243</td>\n",
       "      <td>998870</td>\n",
       "      <td>964582</td>\n",
       "      <td>676995</td>\n",
       "      <td>41647</td>\n",
       "      <td>2077.719197</td>\n",
       "      <td>277.298623</td>\n",
       "      <td>158</td>\n",
       "      <td>0.061517</td>\n",
       "      <td>96.567321</td>\n",
       "      <td>0.023338</td>\n",
       "      <td>5.007880</td>\n",
       "    </tr>\n",
       "    <tr>\n",
       "      <th>8</th>\n",
       "      <td>84650721</td>\n",
       "      <td>853355</td>\n",
       "      <td>824285</td>\n",
       "      <td>650202</td>\n",
       "      <td>80681</td>\n",
       "      <td>2387.244188</td>\n",
       "      <td>45.339442</td>\n",
       "      <td>340</td>\n",
       "      <td>0.124086</td>\n",
       "      <td>96.593446</td>\n",
       "      <td>0.052291</td>\n",
       "      <td>2.971390</td>\n",
       "    </tr>\n",
       "    <tr>\n",
       "      <th>9</th>\n",
       "      <td>95674771</td>\n",
       "      <td>1211485</td>\n",
       "      <td>1182134</td>\n",
       "      <td>754469</td>\n",
       "      <td>35976</td>\n",
       "      <td>2868.401602</td>\n",
       "      <td>86.608267</td>\n",
       "      <td>1215</td>\n",
       "      <td>0.047684</td>\n",
       "      <td>97.577271</td>\n",
       "      <td>0.161040</td>\n",
       "      <td>8.251781</td>\n",
       "    </tr>\n",
       "  </tbody>\n",
       "</table>\n",
       "</div>"
      ],
      "text/plain": [
       "     app_id  total_reqs_count  total_respo_count  total_impre_count  \\\n",
       "0  16243270            144079             140361             113944   \n",
       "1  22693095          10349859            9459787            3524462   \n",
       "2  25596802             86944              85854              71831   \n",
       "3  40931528           2612285            2533914            1096917   \n",
       "4  43840611           3014066            2937129            1157692   \n",
       "5  47862278           5965420            4674814            3150826   \n",
       "6  63338696           2845293            1975614            1124600   \n",
       "7  66981243            998870             964582             676995   \n",
       "8  84650721            853355             824285             650202   \n",
       "9  95674771           1211485            1182134             754469   \n",
       "\n",
       "   total_click  total_revenue  revenue_zero_click  zero_click_count  \\\n",
       "0         2703    4245.317619         1140.932661               380   \n",
       "1       359318   51191.627809           94.127134               520   \n",
       "2         7901    4077.663850          125.797131               385   \n",
       "3        15626   21900.482256          634.990511              1361   \n",
       "4        34894    5373.715967           73.607688              1994   \n",
       "5        27628    3191.668051          347.001882              8303   \n",
       "6        40869    3269.125146           13.642094               183   \n",
       "7        41647    2077.719197          277.298623               158   \n",
       "8        80681    2387.244188           45.339442               340   \n",
       "9        35976    2868.401602           86.608267              1215   \n",
       "\n",
       "   click_rate  response_rate  percentage_zero_click  revenue_per_click  \n",
       "0    0.023722      97.419471               0.333497         182.751512  \n",
       "1    0.101950      91.400153               0.014754          14.267534  \n",
       "2    0.109994      98.746319               0.535980          54.253111  \n",
       "3    0.014245      96.999906               0.124075         153.525988  \n",
       "4    0.030141      97.447402               0.172239          16.333483  \n",
       "5    0.008768      78.365212               0.263518          16.515747  \n",
       "6    0.036341      69.434466               0.016272           8.035012  \n",
       "7    0.061517      96.567321               0.023338           5.007880  \n",
       "8    0.124086      96.593446               0.052291           2.971390  \n",
       "9    0.047684      97.577271               0.161040           8.251781  "
      ]
     },
     "execution_count": 103,
     "metadata": {},
     "output_type": "execute_result"
    }
   ],
   "source": [
    "animoly"
   ]
  },
  {
   "cell_type": "code",
   "execution_count": 104,
   "id": "91a56a30",
   "metadata": {
    "scrolled": false
   },
   "outputs": [
    {
     "data": {
      "image/png": "[encoded data removed]",
      "text/plain": [
       "<Figure size 432x288 with 1 Axes>"
      ]
     },
     "metadata": {
      "needs_background": "light"
     },
     "output_type": "display_data"
    },
    {
     "name": "stdout",
     "output_type": "stream",
     "text": [
      "\n",
      "\n"
     ]
    },
    {
     "data": {
      "image/png": "[encoded data removed]",
      "text/plain": [
       "<Figure size 432x288 with 1 Axes>"
      ]
     },
     "metadata": {
      "needs_background": "light"
     },
     "output_type": "display_data"
    },
    {
     "name": "stdout",
     "output_type": "stream",
     "text": [
      "\n",
      "\n"
     ]
    },
    {
     "data": {
      "image/png": "[encoded data removed]",
      "text/plain": [
       "<Figure size 432x288 with 1 Axes>"
      ]
     },
     "metadata": {
      "needs_background": "light"
     },
     "output_type": "display_data"
    },
    {
     "name": "stdout",
     "output_type": "stream",
     "text": [
      "\n",
      "\n"
     ]
    },
    {
     "data": {
      "image/png": "[encoded data removed]",
      "text/plain": [
       "<Figure size 432x288 with 1 Axes>"
      ]
     },
     "metadata": {
      "needs_background": "light"
     },
     "output_type": "display_data"
    },
    {
     "name": "stdout",
     "output_type": "stream",
     "text": [
      "\n",
      "\n"
     ]
    },
    {
     "data": {
      "image/png": "[encoded data removed]",
      "text/plain": [
       "<Figure size 432x288 with 1 Axes>"
      ]
     },
     "metadata": {
      "needs_background": "light"
     },
     "output_type": "display_data"
    },
    {
     "name": "stdout",
     "output_type": "stream",
     "text": [
      "\n",
      "\n"
     ]
    },
    {
     "data": {
      "image/png": "[encoded data removed]",
      "text/plain": [
       "<Figure size 432x288 with 1 Axes>"
      ]
     },
     "metadata": {
      "needs_background": "light"
     },
     "output_type": "display_data"
    },
    {
     "name": "stdout",
     "output_type": "stream",
     "text": [
      "\n",
      "\n"
     ]
    },
    {
     "data": {
      "image/png": "[encoded data removed]",
      "text/plain": [
       "<Figure size 432x288 with 1 Axes>"
      ]
     },
     "metadata": {
      "needs_background": "light"
     },
     "output_type": "display_data"
    },
    {
     "name": "stdout",
     "output_type": "stream",
     "text": [
      "\n",
      "\n"
     ]
    },
    {
     "data": {
      "image/png": "[encoded data removed]",
      "text/plain": [
       "<Figure size 432x288 with 1 Axes>"
      ]
     },
     "metadata": {
      "needs_background": "light"
     },
     "output_type": "display_data"
    },
    {
     "name": "stdout",
     "output_type": "stream",
     "text": [
      "\n",
      "\n"
     ]
    },
    {
     "data": {
      "image/png": "[encoded data removed]",
      "text/plain": [
       "<Figure size 432x288 with 1 Axes>"
      ]
     },
     "metadata": {
      "needs_background": "light"
     },
     "output_type": "display_data"
    },
    {
     "name": "stdout",
     "output_type": "stream",
     "text": [
      "\n",
      "\n"
     ]
    },
    {
     "data": {
      "image/png": "[encoded data removed]",
      "text/plain": [
       "<Figure size 432x288 with 1 Axes>"
      ]
     },
     "metadata": {
      "needs_background": "light"
     },
     "output_type": "display_data"
    },
    {
     "name": "stdout",
     "output_type": "stream",
     "text": [
      "\n",
      "\n"
     ]
    }
   ],
   "source": [
    "for i in animoly.iloc[:,1:-1].columns:\n",
    "    animoly.plot.bar(x=\"app_id\", y=i)\n",
    "    plt.xticks(rotation = 25)\n",
    "    plt.show()\n",
    "    print(\"\\n\")"
   ]
  }
 ],
 "metadata": {
  "kernelspec": {
   "display_name": "Python 3 (ipykernel)",
   "language": "python",
   "name": "python3"
  },
  "language_info": {
   "codemirror_mode": {
    "name": "ipython",
    "version": 3
   },
   "file_extension": ".py",
   "mimetype": "text/x-python",
   "name": "python",
   "nbconvert_exporter": "python",
   "pygments_lexer": "ipython3",
   "version": "3.9.12"
  }
 },
 "nbformat": 4,
 "nbformat_minor": 5
}
